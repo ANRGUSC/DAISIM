{
 "cells": [
  {
   "cell_type": "code",
   "execution_count": 129,
   "metadata": {},
   "outputs": [],
   "source": [
    "import os\n",
    "from shutil import copyfile\n",
    "import itertools"
   ]
  },
  {
   "cell_type": "code",
   "execution_count": 130,
   "metadata": {},
   "outputs": [],
   "source": [
    "basedir = \"Experiments/FactorialExperiment/results\"\n",
    "experiment_basedir = \"Experiments/FactorialExperiment/analysis\""
   ]
  },
  {
   "cell_type": "code",
   "execution_count": 131,
   "metadata": {},
   "outputs": [],
   "source": [
    "experiments = os.listdir(basedir)"
   ]
  },
  {
   "cell_type": "code",
   "execution_count": 132,
   "metadata": {},
   "outputs": [],
   "source": [
    "variables = [\"mean_usd\", \"stddev_usd\", \"mean_dai\", \"stddev_dai\"]"
   ]
  },
  {
   "cell_type": "code",
   "execution_count": 133,
   "metadata": {},
   "outputs": [],
   "source": [
    "filter_var = variables[3]"
   ]
  },
  {
   "cell_type": "code",
   "execution_count": 216,
   "metadata": {},
   "outputs": [],
   "source": [
    "def get_filter_vars_from_path(path, filter_vars):\n",
    "    path_split = path[12:-1].split(',')\n",
    "        \n",
    "    var_dict = {}\n",
    "    \n",
    "    for i in path_split:\n",
    "        key, val = i.split(':')\n",
    "        var_dict[key] = val \n",
    "\n",
    "    return [var_dict[filter_var] for filter_var in filter_vars]\n",
    "\n",
    "def get_directory_name(filter_directory, filter_vars, filter_var_vals):\n",
    "    directory_name = \"\"\n",
    "    for k in range(len(filter_var_vals)):\n",
    "        directory_name += (filter_vars[k] + \":\" + filter_var_vals[k] + \" \")\n",
    "\n",
    "    directory_name = directory_name[:-1]\n",
    "    \n",
    "    return os.path.join(experiment_basedir, filter_directory, directory_name)\n",
    "    \n",
    "\n",
    "def filter_results(filter_vars):\n",
    "    filter_directory = \"filter:\" + \":\".join(filter_vars)\n",
    "        \n",
    "    # get possible variable values    \n",
    "    filter_val_list = []\n",
    "    for filter_var in filter_vars:\n",
    "        filter_val_list.append(list(set(sorted([get_filter_var_from_path(i, filter_var) for i in os.listdir(basedir)]))))    \n",
    "    \n",
    "    # construct temp directories for each var combination\n",
    "    for i in itertools.product(*filter_val_list):\n",
    "        os.makedirs(get_directory_name(filter_directory, filter_vars, i), exist_ok = True)\n",
    "        \n",
    "    # copy plots to respective directories\n",
    "    for i in os.listdir(basedir):\n",
    "        filter_var_vals = get_filter_vars_from_path(i, filter_vars)\n",
    "        \n",
    "        source = os.path.join(basedir, i, \"plots\", \"final_settling_price_txf_on_x_0.png\")\n",
    "        destination = os.path.join(get_directory_name(filter_directory, filter_vars, filter_var_vals), i + \".png\")\n",
    "        #print(source, destination)\n",
    "        copyfile(source, destination)"
   ]
  },
  {
   "cell_type": "markdown",
   "metadata": {},
   "source": [
    "### Filter Plots based on a variable list"
   ]
  },
  {
   "cell_type": "code",
   "execution_count": 219,
   "metadata": {},
   "outputs": [
    {
     "name": "stdout",
     "output_type": "stream",
     "text": [
      "['stddev_dai']\n",
      "['mean_dai']\n",
      "['mean_dai', 'stddev_dai']\n",
      "['stddev_usd']\n",
      "['stddev_usd', 'stddev_dai']\n",
      "['stddev_usd', 'mean_dai']\n",
      "['stddev_usd', 'mean_dai', 'stddev_dai']\n",
      "['mean_usd']\n",
      "['mean_usd', 'stddev_dai']\n",
      "['mean_usd', 'mean_dai']\n",
      "['mean_usd', 'mean_dai', 'stddev_dai']\n",
      "['mean_usd', 'stddev_usd']\n",
      "['mean_usd', 'stddev_usd', 'stddev_dai']\n",
      "['mean_usd', 'stddev_usd', 'mean_dai']\n"
     ]
    }
   ],
   "source": [
    "for i in range(1, 15):\n",
    "    var_list = []\n",
    "    for k in range(4):\n",
    "        if format(i, '04b')[k] == '1':\n",
    "            var_list.append(variables[k])\n",
    "    filter_results(var_list)"
   ]
  },
  {
   "cell_type": "code",
   "execution_count": null,
   "metadata": {},
   "outputs": [],
   "source": []
  },
  {
   "cell_type": "code",
   "execution_count": null,
   "metadata": {},
   "outputs": [],
   "source": []
  }
 ],
 "metadata": {
  "kernelspec": {
   "display_name": "venv",
   "language": "python",
   "name": "venv"
  },
  "language_info": {
   "codemirror_mode": {
    "name": "ipython",
    "version": 3
   },
   "file_extension": ".py",
   "mimetype": "text/x-python",
   "name": "python",
   "nbconvert_exporter": "python",
   "pygments_lexer": "ipython3",
   "version": "3.8.2"
  }
 },
 "nbformat": 4,
 "nbformat_minor": 4
}
