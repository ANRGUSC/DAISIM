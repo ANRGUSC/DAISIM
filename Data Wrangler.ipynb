{
 "cells": [
  {
   "cell_type": "code",
   "execution_count": 17,
   "metadata": {},
   "outputs": [],
   "source": [
    "import os\n",
    "from shutil import copyfile\n",
    "import itertools"
   ]
  },
  {
   "cell_type": "code",
   "execution_count": 18,
   "metadata": {},
   "outputs": [],
   "source": [
    "basedir = \"Experiments/TXF_0.01/logs\"\n",
    "experiment_basedir = \"Experiments/TXF_0.01/analysis\""
   ]
  },
  {
   "cell_type": "code",
   "execution_count": 19,
   "metadata": {},
   "outputs": [],
   "source": [
    "experiments = os.listdir(basedir)"
   ]
  },
  {
   "cell_type": "code",
   "execution_count": 20,
   "metadata": {},
   "outputs": [],
   "source": [
    "variables = [\"mean_usd\", \"stddev_usd\", \"mean_dai\", \"stddev_dai\"]"
   ]
  },
  {
   "cell_type": "code",
   "execution_count": 21,
   "metadata": {},
   "outputs": [],
   "source": [
    "filter_var = variables[3]"
   ]
  },
  {
   "cell_type": "code",
   "execution_count": 22,
   "metadata": {},
   "outputs": [],
   "source": [
    "def get_filter_vars_from_path(path, filter_vars):\n",
    "    path_split = path[12:-1].split(',')\n",
    "        \n",
    "    var_dict = {}\n",
    "    \n",
    "    for i in path_split:\n",
    "        key, val = i.split(':')\n",
    "        var_dict[key] = val \n",
    "\n",
    "    return [var_dict[filter_var] for filter_var in filter_vars]\n",
    "\n",
    "def get_directory_name(filter_directory, filter_vars, filter_var_vals):\n",
    "    directory_name = \"\"\n",
    "    for k in range(len(filter_var_vals)):\n",
    "        directory_name += (filter_vars[k] + \":\" + filter_var_vals[k] + \" \")\n",
    "\n",
    "    directory_name = directory_name[:-1]\n",
    "    \n",
    "    return os.path.join(experiment_basedir, filter_directory, directory_name)\n",
    "    \n",
    "\n",
    "def filter_results(filter_vars):\n",
    "    filter_directory = \"filter:\" + \":\".join(filter_vars)\n",
    "        \n",
    "    # get possible variable values    \n",
    "    filter_val_list = []\n",
    "    for filter_var in filter_vars:\n",
    "        filter_val_list.append(list(set(sorted([get_filter_vars_from_path(i, [filter_var])[0] for i in os.listdir(basedir)]))))    \n",
    "    \n",
    "    # construct temp directories for each var combination\n",
    "    for i in itertools.product(*filter_val_list):\n",
    "        os.makedirs(get_directory_name(filter_directory, filter_vars, i), exist_ok = True)\n",
    "        \n",
    "    # copy plots to respective directories\n",
    "    for i in os.listdir(basedir):\n",
    "        filter_var_vals = get_filter_vars_from_path(i, filter_vars)\n",
    "        \n",
    "        source = os.path.join(basedir, i, \"plots\", \"final_settling_price_txf_on_x_0.png\")\n",
    "        destination = os.path.join(get_directory_name(filter_directory, filter_vars, filter_var_vals), i + \".png\")\n",
    "        #print(source, destination)\n",
    "        copyfile(source, destination)"
   ]
  },
  {
   "cell_type": "markdown",
   "metadata": {},
   "source": [
    "### Filter Plots based on a variable list"
   ]
  },
  {
   "cell_type": "code",
   "execution_count": 23,
   "metadata": {
    "scrolled": true
   },
   "outputs": [],
   "source": [
    "for i in range(1, 15):\n",
    "    var_list = []\n",
    "    for k in range(4):\n",
    "        if format(i, '04b')[k] == '1':\n",
    "            var_list.append(variables[k])\n",
    "    filter_results(var_list)"
   ]
  },
  {
   "cell_type": "markdown",
   "metadata": {},
   "source": [
    "### Filter plots based on risk and percentage of risky investors"
   ]
  },
  {
   "cell_type": "code",
   "execution_count": 24,
   "metadata": {},
   "outputs": [],
   "source": [
    "investor_count = 10\n",
    "asset_curve_plot_name = \"asset_curve_cdp_rate_0.02_run_0.jpeg\""
   ]
  },
  {
   "cell_type": "code",
   "execution_count": 25,
   "metadata": {},
   "outputs": [],
   "source": [
    "def get_risk_param_from_path(path):\n",
    "    risk_bitmask = get_filter_vars_from_path(path, [\"risk_bitmask\"])[0]\n",
    "    return list(risk_bitmask)\n",
    "    \n",
    "def is_bit_set(risk_bitmask, bit_number):\n",
    "    return risk_bitmask[bit_number] == '1'\n",
    "\n",
    "def percentage_unset_bits(risk_bitmask):\n",
    "    return round((risk_bitmask.count('0') / len(risk_bitmask)) * 100, 2)\n",
    "\n",
    "def filter_results_by_risk(num_investors):\n",
    "    filter_directory = \"filter:risk\"\n",
    "    \n",
    "    # generate risk directories\n",
    "    for i in range(num_investors):\n",
    "        os.makedirs(os.path.join(experiment_basedir, filter_directory, \"risk:investor_\" + str(i) + \"_high\"), exist_ok=True)\n",
    "        os.makedirs(os.path.join(experiment_basedir, filter_directory, \"risk:investor_\" + str(i) + \"_low\"), exist_ok = True)\n",
    "    \n",
    "    for perc in [round((100 * i) / num_investors, 2) for i in range(0, num_investors + 1)]:\n",
    "        os.makedirs(os.path.join(experiment_basedir, filter_directory, \"risk:\" + str(perc) + \"_perc_hi_risk\"), exist_ok = True)\n",
    "        \n",
    "    # copy plots to respective directories\n",
    "    for i in os.listdir(basedir):\n",
    "        risk_bitmask = get_risk_param_from_path(i)    \n",
    "        source = os.path.join(basedir, i, \"plots\", asset_curve_plot_name)\n",
    "        \n",
    "        # copy to required precentage directory\n",
    "        perc_hi_risk = percentage_unset_bits(risk_bitmask)\n",
    "        perc_hi_risk_destination = os.path.join(experiment_basedir, filter_directory, \"risk:\" + str(perc_hi_risk) + \"_perc_hi_risk\", i + \".jpeg\")\n",
    "        \n",
    "        copyfile(source, perc_hi_risk_destination)    \n",
    "            \n",
    "        for inv in range(num_investors):\n",
    "            is_set = is_bit_set(risk_bitmask, inv)\n",
    "            \n",
    "            if is_set:\n",
    "                    destination = os.path.join(experiment_basedir, filter_directory, \"risk:investor_\" + str(inv) + \"_high\", i + \".jpeg\")\n",
    "                    copyfile(source, destination)\n",
    "        \n",
    "        \n",
    "        for inv in range(num_investors):\n",
    "            is_set = is_bit_set(risk_bitmask, inv)\n",
    "            \n",
    "            if not is_set:\n",
    "                    destination = os.path.join(experiment_basedir, filter_directory, \"risk:investor_\" + str(inv) + \"_low\", i + \".jpeg\")\n",
    "                    copyfile(source, destination)"
   ]
  },
  {
   "cell_type": "code",
   "execution_count": 26,
   "metadata": {
    "scrolled": true
   },
   "outputs": [],
   "source": [
    "filter_results_by_risk(investor_count)"
   ]
  },
  {
   "cell_type": "markdown",
   "metadata": {},
   "source": [
    "### Filter plots based on percentage of risky investors"
   ]
  },
  {
   "cell_type": "code",
   "execution_count": null,
   "metadata": {},
   "outputs": [],
   "source": []
  }
 ],
 "metadata": {
  "kernelspec": {
   "display_name": "venv",
   "language": "python",
   "name": "venv"
  },
  "language_info": {
   "codemirror_mode": {
    "name": "ipython",
    "version": 3
   },
   "file_extension": ".py",
   "mimetype": "text/x-python",
   "name": "python",
   "nbconvert_exporter": "python",
   "pygments_lexer": "ipython3",
   "version": "3.8.5"
  }
 },
 "nbformat": 4,
 "nbformat_minor": 4
}
