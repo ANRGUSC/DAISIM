{
 "cells": [
  {
   "cell_type": "code",
   "execution_count": 1,
   "metadata": {},
   "outputs": [],
   "source": [
    "import os\n",
    "from shutil import copyfile\n",
    "import itertools"
   ]
  },
  {
   "cell_type": "code",
   "execution_count": 13,
   "metadata": {},
   "outputs": [],
   "source": [
    "basedir = \"Experiments/CDP_HiExp/logs\"\n",
    "experiment_basedir = \"Experiments/CDP_HiExp/analysis\""
   ]
  },
  {
   "cell_type": "code",
   "execution_count": 14,
   "metadata": {},
   "outputs": [],
   "source": [
    "experiments = os.listdir(basedir)"
   ]
  },
  {
   "cell_type": "code",
   "execution_count": 15,
   "metadata": {},
   "outputs": [],
   "source": [
    "variables = [\"mean_usd\", \"stddev_usd\", \"mean_dai\", \"stddev_dai\"]"
   ]
  },
  {
   "cell_type": "code",
   "execution_count": 16,
   "metadata": {},
   "outputs": [],
   "source": [
    "filter_var = variables[3]"
   ]
  },
  {
   "cell_type": "code",
   "execution_count": 6,
   "metadata": {},
   "outputs": [],
   "source": [
    "def get_filter_vars_from_path(path, filter_vars):\n",
    "    path_split = path[12:-1].split(',')\n",
    "        \n",
    "    var_dict = {}\n",
    "    \n",
    "    for i in path_split:\n",
    "        key, val = i.split(':')\n",
    "        var_dict[key] = val \n",
    "\n",
    "    return [var_dict[filter_var] for filter_var in filter_vars]\n",
    "\n",
    "def get_directory_name(filter_directory, filter_vars, filter_var_vals):\n",
    "    directory_name = \"\"\n",
    "    for k in range(len(filter_var_vals)):\n",
    "        directory_name += (filter_vars[k] + \":\" + filter_var_vals[k] + \" \")\n",
    "\n",
    "    directory_name = directory_name[:-1]\n",
    "    \n",
    "    return os.path.join(experiment_basedir, filter_directory, directory_name)\n",
    "    \n",
    "\n",
    "def filter_results(filter_vars):\n",
    "    filter_directory = \"filter:\" + \":\".join(filter_vars)\n",
    "        \n",
    "    # get possible variable values    \n",
    "    filter_val_list = []\n",
    "    for filter_var in filter_vars:\n",
    "        filter_val_list.append(list(set(sorted([get_filter_vars_from_path(i, [filter_var])[0] for i in os.listdir(basedir)]))))    \n",
    "    \n",
    "    # construct temp directories for each var combination\n",
    "    for i in itertools.product(*filter_val_list):\n",
    "        os.makedirs(get_directory_name(filter_directory, filter_vars, i), exist_ok = True)\n",
    "        \n",
    "    # copy plots to respective directories\n",
    "    for i in os.listdir(basedir):\n",
    "        filter_var_vals = get_filter_vars_from_path(i, filter_vars)\n",
    "        \n",
    "        source = os.path.join(basedir, i, \"plots\", \"final_settling_price_txf_on_x_0.png\")\n",
    "        destination = os.path.join(get_directory_name(filter_directory, filter_vars, filter_var_vals), i + \".png\")\n",
    "        #print(source, destination)\n",
    "        copyfile(source, destination)"
   ]
  },
  {
   "cell_type": "markdown",
   "metadata": {},
   "source": [
    "### Filter Plots based on a variable list"
   ]
  },
  {
   "cell_type": "code",
   "execution_count": 7,
   "metadata": {
    "scrolled": true
   },
   "outputs": [
    {
     "ename": "FileNotFoundError",
     "evalue": "[Errno 2] No such file or directory: 'Experiments/CDP_MidExp/logs/experiment_{mean_usd:1000.0,stddev_usd:166.67,mean_dai:1000.0,stddev_dai:166.67,risk_bitmask:1101100000}/plots/final_settling_price_txf_on_x_0.png'",
     "output_type": "error",
     "traceback": [
      "\u001b[0;31m---------------------------------------------------------------------------\u001b[0m",
      "\u001b[0;31mFileNotFoundError\u001b[0m                         Traceback (most recent call last)",
      "\u001b[0;32m<ipython-input-7-db73379c39db>\u001b[0m in \u001b[0;36m<module>\u001b[0;34m\u001b[0m\n\u001b[1;32m      4\u001b[0m         \u001b[0;32mif\u001b[0m \u001b[0mformat\u001b[0m\u001b[0;34m(\u001b[0m\u001b[0mi\u001b[0m\u001b[0;34m,\u001b[0m \u001b[0;34m'04b'\u001b[0m\u001b[0;34m)\u001b[0m\u001b[0;34m[\u001b[0m\u001b[0mk\u001b[0m\u001b[0;34m]\u001b[0m \u001b[0;34m==\u001b[0m \u001b[0;34m'1'\u001b[0m\u001b[0;34m:\u001b[0m\u001b[0;34m\u001b[0m\u001b[0;34m\u001b[0m\u001b[0m\n\u001b[1;32m      5\u001b[0m             \u001b[0mvar_list\u001b[0m\u001b[0;34m.\u001b[0m\u001b[0mappend\u001b[0m\u001b[0;34m(\u001b[0m\u001b[0mvariables\u001b[0m\u001b[0;34m[\u001b[0m\u001b[0mk\u001b[0m\u001b[0;34m]\u001b[0m\u001b[0;34m)\u001b[0m\u001b[0;34m\u001b[0m\u001b[0;34m\u001b[0m\u001b[0m\n\u001b[0;32m----> 6\u001b[0;31m     \u001b[0mfilter_results\u001b[0m\u001b[0;34m(\u001b[0m\u001b[0mvar_list\u001b[0m\u001b[0;34m)\u001b[0m\u001b[0;34m\u001b[0m\u001b[0;34m\u001b[0m\u001b[0m\n\u001b[0m",
      "\u001b[0;32m<ipython-input-6-4663706c7378>\u001b[0m in \u001b[0;36mfilter_results\u001b[0;34m(filter_vars)\u001b[0m\n\u001b[1;32m     39\u001b[0m         \u001b[0mdestination\u001b[0m \u001b[0;34m=\u001b[0m \u001b[0mos\u001b[0m\u001b[0;34m.\u001b[0m\u001b[0mpath\u001b[0m\u001b[0;34m.\u001b[0m\u001b[0mjoin\u001b[0m\u001b[0;34m(\u001b[0m\u001b[0mget_directory_name\u001b[0m\u001b[0;34m(\u001b[0m\u001b[0mfilter_directory\u001b[0m\u001b[0;34m,\u001b[0m \u001b[0mfilter_vars\u001b[0m\u001b[0;34m,\u001b[0m \u001b[0mfilter_var_vals\u001b[0m\u001b[0;34m)\u001b[0m\u001b[0;34m,\u001b[0m \u001b[0mi\u001b[0m \u001b[0;34m+\u001b[0m \u001b[0;34m\".png\"\u001b[0m\u001b[0;34m)\u001b[0m\u001b[0;34m\u001b[0m\u001b[0;34m\u001b[0m\u001b[0m\n\u001b[1;32m     40\u001b[0m         \u001b[0;31m#print(source, destination)\u001b[0m\u001b[0;34m\u001b[0m\u001b[0;34m\u001b[0m\u001b[0;34m\u001b[0m\u001b[0m\n\u001b[0;32m---> 41\u001b[0;31m         \u001b[0mcopyfile\u001b[0m\u001b[0;34m(\u001b[0m\u001b[0msource\u001b[0m\u001b[0;34m,\u001b[0m \u001b[0mdestination\u001b[0m\u001b[0;34m)\u001b[0m\u001b[0;34m\u001b[0m\u001b[0;34m\u001b[0m\u001b[0m\n\u001b[0m",
      "\u001b[0;32m/usr/lib/python3.8/shutil.py\u001b[0m in \u001b[0;36mcopyfile\u001b[0;34m(src, dst, follow_symlinks)\u001b[0m\n\u001b[1;32m    259\u001b[0m         \u001b[0mos\u001b[0m\u001b[0;34m.\u001b[0m\u001b[0msymlink\u001b[0m\u001b[0;34m(\u001b[0m\u001b[0mos\u001b[0m\u001b[0;34m.\u001b[0m\u001b[0mreadlink\u001b[0m\u001b[0;34m(\u001b[0m\u001b[0msrc\u001b[0m\u001b[0;34m)\u001b[0m\u001b[0;34m,\u001b[0m \u001b[0mdst\u001b[0m\u001b[0;34m)\u001b[0m\u001b[0;34m\u001b[0m\u001b[0;34m\u001b[0m\u001b[0m\n\u001b[1;32m    260\u001b[0m     \u001b[0;32melse\u001b[0m\u001b[0;34m:\u001b[0m\u001b[0;34m\u001b[0m\u001b[0;34m\u001b[0m\u001b[0m\n\u001b[0;32m--> 261\u001b[0;31m         \u001b[0;32mwith\u001b[0m \u001b[0mopen\u001b[0m\u001b[0;34m(\u001b[0m\u001b[0msrc\u001b[0m\u001b[0;34m,\u001b[0m \u001b[0;34m'rb'\u001b[0m\u001b[0;34m)\u001b[0m \u001b[0;32mas\u001b[0m \u001b[0mfsrc\u001b[0m\u001b[0;34m,\u001b[0m \u001b[0mopen\u001b[0m\u001b[0;34m(\u001b[0m\u001b[0mdst\u001b[0m\u001b[0;34m,\u001b[0m \u001b[0;34m'wb'\u001b[0m\u001b[0;34m)\u001b[0m \u001b[0;32mas\u001b[0m \u001b[0mfdst\u001b[0m\u001b[0;34m:\u001b[0m\u001b[0;34m\u001b[0m\u001b[0;34m\u001b[0m\u001b[0m\n\u001b[0m\u001b[1;32m    262\u001b[0m             \u001b[0;31m# macOS\u001b[0m\u001b[0;34m\u001b[0m\u001b[0;34m\u001b[0m\u001b[0;34m\u001b[0m\u001b[0m\n\u001b[1;32m    263\u001b[0m             \u001b[0;32mif\u001b[0m \u001b[0m_HAS_FCOPYFILE\u001b[0m\u001b[0;34m:\u001b[0m\u001b[0;34m\u001b[0m\u001b[0;34m\u001b[0m\u001b[0m\n",
      "\u001b[0;31mFileNotFoundError\u001b[0m: [Errno 2] No such file or directory: 'Experiments/CDP_MidExp/logs/experiment_{mean_usd:1000.0,stddev_usd:166.67,mean_dai:1000.0,stddev_dai:166.67,risk_bitmask:1101100000}/plots/final_settling_price_txf_on_x_0.png'"
     ]
    }
   ],
   "source": [
    "for i in range(1, 15):\n",
    "    var_list = []\n",
    "    for k in range(4):\n",
    "        if format(i, '04b')[k] == '1':\n",
    "            var_list.append(variables[k])\n",
    "    filter_results(var_list)"
   ]
  },
  {
   "cell_type": "markdown",
   "metadata": {},
   "source": [
    "### Filter plots based on risk and percentage of risky investors"
   ]
  },
  {
   "cell_type": "code",
   "execution_count": 17,
   "metadata": {},
   "outputs": [],
   "source": [
    "investor_count = 10\n",
    "asset_curve_plot_name = \"asset_curve_cdp_rate_0.1_run_0.jpeg\""
   ]
  },
  {
   "cell_type": "code",
   "execution_count": 18,
   "metadata": {},
   "outputs": [],
   "source": [
    "def get_risk_param_from_path(path):\n",
    "    risk_bitmask = get_filter_vars_from_path(path, [\"risk_bitmask\"])[0]\n",
    "    return list(risk_bitmask)\n",
    "    \n",
    "def is_bit_set(risk_bitmask, bit_number):\n",
    "    return risk_bitmask[bit_number] == '1'\n",
    "\n",
    "def percentage_unset_bits(risk_bitmask):\n",
    "    return round((risk_bitmask.count('0') / len(risk_bitmask)) * 100, 2)\n",
    "\n",
    "def filter_results_by_risk(num_investors):\n",
    "    filter_directory = \"filter:risk\"\n",
    "    \n",
    "    # generate risk directories\n",
    "    for i in range(num_investors):\n",
    "        os.makedirs(os.path.join(experiment_basedir, filter_directory, \"risk:investor_\" + str(i) + \"_high\"), exist_ok=True)\n",
    "        os.makedirs(os.path.join(experiment_basedir, filter_directory, \"risk:investor_\" + str(i) + \"_low\"), exist_ok = True)\n",
    "    \n",
    "    for perc in [round((100 * i) / num_investors, 2) for i in range(0, num_investors + 1)]:\n",
    "        os.makedirs(os.path.join(experiment_basedir, filter_directory, \"risk:\" + str(perc) + \"_perc_hi_risk\"), exist_ok = True)\n",
    "        \n",
    "    # copy plots to respective directories\n",
    "    for i in os.listdir(basedir):\n",
    "        risk_bitmask = get_risk_param_from_path(i)    \n",
    "        source = os.path.join(basedir, i, \"plots\", asset_curve_plot_name)\n",
    "        \n",
    "        # copy to required precentage directory\n",
    "        perc_hi_risk = percentage_unset_bits(risk_bitmask)\n",
    "        perc_hi_risk_destination = os.path.join(experiment_basedir, filter_directory, \"risk:\" + str(perc_hi_risk) + \"_perc_hi_risk\", i + \".jpeg\")\n",
    "        \n",
    "        copyfile(source, perc_hi_risk_destination)    \n",
    "            \n",
    "        for inv in range(num_investors):\n",
    "            is_set = is_bit_set(risk_bitmask, inv)\n",
    "            \n",
    "            if is_set:\n",
    "                    destination = os.path.join(experiment_basedir, filter_directory, \"risk:investor_\" + str(inv) + \"_high\", i + \".jpeg\")\n",
    "                    copyfile(source, destination)\n",
    "        \n",
    "        \n",
    "        for inv in range(num_investors):\n",
    "            is_set = is_bit_set(risk_bitmask, inv)\n",
    "            \n",
    "            if not is_set:\n",
    "                    destination = os.path.join(experiment_basedir, filter_directory, \"risk:investor_\" + str(inv) + \"_low\", i + \".jpeg\")\n",
    "                    copyfile(source, destination)"
   ]
  },
  {
   "cell_type": "code",
   "execution_count": 19,
   "metadata": {
    "scrolled": true
   },
   "outputs": [],
   "source": [
    "filter_results_by_risk(investor_count)"
   ]
  },
  {
   "cell_type": "markdown",
   "metadata": {},
   "source": [
    "### Filter plots based on percentage of risky investors"
   ]
  },
  {
   "cell_type": "code",
   "execution_count": null,
   "metadata": {},
   "outputs": [],
   "source": []
  }
 ],
 "metadata": {
  "kernelspec": {
   "display_name": "venv",
   "language": "python",
   "name": "venv"
  },
  "language_info": {
   "codemirror_mode": {
    "name": "ipython",
    "version": 3
   },
   "file_extension": ".py",
   "mimetype": "text/x-python",
   "name": "python",
   "nbconvert_exporter": "python",
   "pygments_lexer": "ipython3",
   "version": "3.8.5"
  }
 },
 "nbformat": 4,
 "nbformat_minor": 4
}
