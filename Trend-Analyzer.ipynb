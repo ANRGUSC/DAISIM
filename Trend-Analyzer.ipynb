{
 "cells": [
  {
   "cell_type": "code",
   "execution_count": 7,
   "metadata": {},
   "outputs": [],
   "source": [
    "import os\n",
    "import pickle\n",
    "from collections import defaultdict, OrderedDict\n",
    "import numpy as np\n",
    "import matplotlib.pyplot as mp\n",
    "import tikzplotlib\n",
    "import math"
   ]
  },
  {
   "cell_type": "code",
   "execution_count": 3,
   "metadata": {},
   "outputs": [],
   "source": [
    "basedir = \"Experiments/CDPExperiment_Hi_Txf/AssetsLo/logs\"\n",
    "experiment_basedir = \"Experiments/CDPExperiment_Lo_Txf/AssetsLo/analysis\""
   ]
  },
  {
   "cell_type": "code",
   "execution_count": 4,
   "metadata": {},
   "outputs": [],
   "source": [
    "def getvars(path):\n",
    "    base_path = experiment.split('{')[1][:-1]\n",
    "    \n",
    "    s = base_path.split(',')\n",
    "    \n",
    "    var_dict = {}\n",
    "    \n",
    "    for i in s:\n",
    "        a,b = i.split(':')\n",
    "        var_dict[a] = float(b)\n",
    "        \n",
    "    return var_dict"
   ]
  },
  {
   "cell_type": "code",
   "execution_count": 9,
   "metadata": {},
   "outputs": [],
   "source": [
    "inc = 0\n",
    "dec = 0\n",
    "concave = 0\n",
    "convex = 0\n",
    "\n",
    "mean_usd = defaultdict(dict)\n",
    "mean_dai = defaultdict(dict)\n",
    "stddev_usd = defaultdict(dict)\n",
    "stddev_dai = defaultdict(dict)\n",
    "\n",
    "def get_type(a,b,c, path):\n",
    "    global inc, dec, concave, convex, mean_dai, mean_usd, stddev_usd, stddev_dai\n",
    "    var_dict = getvars(path)\n",
    "    key = 'other'\n",
    "    if a < b < c:\n",
    "        inc += 1\n",
    "        key = 'increasing'\n",
    "    elif a > b > c:\n",
    "        dec += 1\n",
    "        key = 'decreasing'\n",
    "    elif a < b > c:\n",
    "        concave += 1\n",
    "        key = 'concave'\n",
    "    elif a > b < c :\n",
    "        convex += 1\n",
    "        key = 'convex'\n",
    "        \n",
    "    try:\n",
    "        mean_dai[var_dict['mean_dai']][key] += 1\n",
    "        mean_usd[var_dict['mean_usd']][key] += 1\n",
    "        stddev_usd[var_dict['stddev_usd']][key] += 1\n",
    "        stddev_dai[var_dict['stddev_dai']][key] += 1\n",
    "    except KeyError:\n",
    "        mean_dai[var_dict['mean_dai']][key] = 1\n",
    "        mean_usd[var_dict['mean_usd']][key] = 1\n",
    "        stddev_usd[var_dict['stddev_usd']][key] = 1\n",
    "        stddev_dai[var_dict['stddev_dai']][key] = 1    "
   ]
  },
  {
   "cell_type": "code",
   "execution_count": 10,
   "metadata": {},
   "outputs": [],
   "source": [
    "for experiment in os.listdir(basedir):\n",
    "    infile = open(basedir + \"/\" + experiment + \"/sim-summary.pickle\", 'rb')\n",
    "    a,b,c,d, _, _ = pickle.load(infile)\n",
    "    get_type(d[0], d[6],d[-1], experiment)\n",
    "    infile.close()"
   ]
  },
  {
   "cell_type": "code",
   "execution_count": 11,
   "metadata": {},
   "outputs": [
    {
     "name": "stdout",
     "output_type": "stream",
     "text": [
      "0 0 0 0\n"
     ]
    }
   ],
   "source": [
    "print(inc, dec, convex, concave)"
   ]
  },
  {
   "cell_type": "code",
   "execution_count": 127,
   "metadata": {},
   "outputs": [],
   "source": [
    "def print_dict(var_dict, name):\n",
    "    print(name)\n",
    "    for i in sorted(var_dict):\n",
    "        temp = []\n",
    "        for k in sorted(var_dict[i]):\n",
    "            temp.append(k + \":\" + str(var_dict[i][k]) + \" \")\n",
    "        \n",
    "        print(i , \",\".join(temp))\n",
    "    print()    \n",
    "\n",
    "def print_dicts():\n",
    "    print_dict(mean_usd, \"Mean USD\")\n",
    "    print_dict(stddev_usd, \"Stddev USD\")\n",
    "    print_dict(mean_dai, \"Mean DAI\")\n",
    "    print_dict(stddev_dai, \"Stddev DAI\")"
   ]
  },
  {
   "cell_type": "code",
   "execution_count": 128,
   "metadata": {},
   "outputs": [
    {
     "name": "stdout",
     "output_type": "stream",
     "text": [
      "Mean USD\n",
      "100.0 concave:4 ,convex:55 ,decreasing:7 ,increasing:44 ,other:3 \n",
      "325.0 concave:2 ,convex:65 ,decreasing:29 ,increasing:24 ,other:1 \n",
      "550.0 concave:3 ,convex:58 ,decreasing:38 ,increasing:21 ,other:1 \n",
      "775.0 concave:5 ,convex:49 ,decreasing:45 ,increasing:17 ,other:2 \n",
      "1000.0 concave:8 ,convex:44 ,decreasing:48 ,increasing:19 \n",
      "\n",
      "Stddev USD\n",
      "30.0 concave:4 ,convex:63 ,decreasing:32 ,increasing:22 ,other:1 \n",
      "64.1675 concave:2 ,convex:56 ,decreasing:31 ,increasing:26 \n",
      "98.335 concave:6 ,convex:56 ,decreasing:31 ,increasing:27 ,other:1 \n",
      "132.5025 concave:4 ,convex:58 ,decreasing:39 ,increasing:20 ,other:2 \n",
      "166.67 concave:8 ,convex:42 ,decreasing:38 ,increasing:31 ,other:2 \n",
      "\n",
      "Mean DAI\n",
      "100.0 concave:11 ,convex:10 ,decreasing:72 ,increasing:19 ,other:2 \n",
      "325.0 concave:9 ,convex:39 ,decreasing:30 ,increasing:43 ,other:1 \n",
      "550.0 convex:69 ,decreasing:22 ,increasing:31 ,other:1 \n",
      "775.0 concave:1 ,convex:81 ,decreasing:21 ,increasing:20 \n",
      "1000.0 concave:3 ,convex:74 ,decreasing:24 ,increasing:14 ,other:3 \n",
      "\n",
      "Stddev DAI\n",
      "30.0 concave:1 ,convex:62 ,decreasing:39 ,increasing:20 \n",
      "64.1675 concave:6 ,convex:64 ,decreasing:26 ,increasing:22 ,other:2 \n",
      "98.335 concave:6 ,convex:56 ,decreasing:34 ,increasing:26 \n",
      "132.5025 concave:5 ,convex:42 ,decreasing:36 ,increasing:35 ,other:2 \n",
      "166.67 concave:7 ,convex:50 ,decreasing:33 ,increasing:23 ,other:1 \n",
      "\n"
     ]
    }
   ],
   "source": [
    "print_dicts()"
   ]
  },
  {
   "cell_type": "markdown",
   "metadata": {},
   "source": [
    "### Asset Curve Variance Analysis (Not for multiple runs)"
   ]
  },
  {
   "cell_type": "code",
   "execution_count": 8,
   "metadata": {},
   "outputs": [],
   "source": [
    "def process_plots(risk_basedir, plot_var):\n",
    "\n",
    "    for basedir in sorted(os.listdir(risk_basedir)):\n",
    "        risk_string = basedir.split('_')[-1]\n",
    "        \n",
    "        if \"perc\" in basedir:\n",
    "            continue\n",
    "\n",
    "        investor_id = int(basedir[14])\n",
    "\n",
    "        plot_title  = \"\"\n",
    "\n",
    "        log = False\n",
    "        \n",
    "        if risk_string == 'low':\n",
    "            print(\"Investor\" , investor_id, \" More Risky\")\n",
    "            plot_title = \"Investor \" + str(investor_id) +  \":More Risky\"\n",
    "        else:\n",
    "            print(\"Investor\" , investor_id, \" Less Risky\")\n",
    "            plot_title = \"Investor \" + str(investor_id) +  \":Less Risky\"\n",
    "\n",
    "        result_matrix = defaultdict(list)\n",
    "\n",
    "        for asset_curve_plot_name in os.listdir(os.path.join(risk_basedir, basedir)):\n",
    "            infile = open(os.path.join(experiment_basedir, asset_curve_plot_name[:-5], \"sim-summary.pickle\"), 'rb')\n",
    "                        \n",
    "            # Some data wrangling\n",
    "            cdp_axis, txf_axis, run_axis, dai_price_history_axis, asset_history_axis, risk_params = pickle.load(infile)\n",
    "\n",
    "            usd = defaultdict(list)\n",
    "            eth = defaultdict(list)\n",
    "            dai = defaultdict(list)\n",
    "            ceth = defaultdict(list)\n",
    "\n",
    "            cdp_rates = set()\n",
    "\n",
    "            for cdp, txf, daip, a_h in zip(cdp_axis, txf_axis, dai_price_history_axis, asset_history_axis):\n",
    "                for i in range(num_investors):\n",
    "                        if i == investor_id:\n",
    "                            result_matrix[(cdp, txf, i, risk_string, \"usd\")].append((a_h[-1][i][0] - a_h[0][i][0], asset_curve_plot_name, daip))\n",
    "                            result_matrix[(cdp, txf, i, risk_string, \"eth\")].append((a_h[-1][i][1] - a_h[0][i][1], asset_curve_plot_name, daip))\n",
    "                            result_matrix[(cdp, txf, i, risk_string, \"dai\")].append((a_h[-1][i][2] - a_h[0][i][2], asset_curve_plot_name, daip))\n",
    "                            result_matrix[(cdp, txf, i, risk_string, \"ceth\")].append((a_h[-1][i][3] - a_h[0][i][3], asset_curve_plot_name, daip))\n",
    "\n",
    "            infile.close()\n",
    "\n",
    "        asset_filters = [\"dai\", \"eth\", \"ceth\"]\n",
    "        \n",
    "                \n",
    "        plot_vars = set()\n",
    "\n",
    "        for asset_filter in asset_filters:\n",
    "            os.makedirs(os.path.join(plot_dir, asset_filter), exist_ok=True)\n",
    "            os.makedirs(os.path.join(plot_dir, \"dai_price\"), exist_ok=True)\n",
    "\n",
    "            # Plot variables for Y\n",
    "            asset_change_mean_plot = []\n",
    "            asset_change_stddev_plot = []\n",
    "\n",
    "            maxi_plot = []\n",
    "            mini_plot = []\n",
    "\n",
    "            dai_price_mean_plot = []\n",
    "            dai_price_stddev_plot = []\n",
    "\n",
    "            #print(\"DAI Change Analysis\")\n",
    "            for dict_key in result_matrix:\n",
    "                \n",
    "                should_add = False\n",
    "                \n",
    "                if plot_var == \"Tx Fee\" and dict_key[0] == 0.06:\n",
    "                    should_add = True\n",
    "                elif plot_var == \"CDP Rate\" and dict_key[1] == 0.01:\n",
    "                    should_add = True\n",
    "                \n",
    "                if should_add:\n",
    "                    value_projection = [i[0] for i in result_matrix[dict_key]]\n",
    "                    experiment_projection = [i[1] for i in result_matrix[dict_key]]\n",
    "                    daip_projection = [i[2] for i in result_matrix[dict_key]]\n",
    "\n",
    "                    if plot_var == \"Tx Fee\":\n",
    "                        plot_vars.add(dict_key[1])\n",
    "                    else:\n",
    "                        plot_vars.add(dict_key[0])\n",
    "\n",
    "                    if dict_key[4] == asset_filter:\n",
    "                        asset_mean = round(np.mean(value_projection), 4)\n",
    "                        asset_stddev = round(np.std(value_projection), 4)\n",
    "\n",
    "                        asset_change_mean_plot.append(asset_mean)\n",
    "                        asset_change_stddev_plot.append(asset_stddev)\n",
    "\n",
    "                        mean_dai_price = round(np.mean(daip_projection), 4)\n",
    "                        stddev_dai_price = round(np.std(daip_projection), 4)\n",
    "\n",
    "                        dai_price_mean_plot.append(mean_dai_price)\n",
    "                        dai_price_stddev_plot.append(stddev_dai_price)\n",
    "\n",
    "                        if log:\n",
    "                            print(\"CDP Rate:\", dict_key[0], \", Tx Fee:\", dict_key[1])\n",
    "                            print(\"Mean Change:\", asset_mean , \", Stddev Change:\", asset_stddev)\n",
    "                            print(\"Mean DAI Price:\", mean_dai_price, \", Stddev DAI Price:\", stddev_dai_price)\n",
    "\n",
    "                        positive = np.count_nonzero([i >= 0 for i in value_projection])\n",
    "                        negative = np.count_nonzero([i < 0 for i in value_projection])\n",
    "\n",
    "                        if log:\n",
    "                            print(\"Positive:\", positive, \", Negative:\", negative)\n",
    "\n",
    "                        # Print Min and Max\n",
    "                        min_idx = value_projection.index(min(value_projection))\n",
    "                        max_idx = value_projection.index(max(value_projection))\n",
    "\n",
    "                        maxi_plot.append(value_projection[max_idx])\n",
    "                        mini_plot.append(value_projection[min_idx])\n",
    "\n",
    "                        if log:\n",
    "                            print(\"Minimum Experiment:\" , value_projection[min_idx], \", risk_bitmask:\", experiment_projection[min_idx][-16:-6])\n",
    "                            print(\"Maximum Experiment:\", value_projection[max_idx], \", risk_bitmask:\", experiment_projection[max_idx][-16:-6])\n",
    "\n",
    "                        if log:\n",
    "                            print()\n",
    "\n",
    "            # Plot Mean, Min, Max, Stddev DAI Change\n",
    "            plot_var_list = sorted(list(plot_vars))\n",
    "            \n",
    "            print(plot_var_list, asset_change_mean_plot)\n",
    "\n",
    "            mp.errorbar(plot_var_list, asset_change_mean_plot, yerr = asset_change_stddev_plot, marker='o')\n",
    "            mp.plot(plot_var_list, maxi_plot, marker = 'o')\n",
    "            mp.plot(plot_var_list, mini_plot, marker = 'o')\n",
    "            mp.title(plot_title + \" \" + \" | Mean \" + asset_filter.upper() + \" Change v/s \" + plot_var)\n",
    "            mp.xlabel(plot_var)\n",
    "            mp.ylabel(asset_filter.upper() + \" Change\")\n",
    "\n",
    "            plot_name = plot_dir + \"/\" + asset_filter + \"/\" + plot_title + \"-Mean \" + asset_filter.upper() + \"-Change-\" + plot_var \n",
    "\n",
    "            mp.savefig(plot_name + \".jpg\")\n",
    "            tikzplotlib.save(plot_name + \".tex\")\n",
    "            mp.clf()\n",
    "\n",
    "            # Plot Mean, Stddev DAI Price\n",
    "            mp.errorbar(plot_var_list, dai_price_mean_plot, yerr = dai_price_stddev_plot, marker='o')\n",
    "            mp.xlabel(plot_var)\n",
    "            mp.ylabel(\"DAI Price\")\n",
    "            mp.title(plot_title + \" \" + \" | Mean DAI Price\")\n",
    "\n",
    "            plot_name = plot_dir + \"/dai_price/\" + plot_title + \"-Mean DAI Price\"\n",
    "            mp.savefig(plot_name + \".jpg\")\n",
    "            tikzplotlib.save(plot_name + \".tex\")\n",
    "            mp.clf()\n",
    "\n",
    "\n",
    "            if log:\n",
    "                print()"
   ]
  },
  {
   "cell_type": "code",
   "execution_count": 23,
   "metadata": {},
   "outputs": [],
   "source": [
    "for i in os.listdir(\"Experiments/SampleExp2/logs\"):\n",
    "    infile = open(\"Experiments/SampleExp2/logs/\" + i + \"/sim-summary.pickle\", 'rb')\n",
    "    \n",
    "    try:\n",
    "        cdp_axis, txf_axis, run_axis, dai_price_history_axis, asset_history_axis, risk_params = pickle.load(infile)\n",
    "    except:\n",
    "        print(i)"
   ]
  },
  {
   "cell_type": "code",
   "execution_count": 4,
   "metadata": {},
   "outputs": [],
   "source": [
    "plot_main_dir = \"NewPlots\"\n",
    "os.makedirs(plot_main_dir, exist_ok=True)"
   ]
  },
  {
   "cell_type": "code",
   "execution_count": 9,
   "metadata": {},
   "outputs": [
    {
     "name": "stdout",
     "output_type": "stream",
     "text": [
      "Investor 0  Less Risky\n",
      "[0.01, 0.02, 0.03, 0.04, 0.05, 0.06, 0.07, 0.08, 0.09] [-73.8882, -74.8798, -75.7897, -76.7868, -80.0619, -81.2537, -78.5916, -76.1104, -74.5073]\n",
      "[0.01, 0.02, 0.03, 0.04, 0.05, 0.06, 0.07, 0.08, 0.09] [0.0, 0.0, 0.0, 0.0, 0.0, 0.0005, 0.047, 0.0944, 0.1283]\n",
      "[0.01, 0.02, 0.03, 0.04, 0.05, 0.06, 0.07, 0.08, 0.09] [0.2909, 0.2773, 0.2636, 0.2496, 0.2361, 0.2203, 0.1393, 0.0573, 0.0]\n",
      "Investor 0  More Risky\n",
      "[0.01, 0.02, 0.03, 0.04, 0.05, 0.06, 0.07, 0.08, 0.09] [-1.7374, -1.1059, -0.4843, 0.8953, 3.3831, 2.3043, 0.8845, -0.4199, -1.0969]\n",
      "[0.01, 0.02, 0.03, 0.04, 0.05, 0.06, 0.07, 0.08, 0.09] [0.0, 0.0, 0.0, 0.0325, 0.1836, 0.2219, 0.2215, 0.2209, 0.2203]\n",
      "[0.01, 0.02, 0.03, 0.04, 0.05, 0.06, 0.07, 0.08, 0.09] [0.5093, 0.4616, 0.4141, 0.3218, 0.0656, 0.0, 0.0, 0.0, 0.0]\n",
      "Investor 1  Less Risky\n",
      "[0.01, 0.02, 0.03, 0.04, 0.05, 0.06, 0.07, 0.08, 0.09] [-17.4045, -18.4002, -19.3749, -20.4426, -23.6796, -24.6253, -22.4406, -20.418, -19.8382]\n",
      "[0.01, 0.02, 0.03, 0.04, 0.05, 0.06, 0.07, 0.08, 0.09] [0.0, 0.0, 0.0, 0.0, 0.0, 0.0061, 0.0537, 0.1013, 0.1248]\n",
      "[0.01, 0.02, 0.03, 0.04, 0.05, 0.06, 0.07, 0.08, 0.09] [0.2878, 0.2734, 0.2586, 0.244, 0.229, 0.2037, 0.1212, 0.0386, 0.0]\n",
      "Investor 1  More Risky\n",
      "[0.01, 0.02, 0.03, 0.04, 0.05, 0.06, 0.07, 0.08, 0.09] [47.6278, 49.022, 50.3252, 51.5522, 55.737, 56.7678, 54.7352, 52.5272, 50.9474]\n",
      "[0.01, 0.02, 0.03, 0.04, 0.05, 0.06, 0.07, 0.08, 0.09] [0.0, 0.0, 0.0, 0.0025, 0.1572, 0.2332, 0.2333, 0.2332, 0.2332]\n",
      "[0.01, 0.02, 0.03, 0.04, 0.05, 0.06, 0.07, 0.08, 0.09] [0.5445, 0.496, 0.4473, 0.3947, 0.1298, 0.0, 0.0, 0.0, 0.0]\n",
      "Investor 2  Less Risky\n",
      "[0.01, 0.02, 0.03, 0.04, 0.05, 0.06, 0.07, 0.08, 0.09] [-39.5295, -40.5294, -41.4627, -42.4231, -45.6536, -46.3562, -43.8285, -41.4822, -41.1999]\n",
      "[0.01, 0.02, 0.03, 0.04, 0.05, 0.06, 0.07, 0.08, 0.09] [0.0, 0.0, 0.0, 0.0, 0.0, 0.0098, 0.0574, 0.105, 0.1226]\n",
      "[0.01, 0.02, 0.03, 0.04, 0.05, 0.06, 0.07, 0.08, 0.09] [0.2812, 0.2672, 0.2527, 0.2381, 0.2235, 0.1935, 0.1111, 0.0288, 0.0]\n",
      "Investor 2  More Risky\n",
      "[0.01, 0.02, 0.03, 0.04, 0.05, 0.06, 0.07, 0.08, 0.09] [22.891, 24.5546, 26.059, 28.2185, 32.7609, 32.5491, 30.5555, 28.3877, 26.8066]\n",
      "[0.01, 0.02, 0.03, 0.04, 0.05, 0.06, 0.07, 0.08, 0.09] [0.0, 0.0, 0.0, 0.016, 0.1699, 0.2274, 0.2274, 0.2274, 0.2274]\n",
      "[0.01, 0.02, 0.03, 0.04, 0.05, 0.06, 0.07, 0.08, 0.09] [0.528, 0.4794, 0.4312, 0.3597, 0.0971, 0.0, 0.0, 0.0, 0.0]\n",
      "Investor 3  Less Risky\n",
      "[0.01, 0.02, 0.03, 0.04, 0.05, 0.06, 0.07, 0.08, 0.09] [-46.3336, -47.2596, -48.1124, -49.0028, -52.1105, -52.6826, -50.0917, -47.6798, -47.6055]\n",
      "[0.01, 0.02, 0.03, 0.04, 0.05, 0.06, 0.07, 0.08, 0.09] [0.0, 0.0, 0.0, 0.0, 0.0, 0.0118, 0.0594, 0.1069, 0.1214]\n",
      "[0.01, 0.02, 0.03, 0.04, 0.05, 0.06, 0.07, 0.08, 0.09] [0.2782, 0.2643, 0.2498, 0.2353, 0.2208, 0.188, 0.1056, 0.0233, 0.0]\n",
      "Investor 3  More Risky\n",
      "[0.01, 0.02, 0.03, 0.04, 0.05, 0.06, 0.07, 0.08, 0.09] [16.2497, 17.9413, 19.5355, 21.8147, 26.515, 25.8542, 23.9213, 21.84, 20.2994]\n",
      "[0.01, 0.02, 0.03, 0.04, 0.05, 0.06, 0.07, 0.08, 0.09] [0.0, 0.0, 0.0, 0.0208, 0.175, 0.2247, 0.2246, 0.2246, 0.2245]\n",
      "[0.01, 0.02, 0.03, 0.04, 0.05, 0.06, 0.07, 0.08, 0.09] [0.5214, 0.4731, 0.4247, 0.3473, 0.0838, 0.0, 0.0, 0.0, 0.0]\n",
      "Investor 4  Less Risky\n",
      "[0.01, 0.02, 0.03, 0.04, 0.05, 0.06, 0.07, 0.08, 0.09] [-20.04, -21.2503, -22.4072, -23.6584, -27.2668, -28.7038, -26.7074, -24.7057, -22.8532]\n",
      "[0.01, 0.02, 0.03, 0.04, 0.05, 0.06, 0.07, 0.08, 0.09] [0.0, 0.0, 0.0, 0.0, 0.0, 0.0, 0.0407, 0.0883, 0.1322]\n",
      "[0.01, 0.02, 0.03, 0.04, 0.05, 0.06, 0.07, 0.08, 0.09] [0.3039, 0.29, 0.2752, 0.2607, 0.2461, 0.2307, 0.1568, 0.0742, 0.0004]\n",
      "Investor 4  More Risky\n",
      "[0.01, 0.02, 0.03, 0.04, 0.05, 0.06, 0.07, 0.08, 0.09] [44.6487, 45.8645, 46.953, 47.8731, 51.4748, 53.3714, 51.2227, 48.8974, 47.3414]\n",
      "[0.01, 0.02, 0.03, 0.04, 0.05, 0.06, 0.07, 0.08, 0.09] [0.0, 0.0, 0.0, 0.0, 0.1472, 0.2408, 0.2408, 0.2408, 0.2408]\n",
      "[0.01, 0.02, 0.03, 0.04, 0.05, 0.06, 0.07, 0.08, 0.09] [0.5587, 0.51, 0.4618, 0.4128, 0.1576, 0.0, 0.0, 0.0, 0.0]\n",
      "Investor 5  Less Risky\n",
      "[0.01, 0.02, 0.03, 0.04, 0.05, 0.06, 0.07, 0.08, 0.09] [-23.5824, -25.062, -26.4983, -28.0142, -32.1407, -33.7546, -32.4876, -30.5254, -28.2544]\n",
      "[0.01, 0.02, 0.03, 0.04, 0.05, 0.06, 0.07, 0.08, 0.09] [0.0, 0.0, 0.0, 0.0, 0.0, 0.0, 0.0236, 0.0712, 0.1187]\n",
      "[0.01, 0.02, 0.03, 0.04, 0.05, 0.06, 0.07, 0.08, 0.09] [0.3242, 0.3106, 0.2964, 0.2822, 0.2682, 0.2532, 0.2036, 0.1211, 0.0387]\n",
      "Investor 5  More Risky\n",
      "[0.01, 0.02, 0.03, 0.04, 0.05, 0.06, 0.07, 0.08, 0.09] [40.5918, 41.5226, 42.3948, 43.0142, 45.5529, 48.9287, 46.5715, 44.0896, 42.4759]\n",
      "[0.01, 0.02, 0.03, 0.04, 0.05, 0.06, 0.07, 0.08, 0.09] [0.0, 0.0, 0.0, 0.0, 0.1336, 0.2491, 0.2492, 0.2493, 0.2493]\n",
      "[0.01, 0.02, 0.03, 0.04, 0.05, 0.06, 0.07, 0.08, 0.09] [0.5773, 0.5287, 0.4801, 0.4316, 0.1957, 0.0, 0.0, 0.0, 0.0]\n",
      "Investor 6  Less Risky\n",
      "[0.01, 0.02, 0.03, 0.04, 0.05, 0.06, 0.07, 0.08, 0.09] [-63.5256, -64.8912, -66.1869, -67.5644, -71.4891, -73.0429, -71.3713, -69.0642, -66.4726]\n",
      "[0.01, 0.02, 0.03, 0.04, 0.05, 0.06, 0.07, 0.08, 0.09] [0.0, 0.0, 0.0, 0.0, 0.0, 0.0, 0.0287, 0.0761, 0.1235]\n",
      "[0.01, 0.02, 0.03, 0.04, 0.05, 0.06, 0.07, 0.08, 0.09] [0.3139, 0.3005, 0.2869, 0.2731, 0.26, 0.2457, 0.1895, 0.1075, 0.0256]\n",
      "Investor 6  More Risky\n",
      "[0.01, 0.02, 0.03, 0.04, 0.05, 0.06, 0.07, 0.08, 0.09] [3.1812, 4.0362, 4.8188, 5.7421, 8.4751, 9.1886, 7.303, 5.611, 4.5624]\n",
      "[0.01, 0.02, 0.03, 0.04, 0.05, 0.06, 0.07, 0.08, 0.09] [0.0, 0.0, 0.0, 0.008, 0.1603, 0.2358, 0.2355, 0.235, 0.2346]\n",
      "[0.01, 0.02, 0.03, 0.04, 0.05, 0.06, 0.07, 0.08, 0.09] [0.5425, 0.4944, 0.4465, 0.3872, 0.1281, 0.0, 0.0, 0.0, 0.0]\n",
      "Investor 7  Less Risky\n",
      "[0.01, 0.02, 0.03, 0.04, 0.05, 0.06, 0.07, 0.08, 0.09] [-18.8098, -19.8858, -20.9389, -22.0717, -25.4658, -26.642, -24.4657, -22.4334, -21.377]\n",
      "[0.01, 0.02, 0.03, 0.04, 0.05, 0.06, 0.07, 0.08, 0.09] [0.0, 0.0, 0.0, 0.0, 0.0, 0.0013, 0.0488, 0.0965, 0.1276]\n",
      "[0.01, 0.02, 0.03, 0.04, 0.05, 0.06, 0.07, 0.08, 0.09] [0.2938, 0.2796, 0.2649, 0.2502, 0.2354, 0.217, 0.1345, 0.0519, 0.0]\n",
      "Investor 7  More Risky\n",
      "[0.01, 0.02, 0.03, 0.04, 0.05, 0.06, 0.07, 0.08, 0.09] [45.9938, 47.354, 48.5702, 49.6075, 53.4569, 54.9916, 52.9145, 50.6673, 49.0912]\n",
      "[0.01, 0.02, 0.03, 0.04, 0.05, 0.06, 0.07, 0.08, 0.09] [0.0, 0.0, 0.0, 0.0, 0.1523, 0.2361, 0.2361, 0.2361, 0.2361]\n",
      "[0.01, 0.02, 0.03, 0.04, 0.05, 0.06, 0.07, 0.08, 0.09] [0.5498, 0.501, 0.4525, 0.4035, 0.1432, 0.0, 0.0, 0.0, 0.0]\n",
      "Investor 8  Less Risky\n",
      "[0.01, 0.02, 0.03, 0.04, 0.05, 0.06, 0.07, 0.08, 0.09] [-7.7407, -8.9494, -10.0763, -11.2466, -14.6131, -15.9827, -14.2188, -12.4099, -10.5981]\n",
      "[0.01, 0.02, 0.03, 0.04, 0.05, 0.06, 0.07, 0.08, 0.09] [0.0, 0.0, 0.0, 0.0, 0.0, 0.0, 0.0393, 0.087, 0.1318]\n",
      "[0.01, 0.02, 0.03, 0.04, 0.05, 0.06, 0.07, 0.08, 0.09] [0.3059, 0.2922, 0.2777, 0.2626, 0.2476, 0.2322, 0.1599, 0.0774, 0.0015]\n",
      "Investor 8  More Risky\n",
      "[0.01, 0.02, 0.03, 0.04, 0.05, 0.06, 0.07, 0.08, 0.09] [59.6043, 60.5398, 61.7099, 62.1938, 65.8995, 68.3637, 66.1958, 63.8644, 62.2988]\n",
      "[0.01, 0.02, 0.03, 0.04, 0.05, 0.06, 0.07, 0.08, 0.09] [0.0, 0.0, 0.0, 0.0, 0.1431, 0.2414, 0.2414, 0.2414, 0.2414]\n",
      "[0.01, 0.02, 0.03, 0.04, 0.05, 0.06, 0.07, 0.08, 0.09] [0.5668, 0.5191, 0.4686, 0.4227, 0.1682, 0.0, 0.0, 0.0, 0.0]\n",
      "Investor 9  Less Risky\n",
      "[0.01, 0.02, 0.03, 0.04, 0.05, 0.06, 0.07, 0.08, 0.09] [-16.8879, -18.2412, -19.5162, -20.8837, -24.726, -26.2571, -24.8042, -22.9166, -20.7142]\n",
      "[0.01, 0.02, 0.03, 0.04, 0.05, 0.06, 0.07, 0.08, 0.09] [0.0, 0.0, 0.0, 0.0, 0.0, 0.0, 0.0293, 0.077, 0.1246]\n",
      "[0.01, 0.02, 0.03, 0.04, 0.05, 0.06, 0.07, 0.08, 0.09] [0.318, 0.3045, 0.2899, 0.2754, 0.2609, 0.2457, 0.1876, 0.105, 0.0225]\n",
      "Investor 9  More Risky\n",
      "[0.01, 0.02, 0.03, 0.04, 0.05, 0.06, 0.07, 0.08, 0.09] [48.691, 49.6195, 50.4814, 51.1829, 53.952, 56.9814, 54.7034, 52.2807, 50.694]\n",
      "[0.01, 0.02, 0.03, 0.04, 0.05, 0.06, 0.07, 0.08, 0.09] [0.0, 0.0, 0.0, 0.0, 0.1361, 0.2474, 0.2474, 0.2474, 0.2474]\n",
      "[0.01, 0.02, 0.03, 0.04, 0.05, 0.06, 0.07, 0.08, 0.09] [0.5737, 0.5252, 0.477, 0.4281, 0.188, 0.0, 0.0, 0.0, 0.0]\n"
     ]
    },
    {
     "data": {
      "text/plain": [
       "<Figure size 432x288 with 0 Axes>"
      ]
     },
     "metadata": {},
     "output_type": "display_data"
    }
   ],
   "source": [
    "exp_names = [\"CDPExperiment_Hi_Txf/AssetsHi\", \"CDPExperiment_Lo_Txf/AssetsHi\", \"CDP_HiExp\", \"CDP_MidExp\", \"CDP_0.06\", \"TXF_0.01\"]\n",
    "exp_plot_dir_names = [\"{txf:0.14,cdp:vary}\", \"{txf:0.01,cdp:vary}\", \"{txf:vary,cdp:0.1}\", \"{txf:vary,cdp:0.06}\",\"cdp_fix_0.06\", \"txf_fix_0.01\"]\n",
    "plot_vars = [\"CDP Rate\", \"CDP Rate\", \"Tx Fee\", \"Tx Fee\", \"Tx Fee\", \"CDP Rate\"]\n",
    "\n",
    "\n",
    "exp_selectors = [5]\n",
    "\n",
    "for exp_selector in exp_selectors:\n",
    "    exp_name = exp_names[exp_selector]\n",
    "\n",
    "    risk_basedir = \"Experiments/\" + exp_name + \"/analysis/filter:risk\"\n",
    "    experiment_basedir = \"Experiments/\" + exp_name + \"/logs\"\n",
    "\n",
    "    os.listdir(risk_basedir)\n",
    "\n",
    "    num_investors = 10\n",
    "\n",
    "    plot_dir = os.path.join(plot_main_dir, exp_plot_dir_names[exp_selector])\n",
    "    os.makedirs(plot_dir, exist_ok=True)\n",
    "    \n",
    "    process_plots(risk_basedir, plot_vars[exp_selector])"
   ]
  },
  {
   "cell_type": "code",
   "execution_count": 48,
   "metadata": {
    "scrolled": true
   },
   "outputs": [],
   "source": []
  },
  {
   "cell_type": "markdown",
   "metadata": {},
   "source": [
    "## Market Size Plots"
   ]
  },
  {
   "cell_type": "code",
   "execution_count": 11,
   "metadata": {},
   "outputs": [
    {
     "data": {
      "text/plain": [
       "[<matplotlib.lines.Line2D at 0x7f6d0a1ad5e0>]"
      ]
     },
     "execution_count": 11,
     "metadata": {},
     "output_type": "execute_result"
    },
    {
     "data": {
      "image/png": "[encoded data removed]",
      "text/plain": [
       "<Figure size 432x288 with 1 Axes>"
      ]
     },
     "metadata": {
      "needs_background": "light"
     },
     "output_type": "display_data"
    }
   ],
   "source": [
    "basedir = \"Experiments/MDay/logs\"\n",
    "\n",
    "\n",
    "\n",
    "pos = {10:0, 25:1, 50:2, 75:3, 100:4}\n",
    "\n",
    "data_y = [0 for i in range(5)]\n",
    "data_x = [10, 25, 50, 75, 100]\n",
    "\n",
    "for logdir in os.listdir(basedir):\n",
    "    sim_plot_dir = os.path.join(basedir, logdir, \"sim-summary.pickle\")\n",
    "    \n",
    "    infile = open(sim_plot_dir, 'rb')\n",
    "    cdp_axis, txf_axis, run_axis, dai_price_history_axis, asset_history_axis, risk_params = pickle.load(infile)\n",
    "    \n",
    "    cdp_rate = 0.06\n",
    "    txfee = 0.02\n",
    "    \n",
    "    for cdp, txf, daip, a_h in zip(cdp_axis, txf_axis, dai_price_history_axis, asset_history_axis):\n",
    "            if cdp == cdp_rate and txf == txfee:\n",
    "                print(daip)\n",
    "                data_y[pos[int(logdir.split('n:')[-1][:-1])]] = daip\n",
    "            \n",
    "            infile.close()\n",
    "\n",
    "mp.plot(data_x, data_y)\n",
    "    "
   ]
  },
  {
   "cell_type": "code",
   "execution_count": 12,
   "metadata": {},
   "outputs": [
    {
     "data": {
      "image/png": "[encoded data removed]",
      "text/plain": [
       "<Figure size 432x288 with 2 Axes>"
      ]
     },
     "metadata": {
      "needs_background": "light"
     },
     "output_type": "display_data"
    }
   ],
   "source": [
    "eth_price = [130,140,150,170,190,200,210,220,300,360,450,500,550,620,550,440,390,320,250,200,190,130,120,100,120,80,160,180,200,220,240,250,100,80,50]\n",
    "\n",
    "\n",
    "experiment_dir = \"Experiments/MDay/logs/experiment_{mean_usd:325.0,stddev_usd:30.0,mean_dai:300.0,stddev_dai:30.0,n:10}/sim-summary.pickle\"\n",
    "\n",
    "infile = open(experiment_dir, 'rb')\n",
    "cdp_axis, txf_axis, run_axis, dai_price_history_axis, asset_history_axis, risk_params = pickle.load(infile)\n",
    "\n",
    "infile.close()\n",
    "\n",
    "fig, ax1 = mp.subplots()\n",
    "\n",
    "# generate an axis with numbers 1 -> number of days\n",
    "days_axis = [i for i in range(1, len(dai_price_history_axis[0]) + 1)]\n",
    "\n",
    "txf_filter_axis = []\n",
    "dai_price_history_filter_axis = []\n",
    "\n",
    "# Apply the CDP Rate Filter\n",
    "for i in range(len(cdp_axis)):\n",
    "    if cdp_axis[i] == cdp_rate:\n",
    "        txf_filter_axis.append(txf_axis[i])\n",
    "        dai_price_history_filter_axis.append(dai_price_history_axis[i])\n",
    "\n",
    "dai_price = []\n",
    "for k in range(0, len(txf_filter_axis)):\n",
    "    x_d = days_axis\n",
    "    y_d = dai_price_history_filter_axis[k]\n",
    "    \n",
    "    dai_price = y_d\n",
    "    \n",
    "    ax1.plot(x_d, y_d, label=\"DAI\", marker='o',  linewidth=2)\n",
    "    \n",
    "    break\n",
    "\n",
    "fig.suptitle(\"DAI Price History for CDP Rate =\" + str(cdp_rate), fontsize=20)\n",
    "ax1.set_xlabel(\"Days\", fontsize=14)\n",
    "ax1.set_ylabel(\"Settling DAI Price\", fontsize=14)\n",
    "\n",
    "ax2 = ax1.twinx()\n",
    "\n",
    "color = 'tab:red'\n",
    "ax2.set_ylabel(\"ETH Price\", fontsize=14)  # we already handled the x-label with ax1\n",
    "ax2.plot(days_axis, eth_price, label = \"ETH\" ,marker='o', color=color, linewidth=2)\n",
    "ax2.tick_params(axis='y')\n",
    "\n",
    "mp.legend()\n",
    "\n",
    "tikzplotlib.save(\"price_hist_2.tex\")\n",
    "mp.show()\n"
   ]
  },
  {
   "cell_type": "code",
   "execution_count": 7,
   "metadata": {},
   "outputs": [],
   "source": [
    "days = [i for i in range(1, len(eth_price) + 1)]"
   ]
  },
  {
   "cell_type": "code",
   "execution_count": 13,
   "metadata": {},
   "outputs": [
    {
     "data": {
      "image/png": "[encoded data removed]",
      "text/plain": [
       "<Figure size 432x288 with 1 Axes>"
      ]
     },
     "metadata": {
      "needs_background": "light"
     },
     "output_type": "display_data"
    }
   ],
   "source": [
    "mp.scatter(eth_price, dai_price, marker='o')\n",
    "mp.xlabel(\"ETH Price\")\n",
    "mp.ylabel(\"DAI Price\")\n",
    "mp.ylim(0.6,0.85)\n",
    "\n",
    "tikzplotlib.save(\"price_hist_corr2.tex\")\n",
    "mp.show()"
   ]
  },
  {
   "cell_type": "markdown",
   "metadata": {},
   "source": [
    "### Factorial Exp Analysis\n",
    "\n",
    "r_s = 0.06\n",
    "txf = 0.02"
   ]
  },
  {
   "cell_type": "code",
   "execution_count": 9,
   "metadata": {},
   "outputs": [],
   "source": [
    "def get_filter_vars_from_path(path, filter_vars):\n",
    "    path_split = path[12:-1].split(',')\n",
    "        \n",
    "    var_dict = {}\n",
    "    \n",
    "    for i in path_split:\n",
    "        key, val = i.split(':')\n",
    "        var_dict[key] = val \n",
    "\n",
    "    return [var_dict[filter_var] for filter_var in filter_vars]\n",
    "\n",
    "def percentage_unset_bits(risk_bitmask):\n",
    "    return round((risk_bitmask.count('0') / len(risk_bitmask)) * 100, 2)\n"
   ]
  },
  {
   "cell_type": "code",
   "execution_count": 12,
   "metadata": {},
   "outputs": [
    {
     "data": {
      "text/plain": [
       "<Figure size 432x288 with 0 Axes>"
      ]
     },
     "metadata": {},
     "output_type": "display_data"
    }
   ],
   "source": [
    "experiment_dir = \"Experiments/FactExp50Risk/logs\"\n",
    "plot_dir = \"Experiments/FactExp50Risk/plots\"\n",
    "\n",
    "os.makedirs(plot_dir, exist_ok=True)\n",
    "\n",
    "cdp_rate = 0.06 \n",
    "txf = 0.02\n",
    "\n",
    "filter_vars = ['mean_usd', 'mean_dai', 'stddev_dai', 'stddev_usd']\n",
    "\n",
    "dai_var_list = [30, 64, 98, 132, 166]\n",
    "usd_var_list = [30, 64, 98, 132, 166]\n",
    "\n",
    "dai_var_list = [30, 166]\n",
    "usd_var_list = [30, 166]\n",
    "\n",
    "for dai_var in dai_var_list:\n",
    "    for usd_var in usd_var_list:\n",
    "\n",
    "        plot_dict_usd = defaultdict(list)\n",
    "        plot_dict_dai = defaultdict(list)\n",
    "\n",
    "        for logdir in os.listdir(experiment_dir):\n",
    "\n",
    "            summary_file = os.path.join(experiment_dir, logdir, \"sim-summary.pickle\")\n",
    "\n",
    "            infile = open(summary_file, 'rb')\n",
    "            cdp_axis, txf_axis, run_axis, dai_price_history_axis, asset_history_axis, risk_params = pickle.load(infile)\n",
    "            infile.close()\n",
    "\n",
    "            dai_price = dai_price_history_axis[0]\n",
    "\n",
    "            filtered_vars = get_filter_vars_from_path(logdir, filter_vars)\n",
    "\n",
    "            if math.floor(float(filtered_vars[2])) == dai_var and math.floor(float(filtered_vars[3])) == usd_var:\n",
    "                plot_dict_usd[float(filtered_vars[0])].append((dai_price, float(filtered_vars[1])))\n",
    "                plot_dict_dai[float(filtered_vars[1])].append((dai_price, float(filtered_vars[0])))\n",
    "\n",
    "        for plot_dict_key in sorted(plot_dict_usd.keys()):\n",
    "            plot_dict_usd[plot_dict_key] = sorted(plot_dict_usd[plot_dict_key], key = lambda x : x[1])\n",
    "\n",
    "            x = [i[1] for i in plot_dict_usd[plot_dict_key]]\n",
    "            y = [i[0] for i in plot_dict_usd[plot_dict_key]]\n",
    "\n",
    "            mp.ylabel(\"Settling DAI Price\")\n",
    "            mp.xlabel(\"Mean DAI\")\n",
    "            mp.title(\"Stddev USD: \" + str(usd_var) + \", Stddev DAI: \" + str(dai_var))\n",
    "            mp.plot(x,y, marker='o', label=\"Mean USD: \" + str(plot_dict_key))\n",
    "        \n",
    "        plot_title = \"Stddev USD: \" + str(usd_var) + \", Stddev DAI: \" + str(dai_var) + \"_mean_dai_on_x\"\n",
    "        \n",
    "        mp.legend()\n",
    "        mp.savefig(os.path.join(plot_dir, plot_title + \".jpeg\"))\n",
    "        tikzplotlib.save(os.path.join(plot_dir, plot_title + \".tex\"))\n",
    "        \n",
    "        mp.clf()\n",
    "\n",
    "        for plot_dict_key in sorted(plot_dict_usd.keys()):\n",
    "            plot_dict_dai[plot_dict_key] = sorted(plot_dict_dai[plot_dict_key], key = lambda x : x[1])\n",
    "\n",
    "            x = [i[1] for i in plot_dict_dai[plot_dict_key]]\n",
    "            y = [i[0] for i in plot_dict_dai[plot_dict_key]]\n",
    "\n",
    "            mp.ylabel(\"Settling DAI Price\")\n",
    "            mp.xlabel(\"Mean USD\")\n",
    "            mp.title(\"Stddev USD: \" + str(usd_var) + \", Stddev DAI: \" + str(dai_var))\n",
    "            mp.plot(x,y, marker='o', label=\"Mean DAI: \" + str(plot_dict_key))\n",
    "        \n",
    "        plot_title = \"Stddev USD: \" + str(usd_var) + \", Stddev DAI: \" + str(dai_var) + \"_mean_usd_on_x\"\n",
    "\n",
    "        mp.legend()\n",
    "        mp.savefig(os.path.join(plot_dir, plot_title + \".jpeg\"))\n",
    "        tikzplotlib.save(os.path.join(plot_dir, plot_title + \".tex\"))\n",
    "        mp.clf()"
   ]
  },
  {
   "cell_type": "markdown",
   "metadata": {},
   "source": [
    "### DAI Settling Price v/s Risk Percentage\n",
    "r_s = 0.02, txf = 0.02"
   ]
  },
  {
   "cell_type": "code",
   "execution_count": 11,
   "metadata": {},
   "outputs": [
    {
     "data": {
      "image/png": "[encoded data removed]",
      "text/plain": [
       "<Figure size 432x288 with 1 Axes>"
      ]
     },
     "metadata": {
      "needs_background": "light"
     },
     "output_type": "display_data"
    }
   ],
   "source": [
    "experiment_dir = \"Experiments/RiskBitmaskExperimentHigh/logs\"\n",
    "plot_dir = \"Experiments/RiskBitmaskExperimentHigh/plots\"\n",
    "\n",
    "os.makedirs(plot_dir, exist_ok=True)\n",
    "\n",
    "cdp_rate = 0.02 \n",
    "txf_list = [i * 0.03 for i in range(1, 5)]\n",
    "\n",
    "filter_vars = ['mean_usd', 'mean_dai', 'stddev_dai', 'stddev_usd', 'risk_bitmask']\n",
    "\n",
    "for txf in txf_list:\n",
    "    plot_dict_risk = defaultdict(list)\n",
    "\n",
    "    for logdir in os.listdir(experiment_dir):\n",
    "\n",
    "        summary_file = os.path.join(experiment_dir, logdir, \"sim-summary.pickle\")\n",
    "\n",
    "        infile = open(summary_file, 'rb')\n",
    "        cdp_axis, txf_axis, run_axis, dai_price_history_axis, asset_history_axis, risk_params = pickle.load(infile)\n",
    "        infile.close()\n",
    "\n",
    "        filtered_vars = get_filter_vars_from_path(logdir, filter_vars)\n",
    "\n",
    "        for cdp, txfee, daip in zip(cdp_axis, txf_axis, dai_price_history_axis):\n",
    "            if txfee == txf:\n",
    "                plot_dict_risk[float(percentage_unset_bits(filtered_vars[4]))].append(daip[0])\n",
    "\n",
    "    for plot_dict_key in sorted(plot_dict_risk.keys()):\n",
    "        plot_dict_risk[plot_dict_key] = sum(plot_dict_risk[plot_dict_key]) / len(plot_dict_risk[plot_dict_key])\n",
    "\n",
    "    x = []\n",
    "    y = []\n",
    "\n",
    "    for plot_dict_key in sorted(plot_dict_risk.keys()):\n",
    "        x.append(plot_dict_key)\n",
    "        y.append(plot_dict_risk[plot_dict_key])\n",
    "\n",
    "    mp.plot(x,y, marker='o', label = \"Txf: \" + str(txf)) \n",
    "    mp.xlabel(\"Percentage of Risky Investors\")\n",
    "    mp.ylabel(\"Settling DAI Price\")\n",
    "\n",
    "plot_name = \"DAIPrice_vs_RiskPercentage_CDPRate_0.02\"\n",
    "mp.title(\"DAI Settling Price v/s Risk Profile\")    \n",
    "mp.legend()\n",
    "mp.savefig(os.path.join(plot_dir, plot_name) + \".jpeg\")\n",
    "tikzplotlib.save(os.path.join(plot_dir, plot_title + \".tex\"))\n",
    "mp.show()"
   ]
  },
  {
   "cell_type": "code",
   "execution_count": null,
   "metadata": {},
   "outputs": [],
   "source": []
  }
 ],
 "metadata": {
  "kernelspec": {
   "display_name": "venv",
   "language": "python",
   "name": "venv"
  },
  "language_info": {
   "codemirror_mode": {
    "name": "ipython",
    "version": 3
   },
   "file_extension": ".py",
   "mimetype": "text/x-python",
   "name": "python",
   "nbconvert_exporter": "python",
   "pygments_lexer": "ipython3",
   "version": "3.8.5"
  }
 },
 "nbformat": 4,
 "nbformat_minor": 4
}
