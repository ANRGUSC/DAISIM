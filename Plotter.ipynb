{
 "cells": [
  {
   "cell_type": "code",
   "execution_count": 2,
   "metadata": {},
   "outputs": [
    {
     "data": {
      "text/html": [
       "        <script type=\"text/javascript\">\n",
       "        window.PlotlyConfig = {MathJaxConfig: 'local'};\n",
       "        if (window.MathJax) {MathJax.Hub.Config({SVG: {font: \"STIX-Web\"}});}\n",
       "        if (typeof require !== 'undefined') {\n",
       "        require.undef(\"plotly\");\n",
       "        requirejs.config({\n",
       "            paths: {\n",
       "                'plotly': ['https://cdn.plot.ly/plotly-latest.min']\n",
       "            }\n",
       "        });\n",
       "        require(['plotly'], function(Plotly) {\n",
       "            window._Plotly = Plotly;\n",
       "        });\n",
       "        }\n",
       "        </script>\n",
       "        "
      ]
     },
     "metadata": {},
     "output_type": "display_data"
    }
   ],
   "source": [
    "import pickle\n",
    "import numpy\n",
    "import plotly\n",
    "from collections import defaultdict\n",
    "import plotly.graph_objs as go\n",
    "\n",
    "plotly.offline.init_notebook_mode(connected=True)"
   ]
  },
  {
   "cell_type": "markdown",
   "metadata": {},
   "source": [
    "### Plotter Functions"
   ]
  },
  {
   "cell_type": "code",
   "execution_count": 71,
   "metadata": {},
   "outputs": [],
   "source": [
    "def processData(x,y,z):\n",
    "    # Get x,y,z sorted based on y i.e TXF\n",
    "    sortxyz = [(x,y,z) for y,x,z in sorted(zip(y,x,z))]\n",
    "    \n",
    "    x = [i[0] for i in sortxyz]\n",
    "    y = [i[1] for i in sortxyz]\n",
    "    z = [i[2] for i in sortxyz]\n",
    "    \n",
    "    return x,y,z\n",
    "    \n",
    "    \n",
    "def plot3DWithTXF(x,y,z,xtitle, ytitle, ztitle):\n",
    "    \n",
    "    colors = ['#e6194b', '#3cb44b', '#ffe119', '#4363d8', '#f58231', '#911eb4']\n",
    "    \n",
    "    # Get x,y,z sorted based on y i.e TXF\n",
    "    x,y,z = processData(x,y,z)\n",
    "    \n",
    "    txDictx = defaultdict(list)\n",
    "    txDictz = defaultdict(list)\n",
    "    \n",
    "    for i in range(len(y)):\n",
    "        txDictx[y[i]].append(x[i])\n",
    "        txDictz[y[i]].append(z[i])\n",
    "\n",
    "    data = []   \n",
    "         \n",
    "    cnt = 0          \n",
    "    for key in txDictx.keys():\n",
    "        \n",
    "        x_d = txDictx[key]\n",
    "        y_d = [key for i in range(len(txDictx[key]))]\n",
    "        z_d = txDictz[key]\n",
    "\n",
    "        temp = go.Scatter3d(x=x_d, \n",
    "                         y=y_d, \n",
    "                         z=z_d,\n",
    "                        line=dict(\n",
    "                            color=colors[cnt % len(colors)],\n",
    "                            width=2\n",
    "                        ) \n",
    "                    )\n",
    "        cnt+=1      \n",
    "        data.append(temp)\n",
    "    \n",
    "    fig = go.Figure(data = data)\n",
    "    fig.update_layout(scene=dict(\n",
    "        xaxis_title=xtitle,\n",
    "        yaxis_title=ytitle,\n",
    "        zaxis_title=ztitle),\n",
    "    )\n",
    "\n",
    "    plotly.offline.iplot(fig)\n",
    "    \n",
    "def plotWithCDP(cdp_axis, txf_axis, dai_price_history_axis, xtitle, ytitle, ztitle):\n",
    "    \n",
    "    colors = ['#e6194b', '#3cb44b', '#ffe119', '#4363d8', '#f58231', '#911eb4']\n",
    "    \n",
    "    data = []\n",
    "    cnt = 0\n",
    "    \n",
    "    # generate an axis with numbers 1 -> number of days\n",
    "    days_axis = [i for i in range(1, len(dai_price_history_axis[0]) + 1)]\n",
    "    \n",
    "    for k in range(0, len(dai_price_history_axis)):\n",
    "        x_axis = [cdp_axis[k] for i in range(0, len(days_axis))]\n",
    "        y_axis = days_axis\n",
    "        z_axis = dai_price_history_axis[k]\n",
    "        \n",
    "        temp = go.Scatter3d(x=x_axis, \n",
    "                            y=y_axis, \n",
    "                            z=z_axis,\n",
    "                            name = \"tx_fee: \" + str(txf_axis[k]) + \" cdp_rate: \" + str(cdp_axis[k]),\n",
    "                            line=dict(\n",
    "                            color=colors[cnt % len(colors)],\n",
    "                            width=1\n",
    "                           ) \n",
    "                        )\n",
    "        \n",
    "        cnt+=1      \n",
    "        data.append(temp)\n",
    "    \n",
    "    fig = go.Figure(data = data)\n",
    "    fig.update_layout(scene=dict(\n",
    "        xaxis_title=xtitle,\n",
    "        yaxis_title=ytitle,\n",
    "        zaxis_title=ztitle),\n",
    "    )\n",
    "\n",
    "    plotly.offline.iplot(fig)\n",
    "\n",
    "def plotWithTXF(txf_axis, cdp_axis, dai_price_history_axis, xtitle, ytitle, ztitle):\n",
    "    \n",
    "    colors = ['#e6194b', '#3cb44b', '#ffe119', '#4363d8', '#f58231', '#911eb4']\n",
    "    \n",
    "    data = []\n",
    "    cnt = 0\n",
    "    \n",
    "    # generate an axis with numbers 1 -> number of days\n",
    "    days_axis = [i for i in range(1, len(dai_price_history_axis[0]) + 1)]\n",
    "    \n",
    "    for k in range(0, len(dai_price_history_axis)):\n",
    "        x_axis = [txf_axis[k] for i in range(0, len(days_axis))]\n",
    "        y_axis = days_axis\n",
    "        z_axis = dai_price_history_axis[k]\n",
    "        \n",
    "        temp = go.Scatter3d(x=x_axis, \n",
    "                            y=y_axis, \n",
    "                            z=z_axis,\n",
    "                            name = \"cdp_rate: \" + str(cdp_axis[k]) + \" tx_fee: \" + str(txf_axis[k]),\n",
    "                            line=dict(\n",
    "                            color=colors[cnt % len(colors)],\n",
    "                            width=1\n",
    "                           ) \n",
    "                        )\n",
    "        \n",
    "        cnt+=1      \n",
    "        data.append(temp)\n",
    "    \n",
    "    fig = go.Figure(data = data)\n",
    "    fig.update_layout(scene=dict(\n",
    "        xaxis_title=xtitle,\n",
    "        yaxis_title=ytitle,\n",
    "        zaxis_title=ztitle),\n",
    "    )\n",
    "\n",
    "    plotly.offline.iplot(fig)      "
   ]
  },
  {
   "cell_type": "markdown",
   "metadata": {},
   "source": [
    "### Plot final settling DAI Price with TXF and CDPRate"
   ]
  },
  {
   "cell_type": "code",
   "execution_count": 72,
   "metadata": {},
   "outputs": [],
   "source": [
    "filename = \"test1/sim-summary.pickle\"\n",
    "input_file = open(filename,'rb')\n",
    "cdp_axis, txf_axis, dai_price_history_axis = pickle.load(input_file)\n",
    "dai_axis = [dai_price_history[-1] for dai_price_history in dai_price_history_axis]\n",
    "input_file.close()"
   ]
  },
  {
   "cell_type": "code",
   "execution_count": 73,
   "metadata": {},
   "outputs": [
    {
     "data": {
      "application/vnd.plotly.v1+json": {
       "config": {
        "linkText": "Export to plot.ly",
        "plotlyServerURL": "https://plot.ly",
        "showLink": false
       },
       "data": [
        {
         "line": {
          "color": "#e6194b",
          "width": 2
         },
         "type": "scatter3d",
         "x": [
          0.05,
          0.06,
          0.07,
          0.08
         ],
         "y": [
          0,
          0,
          0,
          0
         ],
         "z": [
          0.7009999999999997,
          0.7109999999999997,
          0.7189999999999998,
          0.7249999999999998
         ]
        },
        {
         "line": {
          "color": "#3cb44b",
          "width": 2
         },
         "type": "scatter3d",
         "x": [
          0.05,
          0.06,
          0.07,
          0.08
         ],
         "y": [
          0.01,
          0.01,
          0.01,
          0.01
         ],
         "z": [
          0.6889999999999997,
          0.6999999999999997,
          0.7079999999999997,
          0.7129999999999997
         ]
        },
        {
         "line": {
          "color": "#ffe119",
          "width": 2
         },
         "type": "scatter3d",
         "x": [
          0.05,
          0.06,
          0.07,
          0.08
         ],
         "y": [
          0.02,
          0.02,
          0.02,
          0.02
         ],
         "z": [
          0.6759999999999997,
          0.6869999999999997,
          0.6969999999999997,
          0.7009999999999997
         ]
        },
        {
         "line": {
          "color": "#4363d8",
          "width": 2
         },
         "type": "scatter3d",
         "x": [
          0.05,
          0.06,
          0.07,
          0.08
         ],
         "y": [
          0.03,
          0.03,
          0.03,
          0.03
         ],
         "z": [
          0.6639999999999997,
          0.6739999999999997,
          0.6859999999999997,
          0.6899999999999997
         ]
        },
        {
         "line": {
          "color": "#f58231",
          "width": 2
         },
         "type": "scatter3d",
         "x": [
          0.05,
          0.06,
          0.07,
          0.08
         ],
         "y": [
          0.04,
          0.04,
          0.04,
          0.04
         ],
         "z": [
          0.6519999999999997,
          0.6619999999999997,
          0.6739999999999997,
          0.6789999999999997
         ]
        }
       ],
       "layout": {
        "scene": {
         "xaxis": {
          "title": {
           "text": "CDP Rate"
          }
         },
         "yaxis": {
          "title": {
           "text": "Transaction Fee"
          }
         },
         "zaxis": {
          "title": {
           "text": "DAI Price"
          }
         }
        },
        "template": {
         "data": {
          "bar": [
           {
            "error_x": {
             "color": "#2a3f5f"
            },
            "error_y": {
             "color": "#2a3f5f"
            },
            "marker": {
             "line": {
              "color": "#E5ECF6",
              "width": 0.5
             }
            },
            "type": "bar"
           }
          ],
          "barpolar": [
           {
            "marker": {
             "line": {
              "color": "#E5ECF6",
              "width": 0.5
             }
            },
            "type": "barpolar"
           }
          ],
          "carpet": [
           {
            "aaxis": {
             "endlinecolor": "#2a3f5f",
             "gridcolor": "white",
             "linecolor": "white",
             "minorgridcolor": "white",
             "startlinecolor": "#2a3f5f"
            },
            "baxis": {
             "endlinecolor": "#2a3f5f",
             "gridcolor": "white",
             "linecolor": "white",
             "minorgridcolor": "white",
             "startlinecolor": "#2a3f5f"
            },
            "type": "carpet"
           }
          ],
          "choropleth": [
           {
            "colorbar": {
             "outlinewidth": 0,
             "ticks": ""
            },
            "type": "choropleth"
           }
          ],
          "contour": [
           {
            "colorbar": {
             "outlinewidth": 0,
             "ticks": ""
            },
            "colorscale": [
             [
              0,
              "#0d0887"
             ],
             [
              0.1111111111111111,
              "#46039f"
             ],
             [
              0.2222222222222222,
              "#7201a8"
             ],
             [
              0.3333333333333333,
              "#9c179e"
             ],
             [
              0.4444444444444444,
              "#bd3786"
             ],
             [
              0.5555555555555556,
              "#d8576b"
             ],
             [
              0.6666666666666666,
              "#ed7953"
             ],
             [
              0.7777777777777778,
              "#fb9f3a"
             ],
             [
              0.8888888888888888,
              "#fdca26"
             ],
             [
              1,
              "#f0f921"
             ]
            ],
            "type": "contour"
           }
          ],
          "contourcarpet": [
           {
            "colorbar": {
             "outlinewidth": 0,
             "ticks": ""
            },
            "type": "contourcarpet"
           }
          ],
          "heatmap": [
           {
            "colorbar": {
             "outlinewidth": 0,
             "ticks": ""
            },
            "colorscale": [
             [
              0,
              "#0d0887"
             ],
             [
              0.1111111111111111,
              "#46039f"
             ],
             [
              0.2222222222222222,
              "#7201a8"
             ],
             [
              0.3333333333333333,
              "#9c179e"
             ],
             [
              0.4444444444444444,
              "#bd3786"
             ],
             [
              0.5555555555555556,
              "#d8576b"
             ],
             [
              0.6666666666666666,
              "#ed7953"
             ],
             [
              0.7777777777777778,
              "#fb9f3a"
             ],
             [
              0.8888888888888888,
              "#fdca26"
             ],
             [
              1,
              "#f0f921"
             ]
            ],
            "type": "heatmap"
           }
          ],
          "heatmapgl": [
           {
            "colorbar": {
             "outlinewidth": 0,
             "ticks": ""
            },
            "colorscale": [
             [
              0,
              "#0d0887"
             ],
             [
              0.1111111111111111,
              "#46039f"
             ],
             [
              0.2222222222222222,
              "#7201a8"
             ],
             [
              0.3333333333333333,
              "#9c179e"
             ],
             [
              0.4444444444444444,
              "#bd3786"
             ],
             [
              0.5555555555555556,
              "#d8576b"
             ],
             [
              0.6666666666666666,
              "#ed7953"
             ],
             [
              0.7777777777777778,
              "#fb9f3a"
             ],
             [
              0.8888888888888888,
              "#fdca26"
             ],
             [
              1,
              "#f0f921"
             ]
            ],
            "type": "heatmapgl"
           }
          ],
          "histogram": [
           {
            "marker": {
             "colorbar": {
              "outlinewidth": 0,
              "ticks": ""
             }
            },
            "type": "histogram"
           }
          ],
          "histogram2d": [
           {
            "colorbar": {
             "outlinewidth": 0,
             "ticks": ""
            },
            "colorscale": [
             [
              0,
              "#0d0887"
             ],
             [
              0.1111111111111111,
              "#46039f"
             ],
             [
              0.2222222222222222,
              "#7201a8"
             ],
             [
              0.3333333333333333,
              "#9c179e"
             ],
             [
              0.4444444444444444,
              "#bd3786"
             ],
             [
              0.5555555555555556,
              "#d8576b"
             ],
             [
              0.6666666666666666,
              "#ed7953"
             ],
             [
              0.7777777777777778,
              "#fb9f3a"
             ],
             [
              0.8888888888888888,
              "#fdca26"
             ],
             [
              1,
              "#f0f921"
             ]
            ],
            "type": "histogram2d"
           }
          ],
          "histogram2dcontour": [
           {
            "colorbar": {
             "outlinewidth": 0,
             "ticks": ""
            },
            "colorscale": [
             [
              0,
              "#0d0887"
             ],
             [
              0.1111111111111111,
              "#46039f"
             ],
             [
              0.2222222222222222,
              "#7201a8"
             ],
             [
              0.3333333333333333,
              "#9c179e"
             ],
             [
              0.4444444444444444,
              "#bd3786"
             ],
             [
              0.5555555555555556,
              "#d8576b"
             ],
             [
              0.6666666666666666,
              "#ed7953"
             ],
             [
              0.7777777777777778,
              "#fb9f3a"
             ],
             [
              0.8888888888888888,
              "#fdca26"
             ],
             [
              1,
              "#f0f921"
             ]
            ],
            "type": "histogram2dcontour"
           }
          ],
          "mesh3d": [
           {
            "colorbar": {
             "outlinewidth": 0,
             "ticks": ""
            },
            "type": "mesh3d"
           }
          ],
          "parcoords": [
           {
            "line": {
             "colorbar": {
              "outlinewidth": 0,
              "ticks": ""
             }
            },
            "type": "parcoords"
           }
          ],
          "pie": [
           {
            "automargin": true,
            "type": "pie"
           }
          ],
          "scatter": [
           {
            "marker": {
             "colorbar": {
              "outlinewidth": 0,
              "ticks": ""
             }
            },
            "type": "scatter"
           }
          ],
          "scatter3d": [
           {
            "line": {
             "colorbar": {
              "outlinewidth": 0,
              "ticks": ""
             }
            },
            "marker": {
             "colorbar": {
              "outlinewidth": 0,
              "ticks": ""
             }
            },
            "type": "scatter3d"
           }
          ],
          "scattercarpet": [
           {
            "marker": {
             "colorbar": {
              "outlinewidth": 0,
              "ticks": ""
             }
            },
            "type": "scattercarpet"
           }
          ],
          "scattergeo": [
           {
            "marker": {
             "colorbar": {
              "outlinewidth": 0,
              "ticks": ""
             }
            },
            "type": "scattergeo"
           }
          ],
          "scattergl": [
           {
            "marker": {
             "colorbar": {
              "outlinewidth": 0,
              "ticks": ""
             }
            },
            "type": "scattergl"
           }
          ],
          "scattermapbox": [
           {
            "marker": {
             "colorbar": {
              "outlinewidth": 0,
              "ticks": ""
             }
            },
            "type": "scattermapbox"
           }
          ],
          "scatterpolar": [
           {
            "marker": {
             "colorbar": {
              "outlinewidth": 0,
              "ticks": ""
             }
            },
            "type": "scatterpolar"
           }
          ],
          "scatterpolargl": [
           {
            "marker": {
             "colorbar": {
              "outlinewidth": 0,
              "ticks": ""
             }
            },
            "type": "scatterpolargl"
           }
          ],
          "scatterternary": [
           {
            "marker": {
             "colorbar": {
              "outlinewidth": 0,
              "ticks": ""
             }
            },
            "type": "scatterternary"
           }
          ],
          "surface": [
           {
            "colorbar": {
             "outlinewidth": 0,
             "ticks": ""
            },
            "colorscale": [
             [
              0,
              "#0d0887"
             ],
             [
              0.1111111111111111,
              "#46039f"
             ],
             [
              0.2222222222222222,
              "#7201a8"
             ],
             [
              0.3333333333333333,
              "#9c179e"
             ],
             [
              0.4444444444444444,
              "#bd3786"
             ],
             [
              0.5555555555555556,
              "#d8576b"
             ],
             [
              0.6666666666666666,
              "#ed7953"
             ],
             [
              0.7777777777777778,
              "#fb9f3a"
             ],
             [
              0.8888888888888888,
              "#fdca26"
             ],
             [
              1,
              "#f0f921"
             ]
            ],
            "type": "surface"
           }
          ],
          "table": [
           {
            "cells": {
             "fill": {
              "color": "#EBF0F8"
             },
             "line": {
              "color": "white"
             }
            },
            "header": {
             "fill": {
              "color": "#C8D4E3"
             },
             "line": {
              "color": "white"
             }
            },
            "type": "table"
           }
          ]
         },
         "layout": {
          "annotationdefaults": {
           "arrowcolor": "#2a3f5f",
           "arrowhead": 0,
           "arrowwidth": 1
          },
          "coloraxis": {
           "colorbar": {
            "outlinewidth": 0,
            "ticks": ""
           }
          },
          "colorscale": {
           "diverging": [
            [
             0,
             "#8e0152"
            ],
            [
             0.1,
             "#c51b7d"
            ],
            [
             0.2,
             "#de77ae"
            ],
            [
             0.3,
             "#f1b6da"
            ],
            [
             0.4,
             "#fde0ef"
            ],
            [
             0.5,
             "#f7f7f7"
            ],
            [
             0.6,
             "#e6f5d0"
            ],
            [
             0.7,
             "#b8e186"
            ],
            [
             0.8,
             "#7fbc41"
            ],
            [
             0.9,
             "#4d9221"
            ],
            [
             1,
             "#276419"
            ]
           ],
           "sequential": [
            [
             0,
             "#0d0887"
            ],
            [
             0.1111111111111111,
             "#46039f"
            ],
            [
             0.2222222222222222,
             "#7201a8"
            ],
            [
             0.3333333333333333,
             "#9c179e"
            ],
            [
             0.4444444444444444,
             "#bd3786"
            ],
            [
             0.5555555555555556,
             "#d8576b"
            ],
            [
             0.6666666666666666,
             "#ed7953"
            ],
            [
             0.7777777777777778,
             "#fb9f3a"
            ],
            [
             0.8888888888888888,
             "#fdca26"
            ],
            [
             1,
             "#f0f921"
            ]
           ],
           "sequentialminus": [
            [
             0,
             "#0d0887"
            ],
            [
             0.1111111111111111,
             "#46039f"
            ],
            [
             0.2222222222222222,
             "#7201a8"
            ],
            [
             0.3333333333333333,
             "#9c179e"
            ],
            [
             0.4444444444444444,
             "#bd3786"
            ],
            [
             0.5555555555555556,
             "#d8576b"
            ],
            [
             0.6666666666666666,
             "#ed7953"
            ],
            [
             0.7777777777777778,
             "#fb9f3a"
            ],
            [
             0.8888888888888888,
             "#fdca26"
            ],
            [
             1,
             "#f0f921"
            ]
           ]
          },
          "colorway": [
           "#636efa",
           "#EF553B",
           "#00cc96",
           "#ab63fa",
           "#FFA15A",
           "#19d3f3",
           "#FF6692",
           "#B6E880",
           "#FF97FF",
           "#FECB52"
          ],
          "font": {
           "color": "#2a3f5f"
          },
          "geo": {
           "bgcolor": "white",
           "lakecolor": "white",
           "landcolor": "#E5ECF6",
           "showlakes": true,
           "showland": true,
           "subunitcolor": "white"
          },
          "hoverlabel": {
           "align": "left"
          },
          "hovermode": "closest",
          "mapbox": {
           "style": "light"
          },
          "paper_bgcolor": "white",
          "plot_bgcolor": "#E5ECF6",
          "polar": {
           "angularaxis": {
            "gridcolor": "white",
            "linecolor": "white",
            "ticks": ""
           },
           "bgcolor": "#E5ECF6",
           "radialaxis": {
            "gridcolor": "white",
            "linecolor": "white",
            "ticks": ""
           }
          },
          "scene": {
           "xaxis": {
            "backgroundcolor": "#E5ECF6",
            "gridcolor": "white",
            "gridwidth": 2,
            "linecolor": "white",
            "showbackground": true,
            "ticks": "",
            "zerolinecolor": "white"
           },
           "yaxis": {
            "backgroundcolor": "#E5ECF6",
            "gridcolor": "white",
            "gridwidth": 2,
            "linecolor": "white",
            "showbackground": true,
            "ticks": "",
            "zerolinecolor": "white"
           },
           "zaxis": {
            "backgroundcolor": "#E5ECF6",
            "gridcolor": "white",
            "gridwidth": 2,
            "linecolor": "white",
            "showbackground": true,
            "ticks": "",
            "zerolinecolor": "white"
           }
          },
          "shapedefaults": {
           "line": {
            "color": "#2a3f5f"
           }
          },
          "ternary": {
           "aaxis": {
            "gridcolor": "white",
            "linecolor": "white",
            "ticks": ""
           },
           "baxis": {
            "gridcolor": "white",
            "linecolor": "white",
            "ticks": ""
           },
           "bgcolor": "#E5ECF6",
           "caxis": {
            "gridcolor": "white",
            "linecolor": "white",
            "ticks": ""
           }
          },
          "title": {
           "x": 0.05
          },
          "xaxis": {
           "automargin": true,
           "gridcolor": "white",
           "linecolor": "white",
           "ticks": "",
           "title": {
            "standoff": 15
           },
           "zerolinecolor": "white",
           "zerolinewidth": 2
          },
          "yaxis": {
           "automargin": true,
           "gridcolor": "white",
           "linecolor": "white",
           "ticks": "",
           "title": {
            "standoff": 15
           },
           "zerolinecolor": "white",
           "zerolinewidth": 2
          }
         }
        }
       }
      },
      "text/html": [
       "<div>\n",
       "        \n",
       "        \n",
       "            <div id=\"c2a6ab7e-29a6-4ba3-8bb5-c02e65f2aad4\" class=\"plotly-graph-div\" style=\"height:525px; width:100%;\"></div>\n",
       "            <script type=\"text/javascript\">\n",
       "                require([\"plotly\"], function(Plotly) {\n",
       "                    window.PLOTLYENV=window.PLOTLYENV || {};\n",
       "                    \n",
       "                if (document.getElementById(\"c2a6ab7e-29a6-4ba3-8bb5-c02e65f2aad4\")) {\n",
       "                    Plotly.newPlot(\n",
       "                        'c2a6ab7e-29a6-4ba3-8bb5-c02e65f2aad4',\n",
       "                        [{\"line\": {\"color\": \"#e6194b\", \"width\": 2}, \"type\": \"scatter3d\", \"x\": [0.05, 0.06, 0.07, 0.08], \"y\": [0.0, 0.0, 0.0, 0.0], \"z\": [0.7009999999999997, 0.7109999999999997, 0.7189999999999998, 0.7249999999999998]}, {\"line\": {\"color\": \"#3cb44b\", \"width\": 2}, \"type\": \"scatter3d\", \"x\": [0.05, 0.06, 0.07, 0.08], \"y\": [0.01, 0.01, 0.01, 0.01], \"z\": [0.6889999999999997, 0.6999999999999997, 0.7079999999999997, 0.7129999999999997]}, {\"line\": {\"color\": \"#ffe119\", \"width\": 2}, \"type\": \"scatter3d\", \"x\": [0.05, 0.06, 0.07, 0.08], \"y\": [0.02, 0.02, 0.02, 0.02], \"z\": [0.6759999999999997, 0.6869999999999997, 0.6969999999999997, 0.7009999999999997]}, {\"line\": {\"color\": \"#4363d8\", \"width\": 2}, \"type\": \"scatter3d\", \"x\": [0.05, 0.06, 0.07, 0.08], \"y\": [0.03, 0.03, 0.03, 0.03], \"z\": [0.6639999999999997, 0.6739999999999997, 0.6859999999999997, 0.6899999999999997]}, {\"line\": {\"color\": \"#f58231\", \"width\": 2}, \"type\": \"scatter3d\", \"x\": [0.05, 0.06, 0.07, 0.08], \"y\": [0.04, 0.04, 0.04, 0.04], \"z\": [0.6519999999999997, 0.6619999999999997, 0.6739999999999997, 0.6789999999999997]}],\n",
       "                        {\"scene\": {\"xaxis\": {\"title\": {\"text\": \"CDP Rate\"}}, \"yaxis\": {\"title\": {\"text\": \"Transaction Fee\"}}, \"zaxis\": {\"title\": {\"text\": \"DAI Price\"}}}, \"template\": {\"data\": {\"bar\": [{\"error_x\": {\"color\": \"#2a3f5f\"}, \"error_y\": {\"color\": \"#2a3f5f\"}, \"marker\": {\"line\": {\"color\": \"#E5ECF6\", \"width\": 0.5}}, \"type\": \"bar\"}], \"barpolar\": [{\"marker\": {\"line\": {\"color\": \"#E5ECF6\", \"width\": 0.5}}, \"type\": \"barpolar\"}], \"carpet\": [{\"aaxis\": {\"endlinecolor\": \"#2a3f5f\", \"gridcolor\": \"white\", \"linecolor\": \"white\", \"minorgridcolor\": \"white\", \"startlinecolor\": \"#2a3f5f\"}, \"baxis\": {\"endlinecolor\": \"#2a3f5f\", \"gridcolor\": \"white\", \"linecolor\": \"white\", \"minorgridcolor\": \"white\", \"startlinecolor\": \"#2a3f5f\"}, \"type\": \"carpet\"}], \"choropleth\": [{\"colorbar\": {\"outlinewidth\": 0, \"ticks\": \"\"}, \"type\": \"choropleth\"}], \"contour\": [{\"colorbar\": {\"outlinewidth\": 0, \"ticks\": \"\"}, \"colorscale\": [[0.0, \"#0d0887\"], [0.1111111111111111, \"#46039f\"], [0.2222222222222222, \"#7201a8\"], [0.3333333333333333, \"#9c179e\"], [0.4444444444444444, \"#bd3786\"], [0.5555555555555556, \"#d8576b\"], [0.6666666666666666, \"#ed7953\"], [0.7777777777777778, \"#fb9f3a\"], [0.8888888888888888, \"#fdca26\"], [1.0, \"#f0f921\"]], \"type\": \"contour\"}], \"contourcarpet\": [{\"colorbar\": {\"outlinewidth\": 0, \"ticks\": \"\"}, \"type\": \"contourcarpet\"}], \"heatmap\": [{\"colorbar\": {\"outlinewidth\": 0, \"ticks\": \"\"}, \"colorscale\": [[0.0, \"#0d0887\"], [0.1111111111111111, \"#46039f\"], [0.2222222222222222, \"#7201a8\"], [0.3333333333333333, \"#9c179e\"], [0.4444444444444444, \"#bd3786\"], [0.5555555555555556, \"#d8576b\"], [0.6666666666666666, \"#ed7953\"], [0.7777777777777778, \"#fb9f3a\"], [0.8888888888888888, \"#fdca26\"], [1.0, \"#f0f921\"]], \"type\": \"heatmap\"}], \"heatmapgl\": [{\"colorbar\": {\"outlinewidth\": 0, \"ticks\": \"\"}, \"colorscale\": [[0.0, \"#0d0887\"], [0.1111111111111111, \"#46039f\"], [0.2222222222222222, \"#7201a8\"], [0.3333333333333333, \"#9c179e\"], [0.4444444444444444, \"#bd3786\"], [0.5555555555555556, \"#d8576b\"], [0.6666666666666666, \"#ed7953\"], [0.7777777777777778, \"#fb9f3a\"], [0.8888888888888888, \"#fdca26\"], [1.0, \"#f0f921\"]], \"type\": \"heatmapgl\"}], \"histogram\": [{\"marker\": {\"colorbar\": {\"outlinewidth\": 0, \"ticks\": \"\"}}, \"type\": \"histogram\"}], \"histogram2d\": [{\"colorbar\": {\"outlinewidth\": 0, \"ticks\": \"\"}, \"colorscale\": [[0.0, \"#0d0887\"], [0.1111111111111111, \"#46039f\"], [0.2222222222222222, \"#7201a8\"], [0.3333333333333333, \"#9c179e\"], [0.4444444444444444, \"#bd3786\"], [0.5555555555555556, \"#d8576b\"], [0.6666666666666666, \"#ed7953\"], [0.7777777777777778, \"#fb9f3a\"], [0.8888888888888888, \"#fdca26\"], [1.0, \"#f0f921\"]], \"type\": \"histogram2d\"}], \"histogram2dcontour\": [{\"colorbar\": {\"outlinewidth\": 0, \"ticks\": \"\"}, \"colorscale\": [[0.0, \"#0d0887\"], [0.1111111111111111, \"#46039f\"], [0.2222222222222222, \"#7201a8\"], [0.3333333333333333, \"#9c179e\"], [0.4444444444444444, \"#bd3786\"], [0.5555555555555556, \"#d8576b\"], [0.6666666666666666, \"#ed7953\"], [0.7777777777777778, \"#fb9f3a\"], [0.8888888888888888, \"#fdca26\"], [1.0, \"#f0f921\"]], \"type\": \"histogram2dcontour\"}], \"mesh3d\": [{\"colorbar\": {\"outlinewidth\": 0, \"ticks\": \"\"}, \"type\": \"mesh3d\"}], \"parcoords\": [{\"line\": {\"colorbar\": {\"outlinewidth\": 0, \"ticks\": \"\"}}, \"type\": \"parcoords\"}], \"pie\": [{\"automargin\": true, \"type\": \"pie\"}], \"scatter\": [{\"marker\": {\"colorbar\": {\"outlinewidth\": 0, \"ticks\": \"\"}}, \"type\": \"scatter\"}], \"scatter3d\": [{\"line\": {\"colorbar\": {\"outlinewidth\": 0, \"ticks\": \"\"}}, \"marker\": {\"colorbar\": {\"outlinewidth\": 0, \"ticks\": \"\"}}, \"type\": \"scatter3d\"}], \"scattercarpet\": [{\"marker\": {\"colorbar\": {\"outlinewidth\": 0, \"ticks\": \"\"}}, \"type\": \"scattercarpet\"}], \"scattergeo\": [{\"marker\": {\"colorbar\": {\"outlinewidth\": 0, \"ticks\": \"\"}}, \"type\": \"scattergeo\"}], \"scattergl\": [{\"marker\": {\"colorbar\": {\"outlinewidth\": 0, \"ticks\": \"\"}}, \"type\": \"scattergl\"}], \"scattermapbox\": [{\"marker\": {\"colorbar\": {\"outlinewidth\": 0, \"ticks\": \"\"}}, \"type\": \"scattermapbox\"}], \"scatterpolar\": [{\"marker\": {\"colorbar\": {\"outlinewidth\": 0, \"ticks\": \"\"}}, \"type\": \"scatterpolar\"}], \"scatterpolargl\": [{\"marker\": {\"colorbar\": {\"outlinewidth\": 0, \"ticks\": \"\"}}, \"type\": \"scatterpolargl\"}], \"scatterternary\": [{\"marker\": {\"colorbar\": {\"outlinewidth\": 0, \"ticks\": \"\"}}, \"type\": \"scatterternary\"}], \"surface\": [{\"colorbar\": {\"outlinewidth\": 0, \"ticks\": \"\"}, \"colorscale\": [[0.0, \"#0d0887\"], [0.1111111111111111, \"#46039f\"], [0.2222222222222222, \"#7201a8\"], [0.3333333333333333, \"#9c179e\"], [0.4444444444444444, \"#bd3786\"], [0.5555555555555556, \"#d8576b\"], [0.6666666666666666, \"#ed7953\"], [0.7777777777777778, \"#fb9f3a\"], [0.8888888888888888, \"#fdca26\"], [1.0, \"#f0f921\"]], \"type\": \"surface\"}], \"table\": [{\"cells\": {\"fill\": {\"color\": \"#EBF0F8\"}, \"line\": {\"color\": \"white\"}}, \"header\": {\"fill\": {\"color\": \"#C8D4E3\"}, \"line\": {\"color\": \"white\"}}, \"type\": \"table\"}]}, \"layout\": {\"annotationdefaults\": {\"arrowcolor\": \"#2a3f5f\", \"arrowhead\": 0, \"arrowwidth\": 1}, \"coloraxis\": {\"colorbar\": {\"outlinewidth\": 0, \"ticks\": \"\"}}, \"colorscale\": {\"diverging\": [[0, \"#8e0152\"], [0.1, \"#c51b7d\"], [0.2, \"#de77ae\"], [0.3, \"#f1b6da\"], [0.4, \"#fde0ef\"], [0.5, \"#f7f7f7\"], [0.6, \"#e6f5d0\"], [0.7, \"#b8e186\"], [0.8, \"#7fbc41\"], [0.9, \"#4d9221\"], [1, \"#276419\"]], \"sequential\": [[0.0, \"#0d0887\"], [0.1111111111111111, \"#46039f\"], [0.2222222222222222, \"#7201a8\"], [0.3333333333333333, \"#9c179e\"], [0.4444444444444444, \"#bd3786\"], [0.5555555555555556, \"#d8576b\"], [0.6666666666666666, \"#ed7953\"], [0.7777777777777778, \"#fb9f3a\"], [0.8888888888888888, \"#fdca26\"], [1.0, \"#f0f921\"]], \"sequentialminus\": [[0.0, \"#0d0887\"], [0.1111111111111111, \"#46039f\"], [0.2222222222222222, \"#7201a8\"], [0.3333333333333333, \"#9c179e\"], [0.4444444444444444, \"#bd3786\"], [0.5555555555555556, \"#d8576b\"], [0.6666666666666666, \"#ed7953\"], [0.7777777777777778, \"#fb9f3a\"], [0.8888888888888888, \"#fdca26\"], [1.0, \"#f0f921\"]]}, \"colorway\": [\"#636efa\", \"#EF553B\", \"#00cc96\", \"#ab63fa\", \"#FFA15A\", \"#19d3f3\", \"#FF6692\", \"#B6E880\", \"#FF97FF\", \"#FECB52\"], \"font\": {\"color\": \"#2a3f5f\"}, \"geo\": {\"bgcolor\": \"white\", \"lakecolor\": \"white\", \"landcolor\": \"#E5ECF6\", \"showlakes\": true, \"showland\": true, \"subunitcolor\": \"white\"}, \"hoverlabel\": {\"align\": \"left\"}, \"hovermode\": \"closest\", \"mapbox\": {\"style\": \"light\"}, \"paper_bgcolor\": \"white\", \"plot_bgcolor\": \"#E5ECF6\", \"polar\": {\"angularaxis\": {\"gridcolor\": \"white\", \"linecolor\": \"white\", \"ticks\": \"\"}, \"bgcolor\": \"#E5ECF6\", \"radialaxis\": {\"gridcolor\": \"white\", \"linecolor\": \"white\", \"ticks\": \"\"}}, \"scene\": {\"xaxis\": {\"backgroundcolor\": \"#E5ECF6\", \"gridcolor\": \"white\", \"gridwidth\": 2, \"linecolor\": \"white\", \"showbackground\": true, \"ticks\": \"\", \"zerolinecolor\": \"white\"}, \"yaxis\": {\"backgroundcolor\": \"#E5ECF6\", \"gridcolor\": \"white\", \"gridwidth\": 2, \"linecolor\": \"white\", \"showbackground\": true, \"ticks\": \"\", \"zerolinecolor\": \"white\"}, \"zaxis\": {\"backgroundcolor\": \"#E5ECF6\", \"gridcolor\": \"white\", \"gridwidth\": 2, \"linecolor\": \"white\", \"showbackground\": true, \"ticks\": \"\", \"zerolinecolor\": \"white\"}}, \"shapedefaults\": {\"line\": {\"color\": \"#2a3f5f\"}}, \"ternary\": {\"aaxis\": {\"gridcolor\": \"white\", \"linecolor\": \"white\", \"ticks\": \"\"}, \"baxis\": {\"gridcolor\": \"white\", \"linecolor\": \"white\", \"ticks\": \"\"}, \"bgcolor\": \"#E5ECF6\", \"caxis\": {\"gridcolor\": \"white\", \"linecolor\": \"white\", \"ticks\": \"\"}}, \"title\": {\"x\": 0.05}, \"xaxis\": {\"automargin\": true, \"gridcolor\": \"white\", \"linecolor\": \"white\", \"ticks\": \"\", \"title\": {\"standoff\": 15}, \"zerolinecolor\": \"white\", \"zerolinewidth\": 2}, \"yaxis\": {\"automargin\": true, \"gridcolor\": \"white\", \"linecolor\": \"white\", \"ticks\": \"\", \"title\": {\"standoff\": 15}, \"zerolinecolor\": \"white\", \"zerolinewidth\": 2}}}},\n",
       "                        {\"responsive\": true}\n",
       "                    ).then(function(){\n",
       "                            \n",
       "var gd = document.getElementById('c2a6ab7e-29a6-4ba3-8bb5-c02e65f2aad4');\n",
       "var x = new MutationObserver(function (mutations, observer) {{\n",
       "        var display = window.getComputedStyle(gd).display;\n",
       "        if (!display || display === 'none') {{\n",
       "            console.log([gd, 'removed!']);\n",
       "            Plotly.purge(gd);\n",
       "            observer.disconnect();\n",
       "        }}\n",
       "}});\n",
       "\n",
       "// Listen for the removal of the full notebook cells\n",
       "var notebookContainer = gd.closest('#notebook-container');\n",
       "if (notebookContainer) {{\n",
       "    x.observe(notebookContainer, {childList: true});\n",
       "}}\n",
       "\n",
       "// Listen for the clearing of the current output cell\n",
       "var outputEl = gd.closest('.output');\n",
       "if (outputEl) {{\n",
       "    x.observe(outputEl, {childList: true});\n",
       "}}\n",
       "\n",
       "                        })\n",
       "                };\n",
       "                });\n",
       "            </script>\n",
       "        </div>"
      ]
     },
     "metadata": {},
     "output_type": "display_data"
    }
   ],
   "source": [
    "plot3DWithTXF(cdp_axis, txf_axis, dai_axis, \"CDP Rate\", \"Transaction Fee\", \"DAI Price\")"
   ]
  },
  {
   "cell_type": "markdown",
   "metadata": {},
   "source": [
    "### Plot DAI Price History with CDP Rate"
   ]
  },
  {
   "cell_type": "code",
   "execution_count": 68,
   "metadata": {},
   "outputs": [],
   "source": [
    "filename = \"test1/sim-summary.pickle\"\n",
    "input_file = open(filename,'rb')\n",
    "cdp_axis, txf_axis, dai_price_history_axis = pickle.load(input_file)\n",
    "input_file.close()"
   ]
  },
  {
   "cell_type": "code",
   "execution_count": 74,
   "metadata": {},
   "outputs": [
    {
     "data": {
      "application/vnd.plotly.v1+json": {
       "config": {
        "linkText": "Export to plot.ly",
        "plotlyServerURL": "https://plot.ly",
        "showLink": false
       },
       "data": [
        {
         "line": {
          "color": "#e6194b",
          "width": 1
         },
         "name": "tx_fee: 0.0 cdp_rate: 0.05",
         "type": "scatter3d",
         "x": [
          0.05,
          0.05,
          0.05,
          0.05,
          0.05,
          0.05,
          0.05,
          0.05,
          0.05,
          0.05
         ],
         "y": [
          1,
          2,
          3,
          4,
          5,
          6,
          7,
          8,
          9,
          10
         ],
         "z": [
          0.6769999999999997,
          0.6809999999999997,
          0.6839999999999997,
          0.6869999999999997,
          0.6889999999999997,
          0.6919999999999997,
          0.6949999999999997,
          0.6969999999999997,
          0.6989999999999997,
          0.7009999999999997
         ]
        },
        {
         "line": {
          "color": "#3cb44b",
          "width": 1
         },
         "name": "tx_fee: 0.0 cdp_rate: 0.06",
         "type": "scatter3d",
         "x": [
          0.06,
          0.06,
          0.06,
          0.06,
          0.06,
          0.06,
          0.06,
          0.06,
          0.06,
          0.06
         ],
         "y": [
          1,
          2,
          3,
          4,
          5,
          6,
          7,
          8,
          9,
          10
         ],
         "z": [
          0.6899999999999997,
          0.6929999999999997,
          0.6959999999999997,
          0.6979999999999997,
          0.7009999999999997,
          0.7029999999999997,
          0.7049999999999997,
          0.7069999999999997,
          0.7089999999999997,
          0.7109999999999997
         ]
        },
        {
         "line": {
          "color": "#ffe119",
          "width": 1
         },
         "name": "tx_fee: 0.0 cdp_rate: 0.07",
         "type": "scatter3d",
         "x": [
          0.07,
          0.07,
          0.07,
          0.07,
          0.07,
          0.07,
          0.07,
          0.07,
          0.07,
          0.07
         ],
         "y": [
          1,
          2,
          3,
          4,
          5,
          6,
          7,
          8,
          9,
          10
         ],
         "z": [
          0.6989999999999997,
          0.7019999999999997,
          0.7049999999999997,
          0.7069999999999997,
          0.7089999999999997,
          0.7109999999999997,
          0.7139999999999997,
          0.7159999999999997,
          0.7169999999999997,
          0.7189999999999998
         ]
        },
        {
         "line": {
          "color": "#4363d8",
          "width": 1
         },
         "name": "tx_fee: 0.0 cdp_rate: 0.08",
         "type": "scatter3d",
         "x": [
          0.08,
          0.08,
          0.08,
          0.08,
          0.08,
          0.08,
          0.08,
          0.08,
          0.08,
          0.08
         ],
         "y": [
          1,
          2,
          3,
          4,
          5,
          6,
          7,
          8,
          9,
          10
         ],
         "z": [
          0.7069999999999997,
          0.7089999999999997,
          0.7119999999999997,
          0.7139999999999997,
          0.7159999999999997,
          0.7179999999999997,
          0.7199999999999998,
          0.7219999999999998,
          0.7229999999999998,
          0.7249999999999998
         ]
        },
        {
         "line": {
          "color": "#f58231",
          "width": 1
         },
         "name": "tx_fee: 0.01 cdp_rate: 0.05",
         "type": "scatter3d",
         "x": [
          0.05,
          0.05,
          0.05,
          0.05,
          0.05,
          0.05,
          0.05,
          0.05,
          0.05,
          0.05
         ],
         "y": [
          1,
          2,
          3,
          4,
          5,
          6,
          7,
          8,
          9,
          10
         ],
         "z": [
          0.6559999999999997,
          0.6669999999999997,
          0.6709999999999997,
          0.6739999999999997,
          0.6759999999999997,
          0.6799999999999997,
          0.6819999999999997,
          0.6839999999999997,
          0.6869999999999997,
          0.6889999999999997
         ]
        },
        {
         "line": {
          "color": "#911eb4",
          "width": 1
         },
         "name": "tx_fee: 0.01 cdp_rate: 0.06",
         "type": "scatter3d",
         "x": [
          0.06,
          0.06,
          0.06,
          0.06,
          0.06,
          0.06,
          0.06,
          0.06,
          0.06,
          0.06
         ],
         "y": [
          1,
          2,
          3,
          4,
          5,
          6,
          7,
          8,
          9,
          10
         ],
         "z": [
          0.6679999999999997,
          0.6789999999999997,
          0.6829999999999997,
          0.6859999999999997,
          0.6889999999999997,
          0.6909999999999997,
          0.6929999999999997,
          0.6959999999999997,
          0.6979999999999997,
          0.6999999999999997
         ]
        },
        {
         "line": {
          "color": "#e6194b",
          "width": 1
         },
         "name": "tx_fee: 0.01 cdp_rate: 0.07",
         "type": "scatter3d",
         "x": [
          0.07,
          0.07,
          0.07,
          0.07,
          0.07,
          0.07,
          0.07,
          0.07,
          0.07,
          0.07
         ],
         "y": [
          1,
          2,
          3,
          4,
          5,
          6,
          7,
          8,
          9,
          10
         ],
         "z": [
          0.6809999999999997,
          0.6889999999999997,
          0.6919999999999997,
          0.6939999999999997,
          0.6969999999999997,
          0.6999999999999997,
          0.7019999999999997,
          0.7039999999999997,
          0.7059999999999997,
          0.7079999999999997
         ]
        },
        {
         "line": {
          "color": "#3cb44b",
          "width": 1
         },
         "name": "tx_fee: 0.01 cdp_rate: 0.08",
         "type": "scatter3d",
         "x": [
          0.08,
          0.08,
          0.08,
          0.08,
          0.08,
          0.08,
          0.08,
          0.08,
          0.08,
          0.08
         ],
         "y": [
          1,
          2,
          3,
          4,
          5,
          6,
          7,
          8,
          9,
          10
         ],
         "z": [
          0.6879999999999997,
          0.6949999999999997,
          0.6979999999999997,
          0.7009999999999997,
          0.7029999999999997,
          0.7049999999999997,
          0.7069999999999997,
          0.7089999999999997,
          0.7109999999999997,
          0.7129999999999997
         ]
        },
        {
         "line": {
          "color": "#ffe119",
          "width": 1
         },
         "name": "tx_fee: 0.02 cdp_rate: 0.05",
         "type": "scatter3d",
         "x": [
          0.05,
          0.05,
          0.05,
          0.05,
          0.05,
          0.05,
          0.05,
          0.05,
          0.05,
          0.05
         ],
         "y": [
          1,
          2,
          3,
          4,
          5,
          6,
          7,
          8,
          9,
          10
         ],
         "z": [
          0.6409999999999997,
          0.6539999999999997,
          0.6569999999999997,
          0.6609999999999997,
          0.6629999999999997,
          0.6659999999999997,
          0.6689999999999997,
          0.6709999999999997,
          0.6739999999999997,
          0.6759999999999997
         ]
        },
        {
         "line": {
          "color": "#4363d8",
          "width": 1
         },
         "name": "tx_fee: 0.02 cdp_rate: 0.06",
         "type": "scatter3d",
         "x": [
          0.06,
          0.06,
          0.06,
          0.06,
          0.06,
          0.06,
          0.06,
          0.06,
          0.06,
          0.06
         ],
         "y": [
          1,
          2,
          3,
          4,
          5,
          6,
          7,
          8,
          9,
          10
         ],
         "z": [
          0.6509999999999997,
          0.6659999999999997,
          0.6699999999999997,
          0.6729999999999997,
          0.6759999999999997,
          0.6779999999999997,
          0.6809999999999997,
          0.6829999999999997,
          0.6849999999999997,
          0.6869999999999997
         ]
        },
        {
         "line": {
          "color": "#f58231",
          "width": 1
         },
         "name": "tx_fee: 0.02 cdp_rate: 0.07",
         "type": "scatter3d",
         "x": [
          0.07,
          0.07,
          0.07,
          0.07,
          0.07,
          0.07,
          0.07,
          0.07,
          0.07,
          0.07
         ],
         "y": [
          1,
          2,
          3,
          4,
          5,
          6,
          7,
          8,
          9,
          10
         ],
         "z": [
          0.6629999999999997,
          0.6789999999999997,
          0.6819999999999997,
          0.6839999999999997,
          0.6869999999999997,
          0.6889999999999997,
          0.6909999999999997,
          0.6929999999999997,
          0.6959999999999997,
          0.6969999999999997
         ]
        },
        {
         "line": {
          "color": "#911eb4",
          "width": 1
         },
         "name": "tx_fee: 0.02 cdp_rate: 0.08",
         "type": "scatter3d",
         "x": [
          0.08,
          0.08,
          0.08,
          0.08,
          0.08,
          0.08,
          0.08,
          0.08,
          0.08,
          0.08
         ],
         "y": [
          1,
          2,
          3,
          4,
          5,
          6,
          7,
          8,
          9,
          10
         ],
         "z": [
          0.6739999999999997,
          0.6839999999999997,
          0.6869999999999997,
          0.6889999999999997,
          0.6919999999999997,
          0.6939999999999997,
          0.6959999999999997,
          0.6979999999999997,
          0.6999999999999997,
          0.7009999999999997
         ]
        },
        {
         "line": {
          "color": "#e6194b",
          "width": 1
         },
         "name": "tx_fee: 0.03 cdp_rate: 0.05",
         "type": "scatter3d",
         "x": [
          0.05,
          0.05,
          0.05,
          0.05,
          0.05,
          0.05,
          0.05,
          0.05,
          0.05,
          0.05
         ],
         "y": [
          1,
          2,
          3,
          4,
          5,
          6,
          7,
          8,
          9,
          10
         ],
         "z": [
          0.6269999999999997,
          0.6409999999999997,
          0.6449999999999997,
          0.6479999999999997,
          0.6509999999999997,
          0.6529999999999997,
          0.6569999999999997,
          0.6589999999999997,
          0.6609999999999997,
          0.6639999999999997
         ]
        },
        {
         "line": {
          "color": "#3cb44b",
          "width": 1
         },
         "name": "tx_fee: 0.03 cdp_rate: 0.06",
         "type": "scatter3d",
         "x": [
          0.06,
          0.06,
          0.06,
          0.06,
          0.06,
          0.06,
          0.06,
          0.06,
          0.06,
          0.06
         ],
         "y": [
          1,
          2,
          3,
          4,
          5,
          6,
          7,
          8,
          9,
          10
         ],
         "z": [
          0.6359999999999997,
          0.6539999999999997,
          0.6569999999999997,
          0.6599999999999997,
          0.6619999999999997,
          0.6649999999999997,
          0.6679999999999997,
          0.6699999999999997,
          0.6719999999999997,
          0.6739999999999997
         ]
        },
        {
         "line": {
          "color": "#ffe119",
          "width": 1
         },
         "name": "tx_fee: 0.03 cdp_rate: 0.07",
         "type": "scatter3d",
         "x": [
          0.07,
          0.07,
          0.07,
          0.07,
          0.07,
          0.07,
          0.07,
          0.07,
          0.07,
          0.07
         ],
         "y": [
          1,
          2,
          3,
          4,
          5,
          6,
          7,
          8,
          9,
          10
         ],
         "z": [
          0.6469999999999997,
          0.6669999999999997,
          0.6699999999999997,
          0.6729999999999997,
          0.6749999999999997,
          0.6779999999999997,
          0.6799999999999997,
          0.6819999999999997,
          0.6839999999999997,
          0.6859999999999997
         ]
        },
        {
         "line": {
          "color": "#4363d8",
          "width": 1
         },
         "name": "tx_fee: 0.03 cdp_rate: 0.08",
         "type": "scatter3d",
         "x": [
          0.08,
          0.08,
          0.08,
          0.08,
          0.08,
          0.08,
          0.08,
          0.08,
          0.08,
          0.08
         ],
         "y": [
          1,
          2,
          3,
          4,
          5,
          6,
          7,
          8,
          9,
          10
         ],
         "z": [
          0.6599999999999997,
          0.6719999999999997,
          0.6749999999999997,
          0.6779999999999997,
          0.6799999999999997,
          0.6819999999999997,
          0.6839999999999997,
          0.6859999999999997,
          0.6879999999999997,
          0.6899999999999997
         ]
        },
        {
         "line": {
          "color": "#f58231",
          "width": 1
         },
         "name": "tx_fee: 0.04 cdp_rate: 0.05",
         "type": "scatter3d",
         "x": [
          0.05,
          0.05,
          0.05,
          0.05,
          0.05,
          0.05,
          0.05,
          0.05,
          0.05,
          0.05
         ],
         "y": [
          1,
          2,
          3,
          4,
          5,
          6,
          7,
          8,
          9,
          10
         ],
         "z": [
          0.6109999999999997,
          0.6279999999999997,
          0.6319999999999997,
          0.6349999999999997,
          0.6389999999999997,
          0.6409999999999997,
          0.6439999999999997,
          0.6469999999999997,
          0.6489999999999997,
          0.6519999999999997
         ]
        },
        {
         "line": {
          "color": "#911eb4",
          "width": 1
         },
         "name": "tx_fee: 0.04 cdp_rate: 0.06",
         "type": "scatter3d",
         "x": [
          0.06,
          0.06,
          0.06,
          0.06,
          0.06,
          0.06,
          0.06,
          0.06,
          0.06,
          0.06
         ],
         "y": [
          1,
          2,
          3,
          4,
          5,
          6,
          7,
          8,
          9,
          10
         ],
         "z": [
          0.6199999999999997,
          0.6399999999999997,
          0.6449999999999997,
          0.6479999999999997,
          0.6509999999999997,
          0.6529999999999997,
          0.6559999999999997,
          0.6579999999999997,
          0.6599999999999997,
          0.6619999999999997
         ]
        },
        {
         "line": {
          "color": "#e6194b",
          "width": 1
         },
         "name": "tx_fee: 0.04 cdp_rate: 0.07",
         "type": "scatter3d",
         "x": [
          0.07,
          0.07,
          0.07,
          0.07,
          0.07,
          0.07,
          0.07,
          0.07,
          0.07,
          0.07
         ],
         "y": [
          1,
          2,
          3,
          4,
          5,
          6,
          7,
          8,
          9,
          10
         ],
         "z": [
          0.6309999999999997,
          0.6529999999999997,
          0.6579999999999997,
          0.6609999999999997,
          0.6629999999999997,
          0.6659999999999997,
          0.6679999999999997,
          0.6699999999999997,
          0.6719999999999997,
          0.6739999999999997
         ]
        },
        {
         "line": {
          "color": "#3cb44b",
          "width": 1
         },
         "name": "tx_fee: 0.04 cdp_rate: 0.08",
         "type": "scatter3d",
         "x": [
          0.08,
          0.08,
          0.08,
          0.08,
          0.08,
          0.08,
          0.08,
          0.08,
          0.08,
          0.08
         ],
         "y": [
          1,
          2,
          3,
          4,
          5,
          6,
          7,
          8,
          9,
          10
         ],
         "z": [
          0.6429999999999997,
          0.6609999999999997,
          0.6639999999999997,
          0.6669999999999997,
          0.6689999999999997,
          0.6709999999999997,
          0.6729999999999997,
          0.6749999999999997,
          0.6769999999999997,
          0.6789999999999997
         ]
        }
       ],
       "layout": {
        "scene": {
         "xaxis": {
          "title": {
           "text": "CDP Rate"
          }
         },
         "yaxis": {
          "title": {
           "text": "Days"
          }
         },
         "zaxis": {
          "title": {
           "text": "DAI Price"
          }
         }
        },
        "template": {
         "data": {
          "bar": [
           {
            "error_x": {
             "color": "#2a3f5f"
            },
            "error_y": {
             "color": "#2a3f5f"
            },
            "marker": {
             "line": {
              "color": "#E5ECF6",
              "width": 0.5
             }
            },
            "type": "bar"
           }
          ],
          "barpolar": [
           {
            "marker": {
             "line": {
              "color": "#E5ECF6",
              "width": 0.5
             }
            },
            "type": "barpolar"
           }
          ],
          "carpet": [
           {
            "aaxis": {
             "endlinecolor": "#2a3f5f",
             "gridcolor": "white",
             "linecolor": "white",
             "minorgridcolor": "white",
             "startlinecolor": "#2a3f5f"
            },
            "baxis": {
             "endlinecolor": "#2a3f5f",
             "gridcolor": "white",
             "linecolor": "white",
             "minorgridcolor": "white",
             "startlinecolor": "#2a3f5f"
            },
            "type": "carpet"
           }
          ],
          "choropleth": [
           {
            "colorbar": {
             "outlinewidth": 0,
             "ticks": ""
            },
            "type": "choropleth"
           }
          ],
          "contour": [
           {
            "colorbar": {
             "outlinewidth": 0,
             "ticks": ""
            },
            "colorscale": [
             [
              0,
              "#0d0887"
             ],
             [
              0.1111111111111111,
              "#46039f"
             ],
             [
              0.2222222222222222,
              "#7201a8"
             ],
             [
              0.3333333333333333,
              "#9c179e"
             ],
             [
              0.4444444444444444,
              "#bd3786"
             ],
             [
              0.5555555555555556,
              "#d8576b"
             ],
             [
              0.6666666666666666,
              "#ed7953"
             ],
             [
              0.7777777777777778,
              "#fb9f3a"
             ],
             [
              0.8888888888888888,
              "#fdca26"
             ],
             [
              1,
              "#f0f921"
             ]
            ],
            "type": "contour"
           }
          ],
          "contourcarpet": [
           {
            "colorbar": {
             "outlinewidth": 0,
             "ticks": ""
            },
            "type": "contourcarpet"
           }
          ],
          "heatmap": [
           {
            "colorbar": {
             "outlinewidth": 0,
             "ticks": ""
            },
            "colorscale": [
             [
              0,
              "#0d0887"
             ],
             [
              0.1111111111111111,
              "#46039f"
             ],
             [
              0.2222222222222222,
              "#7201a8"
             ],
             [
              0.3333333333333333,
              "#9c179e"
             ],
             [
              0.4444444444444444,
              "#bd3786"
             ],
             [
              0.5555555555555556,
              "#d8576b"
             ],
             [
              0.6666666666666666,
              "#ed7953"
             ],
             [
              0.7777777777777778,
              "#fb9f3a"
             ],
             [
              0.8888888888888888,
              "#fdca26"
             ],
             [
              1,
              "#f0f921"
             ]
            ],
            "type": "heatmap"
           }
          ],
          "heatmapgl": [
           {
            "colorbar": {
             "outlinewidth": 0,
             "ticks": ""
            },
            "colorscale": [
             [
              0,
              "#0d0887"
             ],
             [
              0.1111111111111111,
              "#46039f"
             ],
             [
              0.2222222222222222,
              "#7201a8"
             ],
             [
              0.3333333333333333,
              "#9c179e"
             ],
             [
              0.4444444444444444,
              "#bd3786"
             ],
             [
              0.5555555555555556,
              "#d8576b"
             ],
             [
              0.6666666666666666,
              "#ed7953"
             ],
             [
              0.7777777777777778,
              "#fb9f3a"
             ],
             [
              0.8888888888888888,
              "#fdca26"
             ],
             [
              1,
              "#f0f921"
             ]
            ],
            "type": "heatmapgl"
           }
          ],
          "histogram": [
           {
            "marker": {
             "colorbar": {
              "outlinewidth": 0,
              "ticks": ""
             }
            },
            "type": "histogram"
           }
          ],
          "histogram2d": [
           {
            "colorbar": {
             "outlinewidth": 0,
             "ticks": ""
            },
            "colorscale": [
             [
              0,
              "#0d0887"
             ],
             [
              0.1111111111111111,
              "#46039f"
             ],
             [
              0.2222222222222222,
              "#7201a8"
             ],
             [
              0.3333333333333333,
              "#9c179e"
             ],
             [
              0.4444444444444444,
              "#bd3786"
             ],
             [
              0.5555555555555556,
              "#d8576b"
             ],
             [
              0.6666666666666666,
              "#ed7953"
             ],
             [
              0.7777777777777778,
              "#fb9f3a"
             ],
             [
              0.8888888888888888,
              "#fdca26"
             ],
             [
              1,
              "#f0f921"
             ]
            ],
            "type": "histogram2d"
           }
          ],
          "histogram2dcontour": [
           {
            "colorbar": {
             "outlinewidth": 0,
             "ticks": ""
            },
            "colorscale": [
             [
              0,
              "#0d0887"
             ],
             [
              0.1111111111111111,
              "#46039f"
             ],
             [
              0.2222222222222222,
              "#7201a8"
             ],
             [
              0.3333333333333333,
              "#9c179e"
             ],
             [
              0.4444444444444444,
              "#bd3786"
             ],
             [
              0.5555555555555556,
              "#d8576b"
             ],
             [
              0.6666666666666666,
              "#ed7953"
             ],
             [
              0.7777777777777778,
              "#fb9f3a"
             ],
             [
              0.8888888888888888,
              "#fdca26"
             ],
             [
              1,
              "#f0f921"
             ]
            ],
            "type": "histogram2dcontour"
           }
          ],
          "mesh3d": [
           {
            "colorbar": {
             "outlinewidth": 0,
             "ticks": ""
            },
            "type": "mesh3d"
           }
          ],
          "parcoords": [
           {
            "line": {
             "colorbar": {
              "outlinewidth": 0,
              "ticks": ""
             }
            },
            "type": "parcoords"
           }
          ],
          "pie": [
           {
            "automargin": true,
            "type": "pie"
           }
          ],
          "scatter": [
           {
            "marker": {
             "colorbar": {
              "outlinewidth": 0,
              "ticks": ""
             }
            },
            "type": "scatter"
           }
          ],
          "scatter3d": [
           {
            "line": {
             "colorbar": {
              "outlinewidth": 0,
              "ticks": ""
             }
            },
            "marker": {
             "colorbar": {
              "outlinewidth": 0,
              "ticks": ""
             }
            },
            "type": "scatter3d"
           }
          ],
          "scattercarpet": [
           {
            "marker": {
             "colorbar": {
              "outlinewidth": 0,
              "ticks": ""
             }
            },
            "type": "scattercarpet"
           }
          ],
          "scattergeo": [
           {
            "marker": {
             "colorbar": {
              "outlinewidth": 0,
              "ticks": ""
             }
            },
            "type": "scattergeo"
           }
          ],
          "scattergl": [
           {
            "marker": {
             "colorbar": {
              "outlinewidth": 0,
              "ticks": ""
             }
            },
            "type": "scattergl"
           }
          ],
          "scattermapbox": [
           {
            "marker": {
             "colorbar": {
              "outlinewidth": 0,
              "ticks": ""
             }
            },
            "type": "scattermapbox"
           }
          ],
          "scatterpolar": [
           {
            "marker": {
             "colorbar": {
              "outlinewidth": 0,
              "ticks": ""
             }
            },
            "type": "scatterpolar"
           }
          ],
          "scatterpolargl": [
           {
            "marker": {
             "colorbar": {
              "outlinewidth": 0,
              "ticks": ""
             }
            },
            "type": "scatterpolargl"
           }
          ],
          "scatterternary": [
           {
            "marker": {
             "colorbar": {
              "outlinewidth": 0,
              "ticks": ""
             }
            },
            "type": "scatterternary"
           }
          ],
          "surface": [
           {
            "colorbar": {
             "outlinewidth": 0,
             "ticks": ""
            },
            "colorscale": [
             [
              0,
              "#0d0887"
             ],
             [
              0.1111111111111111,
              "#46039f"
             ],
             [
              0.2222222222222222,
              "#7201a8"
             ],
             [
              0.3333333333333333,
              "#9c179e"
             ],
             [
              0.4444444444444444,
              "#bd3786"
             ],
             [
              0.5555555555555556,
              "#d8576b"
             ],
             [
              0.6666666666666666,
              "#ed7953"
             ],
             [
              0.7777777777777778,
              "#fb9f3a"
             ],
             [
              0.8888888888888888,
              "#fdca26"
             ],
             [
              1,
              "#f0f921"
             ]
            ],
            "type": "surface"
           }
          ],
          "table": [
           {
            "cells": {
             "fill": {
              "color": "#EBF0F8"
             },
             "line": {
              "color": "white"
             }
            },
            "header": {
             "fill": {
              "color": "#C8D4E3"
             },
             "line": {
              "color": "white"
             }
            },
            "type": "table"
           }
          ]
         },
         "layout": {
          "annotationdefaults": {
           "arrowcolor": "#2a3f5f",
           "arrowhead": 0,
           "arrowwidth": 1
          },
          "coloraxis": {
           "colorbar": {
            "outlinewidth": 0,
            "ticks": ""
           }
          },
          "colorscale": {
           "diverging": [
            [
             0,
             "#8e0152"
            ],
            [
             0.1,
             "#c51b7d"
            ],
            [
             0.2,
             "#de77ae"
            ],
            [
             0.3,
             "#f1b6da"
            ],
            [
             0.4,
             "#fde0ef"
            ],
            [
             0.5,
             "#f7f7f7"
            ],
            [
             0.6,
             "#e6f5d0"
            ],
            [
             0.7,
             "#b8e186"
            ],
            [
             0.8,
             "#7fbc41"
            ],
            [
             0.9,
             "#4d9221"
            ],
            [
             1,
             "#276419"
            ]
           ],
           "sequential": [
            [
             0,
             "#0d0887"
            ],
            [
             0.1111111111111111,
             "#46039f"
            ],
            [
             0.2222222222222222,
             "#7201a8"
            ],
            [
             0.3333333333333333,
             "#9c179e"
            ],
            [
             0.4444444444444444,
             "#bd3786"
            ],
            [
             0.5555555555555556,
             "#d8576b"
            ],
            [
             0.6666666666666666,
             "#ed7953"
            ],
            [
             0.7777777777777778,
             "#fb9f3a"
            ],
            [
             0.8888888888888888,
             "#fdca26"
            ],
            [
             1,
             "#f0f921"
            ]
           ],
           "sequentialminus": [
            [
             0,
             "#0d0887"
            ],
            [
             0.1111111111111111,
             "#46039f"
            ],
            [
             0.2222222222222222,
             "#7201a8"
            ],
            [
             0.3333333333333333,
             "#9c179e"
            ],
            [
             0.4444444444444444,
             "#bd3786"
            ],
            [
             0.5555555555555556,
             "#d8576b"
            ],
            [
             0.6666666666666666,
             "#ed7953"
            ],
            [
             0.7777777777777778,
             "#fb9f3a"
            ],
            [
             0.8888888888888888,
             "#fdca26"
            ],
            [
             1,
             "#f0f921"
            ]
           ]
          },
          "colorway": [
           "#636efa",
           "#EF553B",
           "#00cc96",
           "#ab63fa",
           "#FFA15A",
           "#19d3f3",
           "#FF6692",
           "#B6E880",
           "#FF97FF",
           "#FECB52"
          ],
          "font": {
           "color": "#2a3f5f"
          },
          "geo": {
           "bgcolor": "white",
           "lakecolor": "white",
           "landcolor": "#E5ECF6",
           "showlakes": true,
           "showland": true,
           "subunitcolor": "white"
          },
          "hoverlabel": {
           "align": "left"
          },
          "hovermode": "closest",
          "mapbox": {
           "style": "light"
          },
          "paper_bgcolor": "white",
          "plot_bgcolor": "#E5ECF6",
          "polar": {
           "angularaxis": {
            "gridcolor": "white",
            "linecolor": "white",
            "ticks": ""
           },
           "bgcolor": "#E5ECF6",
           "radialaxis": {
            "gridcolor": "white",
            "linecolor": "white",
            "ticks": ""
           }
          },
          "scene": {
           "xaxis": {
            "backgroundcolor": "#E5ECF6",
            "gridcolor": "white",
            "gridwidth": 2,
            "linecolor": "white",
            "showbackground": true,
            "ticks": "",
            "zerolinecolor": "white"
           },
           "yaxis": {
            "backgroundcolor": "#E5ECF6",
            "gridcolor": "white",
            "gridwidth": 2,
            "linecolor": "white",
            "showbackground": true,
            "ticks": "",
            "zerolinecolor": "white"
           },
           "zaxis": {
            "backgroundcolor": "#E5ECF6",
            "gridcolor": "white",
            "gridwidth": 2,
            "linecolor": "white",
            "showbackground": true,
            "ticks": "",
            "zerolinecolor": "white"
           }
          },
          "shapedefaults": {
           "line": {
            "color": "#2a3f5f"
           }
          },
          "ternary": {
           "aaxis": {
            "gridcolor": "white",
            "linecolor": "white",
            "ticks": ""
           },
           "baxis": {
            "gridcolor": "white",
            "linecolor": "white",
            "ticks": ""
           },
           "bgcolor": "#E5ECF6",
           "caxis": {
            "gridcolor": "white",
            "linecolor": "white",
            "ticks": ""
           }
          },
          "title": {
           "x": 0.05
          },
          "xaxis": {
           "automargin": true,
           "gridcolor": "white",
           "linecolor": "white",
           "ticks": "",
           "title": {
            "standoff": 15
           },
           "zerolinecolor": "white",
           "zerolinewidth": 2
          },
          "yaxis": {
           "automargin": true,
           "gridcolor": "white",
           "linecolor": "white",
           "ticks": "",
           "title": {
            "standoff": 15
           },
           "zerolinecolor": "white",
           "zerolinewidth": 2
          }
         }
        }
       }
      },
      "text/html": [
       "<div>\n",
       "        \n",
       "        \n",
       "            <div id=\"c5d03776-2a9e-4f72-8ba9-e75d9b8bc93c\" class=\"plotly-graph-div\" style=\"height:525px; width:100%;\"></div>\n",
       "            <script type=\"text/javascript\">\n",
       "                require([\"plotly\"], function(Plotly) {\n",
       "                    window.PLOTLYENV=window.PLOTLYENV || {};\n",
       "                    \n",
       "                if (document.getElementById(\"c5d03776-2a9e-4f72-8ba9-e75d9b8bc93c\")) {\n",
       "                    Plotly.newPlot(\n",
       "                        'c5d03776-2a9e-4f72-8ba9-e75d9b8bc93c',\n",
       "                        [{\"line\": {\"color\": \"#e6194b\", \"width\": 1}, \"name\": \"tx_fee: 0.0 cdp_rate: 0.05\", \"type\": \"scatter3d\", \"x\": [0.05, 0.05, 0.05, 0.05, 0.05, 0.05, 0.05, 0.05, 0.05, 0.05], \"y\": [1, 2, 3, 4, 5, 6, 7, 8, 9, 10], \"z\": [0.6769999999999997, 0.6809999999999997, 0.6839999999999997, 0.6869999999999997, 0.6889999999999997, 0.6919999999999997, 0.6949999999999997, 0.6969999999999997, 0.6989999999999997, 0.7009999999999997]}, {\"line\": {\"color\": \"#3cb44b\", \"width\": 1}, \"name\": \"tx_fee: 0.0 cdp_rate: 0.06\", \"type\": \"scatter3d\", \"x\": [0.06, 0.06, 0.06, 0.06, 0.06, 0.06, 0.06, 0.06, 0.06, 0.06], \"y\": [1, 2, 3, 4, 5, 6, 7, 8, 9, 10], \"z\": [0.6899999999999997, 0.6929999999999997, 0.6959999999999997, 0.6979999999999997, 0.7009999999999997, 0.7029999999999997, 0.7049999999999997, 0.7069999999999997, 0.7089999999999997, 0.7109999999999997]}, {\"line\": {\"color\": \"#ffe119\", \"width\": 1}, \"name\": \"tx_fee: 0.0 cdp_rate: 0.07\", \"type\": \"scatter3d\", \"x\": [0.07, 0.07, 0.07, 0.07, 0.07, 0.07, 0.07, 0.07, 0.07, 0.07], \"y\": [1, 2, 3, 4, 5, 6, 7, 8, 9, 10], \"z\": [0.6989999999999997, 0.7019999999999997, 0.7049999999999997, 0.7069999999999997, 0.7089999999999997, 0.7109999999999997, 0.7139999999999997, 0.7159999999999997, 0.7169999999999997, 0.7189999999999998]}, {\"line\": {\"color\": \"#4363d8\", \"width\": 1}, \"name\": \"tx_fee: 0.0 cdp_rate: 0.08\", \"type\": \"scatter3d\", \"x\": [0.08, 0.08, 0.08, 0.08, 0.08, 0.08, 0.08, 0.08, 0.08, 0.08], \"y\": [1, 2, 3, 4, 5, 6, 7, 8, 9, 10], \"z\": [0.7069999999999997, 0.7089999999999997, 0.7119999999999997, 0.7139999999999997, 0.7159999999999997, 0.7179999999999997, 0.7199999999999998, 0.7219999999999998, 0.7229999999999998, 0.7249999999999998]}, {\"line\": {\"color\": \"#f58231\", \"width\": 1}, \"name\": \"tx_fee: 0.01 cdp_rate: 0.05\", \"type\": \"scatter3d\", \"x\": [0.05, 0.05, 0.05, 0.05, 0.05, 0.05, 0.05, 0.05, 0.05, 0.05], \"y\": [1, 2, 3, 4, 5, 6, 7, 8, 9, 10], \"z\": [0.6559999999999997, 0.6669999999999997, 0.6709999999999997, 0.6739999999999997, 0.6759999999999997, 0.6799999999999997, 0.6819999999999997, 0.6839999999999997, 0.6869999999999997, 0.6889999999999997]}, {\"line\": {\"color\": \"#911eb4\", \"width\": 1}, \"name\": \"tx_fee: 0.01 cdp_rate: 0.06\", \"type\": \"scatter3d\", \"x\": [0.06, 0.06, 0.06, 0.06, 0.06, 0.06, 0.06, 0.06, 0.06, 0.06], \"y\": [1, 2, 3, 4, 5, 6, 7, 8, 9, 10], \"z\": [0.6679999999999997, 0.6789999999999997, 0.6829999999999997, 0.6859999999999997, 0.6889999999999997, 0.6909999999999997, 0.6929999999999997, 0.6959999999999997, 0.6979999999999997, 0.6999999999999997]}, {\"line\": {\"color\": \"#e6194b\", \"width\": 1}, \"name\": \"tx_fee: 0.01 cdp_rate: 0.07\", \"type\": \"scatter3d\", \"x\": [0.07, 0.07, 0.07, 0.07, 0.07, 0.07, 0.07, 0.07, 0.07, 0.07], \"y\": [1, 2, 3, 4, 5, 6, 7, 8, 9, 10], \"z\": [0.6809999999999997, 0.6889999999999997, 0.6919999999999997, 0.6939999999999997, 0.6969999999999997, 0.6999999999999997, 0.7019999999999997, 0.7039999999999997, 0.7059999999999997, 0.7079999999999997]}, {\"line\": {\"color\": \"#3cb44b\", \"width\": 1}, \"name\": \"tx_fee: 0.01 cdp_rate: 0.08\", \"type\": \"scatter3d\", \"x\": [0.08, 0.08, 0.08, 0.08, 0.08, 0.08, 0.08, 0.08, 0.08, 0.08], \"y\": [1, 2, 3, 4, 5, 6, 7, 8, 9, 10], \"z\": [0.6879999999999997, 0.6949999999999997, 0.6979999999999997, 0.7009999999999997, 0.7029999999999997, 0.7049999999999997, 0.7069999999999997, 0.7089999999999997, 0.7109999999999997, 0.7129999999999997]}, {\"line\": {\"color\": \"#ffe119\", \"width\": 1}, \"name\": \"tx_fee: 0.02 cdp_rate: 0.05\", \"type\": \"scatter3d\", \"x\": [0.05, 0.05, 0.05, 0.05, 0.05, 0.05, 0.05, 0.05, 0.05, 0.05], \"y\": [1, 2, 3, 4, 5, 6, 7, 8, 9, 10], \"z\": [0.6409999999999997, 0.6539999999999997, 0.6569999999999997, 0.6609999999999997, 0.6629999999999997, 0.6659999999999997, 0.6689999999999997, 0.6709999999999997, 0.6739999999999997, 0.6759999999999997]}, {\"line\": {\"color\": \"#4363d8\", \"width\": 1}, \"name\": \"tx_fee: 0.02 cdp_rate: 0.06\", \"type\": \"scatter3d\", \"x\": [0.06, 0.06, 0.06, 0.06, 0.06, 0.06, 0.06, 0.06, 0.06, 0.06], \"y\": [1, 2, 3, 4, 5, 6, 7, 8, 9, 10], \"z\": [0.6509999999999997, 0.6659999999999997, 0.6699999999999997, 0.6729999999999997, 0.6759999999999997, 0.6779999999999997, 0.6809999999999997, 0.6829999999999997, 0.6849999999999997, 0.6869999999999997]}, {\"line\": {\"color\": \"#f58231\", \"width\": 1}, \"name\": \"tx_fee: 0.02 cdp_rate: 0.07\", \"type\": \"scatter3d\", \"x\": [0.07, 0.07, 0.07, 0.07, 0.07, 0.07, 0.07, 0.07, 0.07, 0.07], \"y\": [1, 2, 3, 4, 5, 6, 7, 8, 9, 10], \"z\": [0.6629999999999997, 0.6789999999999997, 0.6819999999999997, 0.6839999999999997, 0.6869999999999997, 0.6889999999999997, 0.6909999999999997, 0.6929999999999997, 0.6959999999999997, 0.6969999999999997]}, {\"line\": {\"color\": \"#911eb4\", \"width\": 1}, \"name\": \"tx_fee: 0.02 cdp_rate: 0.08\", \"type\": \"scatter3d\", \"x\": [0.08, 0.08, 0.08, 0.08, 0.08, 0.08, 0.08, 0.08, 0.08, 0.08], \"y\": [1, 2, 3, 4, 5, 6, 7, 8, 9, 10], \"z\": [0.6739999999999997, 0.6839999999999997, 0.6869999999999997, 0.6889999999999997, 0.6919999999999997, 0.6939999999999997, 0.6959999999999997, 0.6979999999999997, 0.6999999999999997, 0.7009999999999997]}, {\"line\": {\"color\": \"#e6194b\", \"width\": 1}, \"name\": \"tx_fee: 0.03 cdp_rate: 0.05\", \"type\": \"scatter3d\", \"x\": [0.05, 0.05, 0.05, 0.05, 0.05, 0.05, 0.05, 0.05, 0.05, 0.05], \"y\": [1, 2, 3, 4, 5, 6, 7, 8, 9, 10], \"z\": [0.6269999999999997, 0.6409999999999997, 0.6449999999999997, 0.6479999999999997, 0.6509999999999997, 0.6529999999999997, 0.6569999999999997, 0.6589999999999997, 0.6609999999999997, 0.6639999999999997]}, {\"line\": {\"color\": \"#3cb44b\", \"width\": 1}, \"name\": \"tx_fee: 0.03 cdp_rate: 0.06\", \"type\": \"scatter3d\", \"x\": [0.06, 0.06, 0.06, 0.06, 0.06, 0.06, 0.06, 0.06, 0.06, 0.06], \"y\": [1, 2, 3, 4, 5, 6, 7, 8, 9, 10], \"z\": [0.6359999999999997, 0.6539999999999997, 0.6569999999999997, 0.6599999999999997, 0.6619999999999997, 0.6649999999999997, 0.6679999999999997, 0.6699999999999997, 0.6719999999999997, 0.6739999999999997]}, {\"line\": {\"color\": \"#ffe119\", \"width\": 1}, \"name\": \"tx_fee: 0.03 cdp_rate: 0.07\", \"type\": \"scatter3d\", \"x\": [0.07, 0.07, 0.07, 0.07, 0.07, 0.07, 0.07, 0.07, 0.07, 0.07], \"y\": [1, 2, 3, 4, 5, 6, 7, 8, 9, 10], \"z\": [0.6469999999999997, 0.6669999999999997, 0.6699999999999997, 0.6729999999999997, 0.6749999999999997, 0.6779999999999997, 0.6799999999999997, 0.6819999999999997, 0.6839999999999997, 0.6859999999999997]}, {\"line\": {\"color\": \"#4363d8\", \"width\": 1}, \"name\": \"tx_fee: 0.03 cdp_rate: 0.08\", \"type\": \"scatter3d\", \"x\": [0.08, 0.08, 0.08, 0.08, 0.08, 0.08, 0.08, 0.08, 0.08, 0.08], \"y\": [1, 2, 3, 4, 5, 6, 7, 8, 9, 10], \"z\": [0.6599999999999997, 0.6719999999999997, 0.6749999999999997, 0.6779999999999997, 0.6799999999999997, 0.6819999999999997, 0.6839999999999997, 0.6859999999999997, 0.6879999999999997, 0.6899999999999997]}, {\"line\": {\"color\": \"#f58231\", \"width\": 1}, \"name\": \"tx_fee: 0.04 cdp_rate: 0.05\", \"type\": \"scatter3d\", \"x\": [0.05, 0.05, 0.05, 0.05, 0.05, 0.05, 0.05, 0.05, 0.05, 0.05], \"y\": [1, 2, 3, 4, 5, 6, 7, 8, 9, 10], \"z\": [0.6109999999999997, 0.6279999999999997, 0.6319999999999997, 0.6349999999999997, 0.6389999999999997, 0.6409999999999997, 0.6439999999999997, 0.6469999999999997, 0.6489999999999997, 0.6519999999999997]}, {\"line\": {\"color\": \"#911eb4\", \"width\": 1}, \"name\": \"tx_fee: 0.04 cdp_rate: 0.06\", \"type\": \"scatter3d\", \"x\": [0.06, 0.06, 0.06, 0.06, 0.06, 0.06, 0.06, 0.06, 0.06, 0.06], \"y\": [1, 2, 3, 4, 5, 6, 7, 8, 9, 10], \"z\": [0.6199999999999997, 0.6399999999999997, 0.6449999999999997, 0.6479999999999997, 0.6509999999999997, 0.6529999999999997, 0.6559999999999997, 0.6579999999999997, 0.6599999999999997, 0.6619999999999997]}, {\"line\": {\"color\": \"#e6194b\", \"width\": 1}, \"name\": \"tx_fee: 0.04 cdp_rate: 0.07\", \"type\": \"scatter3d\", \"x\": [0.07, 0.07, 0.07, 0.07, 0.07, 0.07, 0.07, 0.07, 0.07, 0.07], \"y\": [1, 2, 3, 4, 5, 6, 7, 8, 9, 10], \"z\": [0.6309999999999997, 0.6529999999999997, 0.6579999999999997, 0.6609999999999997, 0.6629999999999997, 0.6659999999999997, 0.6679999999999997, 0.6699999999999997, 0.6719999999999997, 0.6739999999999997]}, {\"line\": {\"color\": \"#3cb44b\", \"width\": 1}, \"name\": \"tx_fee: 0.04 cdp_rate: 0.08\", \"type\": \"scatter3d\", \"x\": [0.08, 0.08, 0.08, 0.08, 0.08, 0.08, 0.08, 0.08, 0.08, 0.08], \"y\": [1, 2, 3, 4, 5, 6, 7, 8, 9, 10], \"z\": [0.6429999999999997, 0.6609999999999997, 0.6639999999999997, 0.6669999999999997, 0.6689999999999997, 0.6709999999999997, 0.6729999999999997, 0.6749999999999997, 0.6769999999999997, 0.6789999999999997]}],\n",
       "                        {\"scene\": {\"xaxis\": {\"title\": {\"text\": \"CDP Rate\"}}, \"yaxis\": {\"title\": {\"text\": \"Days\"}}, \"zaxis\": {\"title\": {\"text\": \"DAI Price\"}}}, \"template\": {\"data\": {\"bar\": [{\"error_x\": {\"color\": \"#2a3f5f\"}, \"error_y\": {\"color\": \"#2a3f5f\"}, \"marker\": {\"line\": {\"color\": \"#E5ECF6\", \"width\": 0.5}}, \"type\": \"bar\"}], \"barpolar\": [{\"marker\": {\"line\": {\"color\": \"#E5ECF6\", \"width\": 0.5}}, \"type\": \"barpolar\"}], \"carpet\": [{\"aaxis\": {\"endlinecolor\": \"#2a3f5f\", \"gridcolor\": \"white\", \"linecolor\": \"white\", \"minorgridcolor\": \"white\", \"startlinecolor\": \"#2a3f5f\"}, \"baxis\": {\"endlinecolor\": \"#2a3f5f\", \"gridcolor\": \"white\", \"linecolor\": \"white\", \"minorgridcolor\": \"white\", \"startlinecolor\": \"#2a3f5f\"}, \"type\": \"carpet\"}], \"choropleth\": [{\"colorbar\": {\"outlinewidth\": 0, \"ticks\": \"\"}, \"type\": \"choropleth\"}], \"contour\": [{\"colorbar\": {\"outlinewidth\": 0, \"ticks\": \"\"}, \"colorscale\": [[0.0, \"#0d0887\"], [0.1111111111111111, \"#46039f\"], [0.2222222222222222, \"#7201a8\"], [0.3333333333333333, \"#9c179e\"], [0.4444444444444444, \"#bd3786\"], [0.5555555555555556, \"#d8576b\"], [0.6666666666666666, \"#ed7953\"], [0.7777777777777778, \"#fb9f3a\"], [0.8888888888888888, \"#fdca26\"], [1.0, \"#f0f921\"]], \"type\": \"contour\"}], \"contourcarpet\": [{\"colorbar\": {\"outlinewidth\": 0, \"ticks\": \"\"}, \"type\": \"contourcarpet\"}], \"heatmap\": [{\"colorbar\": {\"outlinewidth\": 0, \"ticks\": \"\"}, \"colorscale\": [[0.0, \"#0d0887\"], [0.1111111111111111, \"#46039f\"], [0.2222222222222222, \"#7201a8\"], [0.3333333333333333, \"#9c179e\"], [0.4444444444444444, \"#bd3786\"], [0.5555555555555556, \"#d8576b\"], [0.6666666666666666, \"#ed7953\"], [0.7777777777777778, \"#fb9f3a\"], [0.8888888888888888, \"#fdca26\"], [1.0, \"#f0f921\"]], \"type\": \"heatmap\"}], \"heatmapgl\": [{\"colorbar\": {\"outlinewidth\": 0, \"ticks\": \"\"}, \"colorscale\": [[0.0, \"#0d0887\"], [0.1111111111111111, \"#46039f\"], [0.2222222222222222, \"#7201a8\"], [0.3333333333333333, \"#9c179e\"], [0.4444444444444444, \"#bd3786\"], [0.5555555555555556, \"#d8576b\"], [0.6666666666666666, \"#ed7953\"], [0.7777777777777778, \"#fb9f3a\"], [0.8888888888888888, \"#fdca26\"], [1.0, \"#f0f921\"]], \"type\": \"heatmapgl\"}], \"histogram\": [{\"marker\": {\"colorbar\": {\"outlinewidth\": 0, \"ticks\": \"\"}}, \"type\": \"histogram\"}], \"histogram2d\": [{\"colorbar\": {\"outlinewidth\": 0, \"ticks\": \"\"}, \"colorscale\": [[0.0, \"#0d0887\"], [0.1111111111111111, \"#46039f\"], [0.2222222222222222, \"#7201a8\"], [0.3333333333333333, \"#9c179e\"], [0.4444444444444444, \"#bd3786\"], [0.5555555555555556, \"#d8576b\"], [0.6666666666666666, \"#ed7953\"], [0.7777777777777778, \"#fb9f3a\"], [0.8888888888888888, \"#fdca26\"], [1.0, \"#f0f921\"]], \"type\": \"histogram2d\"}], \"histogram2dcontour\": [{\"colorbar\": {\"outlinewidth\": 0, \"ticks\": \"\"}, \"colorscale\": [[0.0, \"#0d0887\"], [0.1111111111111111, \"#46039f\"], [0.2222222222222222, \"#7201a8\"], [0.3333333333333333, \"#9c179e\"], [0.4444444444444444, \"#bd3786\"], [0.5555555555555556, \"#d8576b\"], [0.6666666666666666, \"#ed7953\"], [0.7777777777777778, \"#fb9f3a\"], [0.8888888888888888, \"#fdca26\"], [1.0, \"#f0f921\"]], \"type\": \"histogram2dcontour\"}], \"mesh3d\": [{\"colorbar\": {\"outlinewidth\": 0, \"ticks\": \"\"}, \"type\": \"mesh3d\"}], \"parcoords\": [{\"line\": {\"colorbar\": {\"outlinewidth\": 0, \"ticks\": \"\"}}, \"type\": \"parcoords\"}], \"pie\": [{\"automargin\": true, \"type\": \"pie\"}], \"scatter\": [{\"marker\": {\"colorbar\": {\"outlinewidth\": 0, \"ticks\": \"\"}}, \"type\": \"scatter\"}], \"scatter3d\": [{\"line\": {\"colorbar\": {\"outlinewidth\": 0, \"ticks\": \"\"}}, \"marker\": {\"colorbar\": {\"outlinewidth\": 0, \"ticks\": \"\"}}, \"type\": \"scatter3d\"}], \"scattercarpet\": [{\"marker\": {\"colorbar\": {\"outlinewidth\": 0, \"ticks\": \"\"}}, \"type\": \"scattercarpet\"}], \"scattergeo\": [{\"marker\": {\"colorbar\": {\"outlinewidth\": 0, \"ticks\": \"\"}}, \"type\": \"scattergeo\"}], \"scattergl\": [{\"marker\": {\"colorbar\": {\"outlinewidth\": 0, \"ticks\": \"\"}}, \"type\": \"scattergl\"}], \"scattermapbox\": [{\"marker\": {\"colorbar\": {\"outlinewidth\": 0, \"ticks\": \"\"}}, \"type\": \"scattermapbox\"}], \"scatterpolar\": [{\"marker\": {\"colorbar\": {\"outlinewidth\": 0, \"ticks\": \"\"}}, \"type\": \"scatterpolar\"}], \"scatterpolargl\": [{\"marker\": {\"colorbar\": {\"outlinewidth\": 0, \"ticks\": \"\"}}, \"type\": \"scatterpolargl\"}], \"scatterternary\": [{\"marker\": {\"colorbar\": {\"outlinewidth\": 0, \"ticks\": \"\"}}, \"type\": \"scatterternary\"}], \"surface\": [{\"colorbar\": {\"outlinewidth\": 0, \"ticks\": \"\"}, \"colorscale\": [[0.0, \"#0d0887\"], [0.1111111111111111, \"#46039f\"], [0.2222222222222222, \"#7201a8\"], [0.3333333333333333, \"#9c179e\"], [0.4444444444444444, \"#bd3786\"], [0.5555555555555556, \"#d8576b\"], [0.6666666666666666, \"#ed7953\"], [0.7777777777777778, \"#fb9f3a\"], [0.8888888888888888, \"#fdca26\"], [1.0, \"#f0f921\"]], \"type\": \"surface\"}], \"table\": [{\"cells\": {\"fill\": {\"color\": \"#EBF0F8\"}, \"line\": {\"color\": \"white\"}}, \"header\": {\"fill\": {\"color\": \"#C8D4E3\"}, \"line\": {\"color\": \"white\"}}, \"type\": \"table\"}]}, \"layout\": {\"annotationdefaults\": {\"arrowcolor\": \"#2a3f5f\", \"arrowhead\": 0, \"arrowwidth\": 1}, \"coloraxis\": {\"colorbar\": {\"outlinewidth\": 0, \"ticks\": \"\"}}, \"colorscale\": {\"diverging\": [[0, \"#8e0152\"], [0.1, \"#c51b7d\"], [0.2, \"#de77ae\"], [0.3, \"#f1b6da\"], [0.4, \"#fde0ef\"], [0.5, \"#f7f7f7\"], [0.6, \"#e6f5d0\"], [0.7, \"#b8e186\"], [0.8, \"#7fbc41\"], [0.9, \"#4d9221\"], [1, \"#276419\"]], \"sequential\": [[0.0, \"#0d0887\"], [0.1111111111111111, \"#46039f\"], [0.2222222222222222, \"#7201a8\"], [0.3333333333333333, \"#9c179e\"], [0.4444444444444444, \"#bd3786\"], [0.5555555555555556, \"#d8576b\"], [0.6666666666666666, \"#ed7953\"], [0.7777777777777778, \"#fb9f3a\"], [0.8888888888888888, \"#fdca26\"], [1.0, \"#f0f921\"]], \"sequentialminus\": [[0.0, \"#0d0887\"], [0.1111111111111111, \"#46039f\"], [0.2222222222222222, \"#7201a8\"], [0.3333333333333333, \"#9c179e\"], [0.4444444444444444, \"#bd3786\"], [0.5555555555555556, \"#d8576b\"], [0.6666666666666666, \"#ed7953\"], [0.7777777777777778, \"#fb9f3a\"], [0.8888888888888888, \"#fdca26\"], [1.0, \"#f0f921\"]]}, \"colorway\": [\"#636efa\", \"#EF553B\", \"#00cc96\", \"#ab63fa\", \"#FFA15A\", \"#19d3f3\", \"#FF6692\", \"#B6E880\", \"#FF97FF\", \"#FECB52\"], \"font\": {\"color\": \"#2a3f5f\"}, \"geo\": {\"bgcolor\": \"white\", \"lakecolor\": \"white\", \"landcolor\": \"#E5ECF6\", \"showlakes\": true, \"showland\": true, \"subunitcolor\": \"white\"}, \"hoverlabel\": {\"align\": \"left\"}, \"hovermode\": \"closest\", \"mapbox\": {\"style\": \"light\"}, \"paper_bgcolor\": \"white\", \"plot_bgcolor\": \"#E5ECF6\", \"polar\": {\"angularaxis\": {\"gridcolor\": \"white\", \"linecolor\": \"white\", \"ticks\": \"\"}, \"bgcolor\": \"#E5ECF6\", \"radialaxis\": {\"gridcolor\": \"white\", \"linecolor\": \"white\", \"ticks\": \"\"}}, \"scene\": {\"xaxis\": {\"backgroundcolor\": \"#E5ECF6\", \"gridcolor\": \"white\", \"gridwidth\": 2, \"linecolor\": \"white\", \"showbackground\": true, \"ticks\": \"\", \"zerolinecolor\": \"white\"}, \"yaxis\": {\"backgroundcolor\": \"#E5ECF6\", \"gridcolor\": \"white\", \"gridwidth\": 2, \"linecolor\": \"white\", \"showbackground\": true, \"ticks\": \"\", \"zerolinecolor\": \"white\"}, \"zaxis\": {\"backgroundcolor\": \"#E5ECF6\", \"gridcolor\": \"white\", \"gridwidth\": 2, \"linecolor\": \"white\", \"showbackground\": true, \"ticks\": \"\", \"zerolinecolor\": \"white\"}}, \"shapedefaults\": {\"line\": {\"color\": \"#2a3f5f\"}}, \"ternary\": {\"aaxis\": {\"gridcolor\": \"white\", \"linecolor\": \"white\", \"ticks\": \"\"}, \"baxis\": {\"gridcolor\": \"white\", \"linecolor\": \"white\", \"ticks\": \"\"}, \"bgcolor\": \"#E5ECF6\", \"caxis\": {\"gridcolor\": \"white\", \"linecolor\": \"white\", \"ticks\": \"\"}}, \"title\": {\"x\": 0.05}, \"xaxis\": {\"automargin\": true, \"gridcolor\": \"white\", \"linecolor\": \"white\", \"ticks\": \"\", \"title\": {\"standoff\": 15}, \"zerolinecolor\": \"white\", \"zerolinewidth\": 2}, \"yaxis\": {\"automargin\": true, \"gridcolor\": \"white\", \"linecolor\": \"white\", \"ticks\": \"\", \"title\": {\"standoff\": 15}, \"zerolinecolor\": \"white\", \"zerolinewidth\": 2}}}},\n",
       "                        {\"responsive\": true}\n",
       "                    ).then(function(){\n",
       "                            \n",
       "var gd = document.getElementById('c5d03776-2a9e-4f72-8ba9-e75d9b8bc93c');\n",
       "var x = new MutationObserver(function (mutations, observer) {{\n",
       "        var display = window.getComputedStyle(gd).display;\n",
       "        if (!display || display === 'none') {{\n",
       "            console.log([gd, 'removed!']);\n",
       "            Plotly.purge(gd);\n",
       "            observer.disconnect();\n",
       "        }}\n",
       "}});\n",
       "\n",
       "// Listen for the removal of the full notebook cells\n",
       "var notebookContainer = gd.closest('#notebook-container');\n",
       "if (notebookContainer) {{\n",
       "    x.observe(notebookContainer, {childList: true});\n",
       "}}\n",
       "\n",
       "// Listen for the clearing of the current output cell\n",
       "var outputEl = gd.closest('.output');\n",
       "if (outputEl) {{\n",
       "    x.observe(outputEl, {childList: true});\n",
       "}}\n",
       "\n",
       "                        })\n",
       "                };\n",
       "                });\n",
       "            </script>\n",
       "        </div>"
      ]
     },
     "metadata": {},
     "output_type": "display_data"
    }
   ],
   "source": [
    "plotWithCDP(cdp_axis, txf_axis, dai_price_history_axis, \"CDP Rate\", \"Days\", \"DAI Price\")"
   ]
  },
  {
   "cell_type": "markdown",
   "metadata": {},
   "source": [
    "### Plot DAI Price History with Tx Fee"
   ]
  },
  {
   "cell_type": "code",
   "execution_count": 70,
   "metadata": {},
   "outputs": [
    {
     "data": {
      "application/vnd.plotly.v1+json": {
       "config": {
        "linkText": "Export to plot.ly",
        "plotlyServerURL": "https://plot.ly",
        "showLink": false
       },
       "data": [
        {
         "line": {
          "color": "#e6194b",
          "width": 1
         },
         "name": "cdp_rate: 0.05 tx_fee: 0.0",
         "type": "scatter3d",
         "x": [
          0,
          0,
          0,
          0,
          0,
          0,
          0,
          0,
          0,
          0
         ],
         "y": [
          1,
          2,
          3,
          4,
          5,
          6,
          7,
          8,
          9,
          10
         ],
         "z": [
          0.6769999999999997,
          0.6809999999999997,
          0.6839999999999997,
          0.6869999999999997,
          0.6889999999999997,
          0.6919999999999997,
          0.6949999999999997,
          0.6969999999999997,
          0.6989999999999997,
          0.7009999999999997
         ]
        },
        {
         "line": {
          "color": "#3cb44b",
          "width": 1
         },
         "name": "cdp_rate: 0.06 tx_fee: 0.0",
         "type": "scatter3d",
         "x": [
          0,
          0,
          0,
          0,
          0,
          0,
          0,
          0,
          0,
          0
         ],
         "y": [
          1,
          2,
          3,
          4,
          5,
          6,
          7,
          8,
          9,
          10
         ],
         "z": [
          0.6899999999999997,
          0.6929999999999997,
          0.6959999999999997,
          0.6979999999999997,
          0.7009999999999997,
          0.7029999999999997,
          0.7049999999999997,
          0.7069999999999997,
          0.7089999999999997,
          0.7109999999999997
         ]
        },
        {
         "line": {
          "color": "#ffe119",
          "width": 1
         },
         "name": "cdp_rate: 0.07 tx_fee: 0.0",
         "type": "scatter3d",
         "x": [
          0,
          0,
          0,
          0,
          0,
          0,
          0,
          0,
          0,
          0
         ],
         "y": [
          1,
          2,
          3,
          4,
          5,
          6,
          7,
          8,
          9,
          10
         ],
         "z": [
          0.6989999999999997,
          0.7019999999999997,
          0.7049999999999997,
          0.7069999999999997,
          0.7089999999999997,
          0.7109999999999997,
          0.7139999999999997,
          0.7159999999999997,
          0.7169999999999997,
          0.7189999999999998
         ]
        },
        {
         "line": {
          "color": "#4363d8",
          "width": 1
         },
         "name": "cdp_rate: 0.08 tx_fee: 0.0",
         "type": "scatter3d",
         "x": [
          0,
          0,
          0,
          0,
          0,
          0,
          0,
          0,
          0,
          0
         ],
         "y": [
          1,
          2,
          3,
          4,
          5,
          6,
          7,
          8,
          9,
          10
         ],
         "z": [
          0.7069999999999997,
          0.7089999999999997,
          0.7119999999999997,
          0.7139999999999997,
          0.7159999999999997,
          0.7179999999999997,
          0.7199999999999998,
          0.7219999999999998,
          0.7229999999999998,
          0.7249999999999998
         ]
        },
        {
         "line": {
          "color": "#f58231",
          "width": 1
         },
         "name": "cdp_rate: 0.05 tx_fee: 0.01",
         "type": "scatter3d",
         "x": [
          0.01,
          0.01,
          0.01,
          0.01,
          0.01,
          0.01,
          0.01,
          0.01,
          0.01,
          0.01
         ],
         "y": [
          1,
          2,
          3,
          4,
          5,
          6,
          7,
          8,
          9,
          10
         ],
         "z": [
          0.6559999999999997,
          0.6669999999999997,
          0.6709999999999997,
          0.6739999999999997,
          0.6759999999999997,
          0.6799999999999997,
          0.6819999999999997,
          0.6839999999999997,
          0.6869999999999997,
          0.6889999999999997
         ]
        },
        {
         "line": {
          "color": "#911eb4",
          "width": 1
         },
         "name": "cdp_rate: 0.06 tx_fee: 0.01",
         "type": "scatter3d",
         "x": [
          0.01,
          0.01,
          0.01,
          0.01,
          0.01,
          0.01,
          0.01,
          0.01,
          0.01,
          0.01
         ],
         "y": [
          1,
          2,
          3,
          4,
          5,
          6,
          7,
          8,
          9,
          10
         ],
         "z": [
          0.6679999999999997,
          0.6789999999999997,
          0.6829999999999997,
          0.6859999999999997,
          0.6889999999999997,
          0.6909999999999997,
          0.6929999999999997,
          0.6959999999999997,
          0.6979999999999997,
          0.6999999999999997
         ]
        },
        {
         "line": {
          "color": "#e6194b",
          "width": 1
         },
         "name": "cdp_rate: 0.07 tx_fee: 0.01",
         "type": "scatter3d",
         "x": [
          0.01,
          0.01,
          0.01,
          0.01,
          0.01,
          0.01,
          0.01,
          0.01,
          0.01,
          0.01
         ],
         "y": [
          1,
          2,
          3,
          4,
          5,
          6,
          7,
          8,
          9,
          10
         ],
         "z": [
          0.6809999999999997,
          0.6889999999999997,
          0.6919999999999997,
          0.6939999999999997,
          0.6969999999999997,
          0.6999999999999997,
          0.7019999999999997,
          0.7039999999999997,
          0.7059999999999997,
          0.7079999999999997
         ]
        },
        {
         "line": {
          "color": "#3cb44b",
          "width": 1
         },
         "name": "cdp_rate: 0.08 tx_fee: 0.01",
         "type": "scatter3d",
         "x": [
          0.01,
          0.01,
          0.01,
          0.01,
          0.01,
          0.01,
          0.01,
          0.01,
          0.01,
          0.01
         ],
         "y": [
          1,
          2,
          3,
          4,
          5,
          6,
          7,
          8,
          9,
          10
         ],
         "z": [
          0.6879999999999997,
          0.6949999999999997,
          0.6979999999999997,
          0.7009999999999997,
          0.7029999999999997,
          0.7049999999999997,
          0.7069999999999997,
          0.7089999999999997,
          0.7109999999999997,
          0.7129999999999997
         ]
        },
        {
         "line": {
          "color": "#ffe119",
          "width": 1
         },
         "name": "cdp_rate: 0.05 tx_fee: 0.02",
         "type": "scatter3d",
         "x": [
          0.02,
          0.02,
          0.02,
          0.02,
          0.02,
          0.02,
          0.02,
          0.02,
          0.02,
          0.02
         ],
         "y": [
          1,
          2,
          3,
          4,
          5,
          6,
          7,
          8,
          9,
          10
         ],
         "z": [
          0.6409999999999997,
          0.6539999999999997,
          0.6569999999999997,
          0.6609999999999997,
          0.6629999999999997,
          0.6659999999999997,
          0.6689999999999997,
          0.6709999999999997,
          0.6739999999999997,
          0.6759999999999997
         ]
        },
        {
         "line": {
          "color": "#4363d8",
          "width": 1
         },
         "name": "cdp_rate: 0.06 tx_fee: 0.02",
         "type": "scatter3d",
         "x": [
          0.02,
          0.02,
          0.02,
          0.02,
          0.02,
          0.02,
          0.02,
          0.02,
          0.02,
          0.02
         ],
         "y": [
          1,
          2,
          3,
          4,
          5,
          6,
          7,
          8,
          9,
          10
         ],
         "z": [
          0.6509999999999997,
          0.6659999999999997,
          0.6699999999999997,
          0.6729999999999997,
          0.6759999999999997,
          0.6779999999999997,
          0.6809999999999997,
          0.6829999999999997,
          0.6849999999999997,
          0.6869999999999997
         ]
        },
        {
         "line": {
          "color": "#f58231",
          "width": 1
         },
         "name": "cdp_rate: 0.07 tx_fee: 0.02",
         "type": "scatter3d",
         "x": [
          0.02,
          0.02,
          0.02,
          0.02,
          0.02,
          0.02,
          0.02,
          0.02,
          0.02,
          0.02
         ],
         "y": [
          1,
          2,
          3,
          4,
          5,
          6,
          7,
          8,
          9,
          10
         ],
         "z": [
          0.6629999999999997,
          0.6789999999999997,
          0.6819999999999997,
          0.6839999999999997,
          0.6869999999999997,
          0.6889999999999997,
          0.6909999999999997,
          0.6929999999999997,
          0.6959999999999997,
          0.6969999999999997
         ]
        },
        {
         "line": {
          "color": "#911eb4",
          "width": 1
         },
         "name": "cdp_rate: 0.08 tx_fee: 0.02",
         "type": "scatter3d",
         "x": [
          0.02,
          0.02,
          0.02,
          0.02,
          0.02,
          0.02,
          0.02,
          0.02,
          0.02,
          0.02
         ],
         "y": [
          1,
          2,
          3,
          4,
          5,
          6,
          7,
          8,
          9,
          10
         ],
         "z": [
          0.6739999999999997,
          0.6839999999999997,
          0.6869999999999997,
          0.6889999999999997,
          0.6919999999999997,
          0.6939999999999997,
          0.6959999999999997,
          0.6979999999999997,
          0.6999999999999997,
          0.7009999999999997
         ]
        },
        {
         "line": {
          "color": "#e6194b",
          "width": 1
         },
         "name": "cdp_rate: 0.05 tx_fee: 0.03",
         "type": "scatter3d",
         "x": [
          0.03,
          0.03,
          0.03,
          0.03,
          0.03,
          0.03,
          0.03,
          0.03,
          0.03,
          0.03
         ],
         "y": [
          1,
          2,
          3,
          4,
          5,
          6,
          7,
          8,
          9,
          10
         ],
         "z": [
          0.6269999999999997,
          0.6409999999999997,
          0.6449999999999997,
          0.6479999999999997,
          0.6509999999999997,
          0.6529999999999997,
          0.6569999999999997,
          0.6589999999999997,
          0.6609999999999997,
          0.6639999999999997
         ]
        },
        {
         "line": {
          "color": "#3cb44b",
          "width": 1
         },
         "name": "cdp_rate: 0.06 tx_fee: 0.03",
         "type": "scatter3d",
         "x": [
          0.03,
          0.03,
          0.03,
          0.03,
          0.03,
          0.03,
          0.03,
          0.03,
          0.03,
          0.03
         ],
         "y": [
          1,
          2,
          3,
          4,
          5,
          6,
          7,
          8,
          9,
          10
         ],
         "z": [
          0.6359999999999997,
          0.6539999999999997,
          0.6569999999999997,
          0.6599999999999997,
          0.6619999999999997,
          0.6649999999999997,
          0.6679999999999997,
          0.6699999999999997,
          0.6719999999999997,
          0.6739999999999997
         ]
        },
        {
         "line": {
          "color": "#ffe119",
          "width": 1
         },
         "name": "cdp_rate: 0.07 tx_fee: 0.03",
         "type": "scatter3d",
         "x": [
          0.03,
          0.03,
          0.03,
          0.03,
          0.03,
          0.03,
          0.03,
          0.03,
          0.03,
          0.03
         ],
         "y": [
          1,
          2,
          3,
          4,
          5,
          6,
          7,
          8,
          9,
          10
         ],
         "z": [
          0.6469999999999997,
          0.6669999999999997,
          0.6699999999999997,
          0.6729999999999997,
          0.6749999999999997,
          0.6779999999999997,
          0.6799999999999997,
          0.6819999999999997,
          0.6839999999999997,
          0.6859999999999997
         ]
        },
        {
         "line": {
          "color": "#4363d8",
          "width": 1
         },
         "name": "cdp_rate: 0.08 tx_fee: 0.03",
         "type": "scatter3d",
         "x": [
          0.03,
          0.03,
          0.03,
          0.03,
          0.03,
          0.03,
          0.03,
          0.03,
          0.03,
          0.03
         ],
         "y": [
          1,
          2,
          3,
          4,
          5,
          6,
          7,
          8,
          9,
          10
         ],
         "z": [
          0.6599999999999997,
          0.6719999999999997,
          0.6749999999999997,
          0.6779999999999997,
          0.6799999999999997,
          0.6819999999999997,
          0.6839999999999997,
          0.6859999999999997,
          0.6879999999999997,
          0.6899999999999997
         ]
        },
        {
         "line": {
          "color": "#f58231",
          "width": 1
         },
         "name": "cdp_rate: 0.05 tx_fee: 0.04",
         "type": "scatter3d",
         "x": [
          0.04,
          0.04,
          0.04,
          0.04,
          0.04,
          0.04,
          0.04,
          0.04,
          0.04,
          0.04
         ],
         "y": [
          1,
          2,
          3,
          4,
          5,
          6,
          7,
          8,
          9,
          10
         ],
         "z": [
          0.6109999999999997,
          0.6279999999999997,
          0.6319999999999997,
          0.6349999999999997,
          0.6389999999999997,
          0.6409999999999997,
          0.6439999999999997,
          0.6469999999999997,
          0.6489999999999997,
          0.6519999999999997
         ]
        },
        {
         "line": {
          "color": "#911eb4",
          "width": 1
         },
         "name": "cdp_rate: 0.06 tx_fee: 0.04",
         "type": "scatter3d",
         "x": [
          0.04,
          0.04,
          0.04,
          0.04,
          0.04,
          0.04,
          0.04,
          0.04,
          0.04,
          0.04
         ],
         "y": [
          1,
          2,
          3,
          4,
          5,
          6,
          7,
          8,
          9,
          10
         ],
         "z": [
          0.6199999999999997,
          0.6399999999999997,
          0.6449999999999997,
          0.6479999999999997,
          0.6509999999999997,
          0.6529999999999997,
          0.6559999999999997,
          0.6579999999999997,
          0.6599999999999997,
          0.6619999999999997
         ]
        },
        {
         "line": {
          "color": "#e6194b",
          "width": 1
         },
         "name": "cdp_rate: 0.07 tx_fee: 0.04",
         "type": "scatter3d",
         "x": [
          0.04,
          0.04,
          0.04,
          0.04,
          0.04,
          0.04,
          0.04,
          0.04,
          0.04,
          0.04
         ],
         "y": [
          1,
          2,
          3,
          4,
          5,
          6,
          7,
          8,
          9,
          10
         ],
         "z": [
          0.6309999999999997,
          0.6529999999999997,
          0.6579999999999997,
          0.6609999999999997,
          0.6629999999999997,
          0.6659999999999997,
          0.6679999999999997,
          0.6699999999999997,
          0.6719999999999997,
          0.6739999999999997
         ]
        },
        {
         "line": {
          "color": "#3cb44b",
          "width": 1
         },
         "name": "cdp_rate: 0.08 tx_fee: 0.04",
         "type": "scatter3d",
         "x": [
          0.04,
          0.04,
          0.04,
          0.04,
          0.04,
          0.04,
          0.04,
          0.04,
          0.04,
          0.04
         ],
         "y": [
          1,
          2,
          3,
          4,
          5,
          6,
          7,
          8,
          9,
          10
         ],
         "z": [
          0.6429999999999997,
          0.6609999999999997,
          0.6639999999999997,
          0.6669999999999997,
          0.6689999999999997,
          0.6709999999999997,
          0.6729999999999997,
          0.6749999999999997,
          0.6769999999999997,
          0.6789999999999997
         ]
        }
       ],
       "layout": {
        "scene": {
         "xaxis": {
          "title": {
           "text": "Tx Fee"
          }
         },
         "yaxis": {
          "title": {
           "text": "Days"
          }
         },
         "zaxis": {
          "title": {
           "text": "DAI Price"
          }
         }
        },
        "template": {
         "data": {
          "bar": [
           {
            "error_x": {
             "color": "#2a3f5f"
            },
            "error_y": {
             "color": "#2a3f5f"
            },
            "marker": {
             "line": {
              "color": "#E5ECF6",
              "width": 0.5
             }
            },
            "type": "bar"
           }
          ],
          "barpolar": [
           {
            "marker": {
             "line": {
              "color": "#E5ECF6",
              "width": 0.5
             }
            },
            "type": "barpolar"
           }
          ],
          "carpet": [
           {
            "aaxis": {
             "endlinecolor": "#2a3f5f",
             "gridcolor": "white",
             "linecolor": "white",
             "minorgridcolor": "white",
             "startlinecolor": "#2a3f5f"
            },
            "baxis": {
             "endlinecolor": "#2a3f5f",
             "gridcolor": "white",
             "linecolor": "white",
             "minorgridcolor": "white",
             "startlinecolor": "#2a3f5f"
            },
            "type": "carpet"
           }
          ],
          "choropleth": [
           {
            "colorbar": {
             "outlinewidth": 0,
             "ticks": ""
            },
            "type": "choropleth"
           }
          ],
          "contour": [
           {
            "colorbar": {
             "outlinewidth": 0,
             "ticks": ""
            },
            "colorscale": [
             [
              0,
              "#0d0887"
             ],
             [
              0.1111111111111111,
              "#46039f"
             ],
             [
              0.2222222222222222,
              "#7201a8"
             ],
             [
              0.3333333333333333,
              "#9c179e"
             ],
             [
              0.4444444444444444,
              "#bd3786"
             ],
             [
              0.5555555555555556,
              "#d8576b"
             ],
             [
              0.6666666666666666,
              "#ed7953"
             ],
             [
              0.7777777777777778,
              "#fb9f3a"
             ],
             [
              0.8888888888888888,
              "#fdca26"
             ],
             [
              1,
              "#f0f921"
             ]
            ],
            "type": "contour"
           }
          ],
          "contourcarpet": [
           {
            "colorbar": {
             "outlinewidth": 0,
             "ticks": ""
            },
            "type": "contourcarpet"
           }
          ],
          "heatmap": [
           {
            "colorbar": {
             "outlinewidth": 0,
             "ticks": ""
            },
            "colorscale": [
             [
              0,
              "#0d0887"
             ],
             [
              0.1111111111111111,
              "#46039f"
             ],
             [
              0.2222222222222222,
              "#7201a8"
             ],
             [
              0.3333333333333333,
              "#9c179e"
             ],
             [
              0.4444444444444444,
              "#bd3786"
             ],
             [
              0.5555555555555556,
              "#d8576b"
             ],
             [
              0.6666666666666666,
              "#ed7953"
             ],
             [
              0.7777777777777778,
              "#fb9f3a"
             ],
             [
              0.8888888888888888,
              "#fdca26"
             ],
             [
              1,
              "#f0f921"
             ]
            ],
            "type": "heatmap"
           }
          ],
          "heatmapgl": [
           {
            "colorbar": {
             "outlinewidth": 0,
             "ticks": ""
            },
            "colorscale": [
             [
              0,
              "#0d0887"
             ],
             [
              0.1111111111111111,
              "#46039f"
             ],
             [
              0.2222222222222222,
              "#7201a8"
             ],
             [
              0.3333333333333333,
              "#9c179e"
             ],
             [
              0.4444444444444444,
              "#bd3786"
             ],
             [
              0.5555555555555556,
              "#d8576b"
             ],
             [
              0.6666666666666666,
              "#ed7953"
             ],
             [
              0.7777777777777778,
              "#fb9f3a"
             ],
             [
              0.8888888888888888,
              "#fdca26"
             ],
             [
              1,
              "#f0f921"
             ]
            ],
            "type": "heatmapgl"
           }
          ],
          "histogram": [
           {
            "marker": {
             "colorbar": {
              "outlinewidth": 0,
              "ticks": ""
             }
            },
            "type": "histogram"
           }
          ],
          "histogram2d": [
           {
            "colorbar": {
             "outlinewidth": 0,
             "ticks": ""
            },
            "colorscale": [
             [
              0,
              "#0d0887"
             ],
             [
              0.1111111111111111,
              "#46039f"
             ],
             [
              0.2222222222222222,
              "#7201a8"
             ],
             [
              0.3333333333333333,
              "#9c179e"
             ],
             [
              0.4444444444444444,
              "#bd3786"
             ],
             [
              0.5555555555555556,
              "#d8576b"
             ],
             [
              0.6666666666666666,
              "#ed7953"
             ],
             [
              0.7777777777777778,
              "#fb9f3a"
             ],
             [
              0.8888888888888888,
              "#fdca26"
             ],
             [
              1,
              "#f0f921"
             ]
            ],
            "type": "histogram2d"
           }
          ],
          "histogram2dcontour": [
           {
            "colorbar": {
             "outlinewidth": 0,
             "ticks": ""
            },
            "colorscale": [
             [
              0,
              "#0d0887"
             ],
             [
              0.1111111111111111,
              "#46039f"
             ],
             [
              0.2222222222222222,
              "#7201a8"
             ],
             [
              0.3333333333333333,
              "#9c179e"
             ],
             [
              0.4444444444444444,
              "#bd3786"
             ],
             [
              0.5555555555555556,
              "#d8576b"
             ],
             [
              0.6666666666666666,
              "#ed7953"
             ],
             [
              0.7777777777777778,
              "#fb9f3a"
             ],
             [
              0.8888888888888888,
              "#fdca26"
             ],
             [
              1,
              "#f0f921"
             ]
            ],
            "type": "histogram2dcontour"
           }
          ],
          "mesh3d": [
           {
            "colorbar": {
             "outlinewidth": 0,
             "ticks": ""
            },
            "type": "mesh3d"
           }
          ],
          "parcoords": [
           {
            "line": {
             "colorbar": {
              "outlinewidth": 0,
              "ticks": ""
             }
            },
            "type": "parcoords"
           }
          ],
          "pie": [
           {
            "automargin": true,
            "type": "pie"
           }
          ],
          "scatter": [
           {
            "marker": {
             "colorbar": {
              "outlinewidth": 0,
              "ticks": ""
             }
            },
            "type": "scatter"
           }
          ],
          "scatter3d": [
           {
            "line": {
             "colorbar": {
              "outlinewidth": 0,
              "ticks": ""
             }
            },
            "marker": {
             "colorbar": {
              "outlinewidth": 0,
              "ticks": ""
             }
            },
            "type": "scatter3d"
           }
          ],
          "scattercarpet": [
           {
            "marker": {
             "colorbar": {
              "outlinewidth": 0,
              "ticks": ""
             }
            },
            "type": "scattercarpet"
           }
          ],
          "scattergeo": [
           {
            "marker": {
             "colorbar": {
              "outlinewidth": 0,
              "ticks": ""
             }
            },
            "type": "scattergeo"
           }
          ],
          "scattergl": [
           {
            "marker": {
             "colorbar": {
              "outlinewidth": 0,
              "ticks": ""
             }
            },
            "type": "scattergl"
           }
          ],
          "scattermapbox": [
           {
            "marker": {
             "colorbar": {
              "outlinewidth": 0,
              "ticks": ""
             }
            },
            "type": "scattermapbox"
           }
          ],
          "scatterpolar": [
           {
            "marker": {
             "colorbar": {
              "outlinewidth": 0,
              "ticks": ""
             }
            },
            "type": "scatterpolar"
           }
          ],
          "scatterpolargl": [
           {
            "marker": {
             "colorbar": {
              "outlinewidth": 0,
              "ticks": ""
             }
            },
            "type": "scatterpolargl"
           }
          ],
          "scatterternary": [
           {
            "marker": {
             "colorbar": {
              "outlinewidth": 0,
              "ticks": ""
             }
            },
            "type": "scatterternary"
           }
          ],
          "surface": [
           {
            "colorbar": {
             "outlinewidth": 0,
             "ticks": ""
            },
            "colorscale": [
             [
              0,
              "#0d0887"
             ],
             [
              0.1111111111111111,
              "#46039f"
             ],
             [
              0.2222222222222222,
              "#7201a8"
             ],
             [
              0.3333333333333333,
              "#9c179e"
             ],
             [
              0.4444444444444444,
              "#bd3786"
             ],
             [
              0.5555555555555556,
              "#d8576b"
             ],
             [
              0.6666666666666666,
              "#ed7953"
             ],
             [
              0.7777777777777778,
              "#fb9f3a"
             ],
             [
              0.8888888888888888,
              "#fdca26"
             ],
             [
              1,
              "#f0f921"
             ]
            ],
            "type": "surface"
           }
          ],
          "table": [
           {
            "cells": {
             "fill": {
              "color": "#EBF0F8"
             },
             "line": {
              "color": "white"
             }
            },
            "header": {
             "fill": {
              "color": "#C8D4E3"
             },
             "line": {
              "color": "white"
             }
            },
            "type": "table"
           }
          ]
         },
         "layout": {
          "annotationdefaults": {
           "arrowcolor": "#2a3f5f",
           "arrowhead": 0,
           "arrowwidth": 1
          },
          "coloraxis": {
           "colorbar": {
            "outlinewidth": 0,
            "ticks": ""
           }
          },
          "colorscale": {
           "diverging": [
            [
             0,
             "#8e0152"
            ],
            [
             0.1,
             "#c51b7d"
            ],
            [
             0.2,
             "#de77ae"
            ],
            [
             0.3,
             "#f1b6da"
            ],
            [
             0.4,
             "#fde0ef"
            ],
            [
             0.5,
             "#f7f7f7"
            ],
            [
             0.6,
             "#e6f5d0"
            ],
            [
             0.7,
             "#b8e186"
            ],
            [
             0.8,
             "#7fbc41"
            ],
            [
             0.9,
             "#4d9221"
            ],
            [
             1,
             "#276419"
            ]
           ],
           "sequential": [
            [
             0,
             "#0d0887"
            ],
            [
             0.1111111111111111,
             "#46039f"
            ],
            [
             0.2222222222222222,
             "#7201a8"
            ],
            [
             0.3333333333333333,
             "#9c179e"
            ],
            [
             0.4444444444444444,
             "#bd3786"
            ],
            [
             0.5555555555555556,
             "#d8576b"
            ],
            [
             0.6666666666666666,
             "#ed7953"
            ],
            [
             0.7777777777777778,
             "#fb9f3a"
            ],
            [
             0.8888888888888888,
             "#fdca26"
            ],
            [
             1,
             "#f0f921"
            ]
           ],
           "sequentialminus": [
            [
             0,
             "#0d0887"
            ],
            [
             0.1111111111111111,
             "#46039f"
            ],
            [
             0.2222222222222222,
             "#7201a8"
            ],
            [
             0.3333333333333333,
             "#9c179e"
            ],
            [
             0.4444444444444444,
             "#bd3786"
            ],
            [
             0.5555555555555556,
             "#d8576b"
            ],
            [
             0.6666666666666666,
             "#ed7953"
            ],
            [
             0.7777777777777778,
             "#fb9f3a"
            ],
            [
             0.8888888888888888,
             "#fdca26"
            ],
            [
             1,
             "#f0f921"
            ]
           ]
          },
          "colorway": [
           "#636efa",
           "#EF553B",
           "#00cc96",
           "#ab63fa",
           "#FFA15A",
           "#19d3f3",
           "#FF6692",
           "#B6E880",
           "#FF97FF",
           "#FECB52"
          ],
          "font": {
           "color": "#2a3f5f"
          },
          "geo": {
           "bgcolor": "white",
           "lakecolor": "white",
           "landcolor": "#E5ECF6",
           "showlakes": true,
           "showland": true,
           "subunitcolor": "white"
          },
          "hoverlabel": {
           "align": "left"
          },
          "hovermode": "closest",
          "mapbox": {
           "style": "light"
          },
          "paper_bgcolor": "white",
          "plot_bgcolor": "#E5ECF6",
          "polar": {
           "angularaxis": {
            "gridcolor": "white",
            "linecolor": "white",
            "ticks": ""
           },
           "bgcolor": "#E5ECF6",
           "radialaxis": {
            "gridcolor": "white",
            "linecolor": "white",
            "ticks": ""
           }
          },
          "scene": {
           "xaxis": {
            "backgroundcolor": "#E5ECF6",
            "gridcolor": "white",
            "gridwidth": 2,
            "linecolor": "white",
            "showbackground": true,
            "ticks": "",
            "zerolinecolor": "white"
           },
           "yaxis": {
            "backgroundcolor": "#E5ECF6",
            "gridcolor": "white",
            "gridwidth": 2,
            "linecolor": "white",
            "showbackground": true,
            "ticks": "",
            "zerolinecolor": "white"
           },
           "zaxis": {
            "backgroundcolor": "#E5ECF6",
            "gridcolor": "white",
            "gridwidth": 2,
            "linecolor": "white",
            "showbackground": true,
            "ticks": "",
            "zerolinecolor": "white"
           }
          },
          "shapedefaults": {
           "line": {
            "color": "#2a3f5f"
           }
          },
          "ternary": {
           "aaxis": {
            "gridcolor": "white",
            "linecolor": "white",
            "ticks": ""
           },
           "baxis": {
            "gridcolor": "white",
            "linecolor": "white",
            "ticks": ""
           },
           "bgcolor": "#E5ECF6",
           "caxis": {
            "gridcolor": "white",
            "linecolor": "white",
            "ticks": ""
           }
          },
          "title": {
           "x": 0.05
          },
          "xaxis": {
           "automargin": true,
           "gridcolor": "white",
           "linecolor": "white",
           "ticks": "",
           "title": {
            "standoff": 15
           },
           "zerolinecolor": "white",
           "zerolinewidth": 2
          },
          "yaxis": {
           "automargin": true,
           "gridcolor": "white",
           "linecolor": "white",
           "ticks": "",
           "title": {
            "standoff": 15
           },
           "zerolinecolor": "white",
           "zerolinewidth": 2
          }
         }
        }
       }
      },
      "text/html": [
       "<div>\n",
       "        \n",
       "        \n",
       "            <div id=\"fab69ae5-dc80-40ba-8286-5e3c44c70003\" class=\"plotly-graph-div\" style=\"height:525px; width:100%;\"></div>\n",
       "            <script type=\"text/javascript\">\n",
       "                require([\"plotly\"], function(Plotly) {\n",
       "                    window.PLOTLYENV=window.PLOTLYENV || {};\n",
       "                    \n",
       "                if (document.getElementById(\"fab69ae5-dc80-40ba-8286-5e3c44c70003\")) {\n",
       "                    Plotly.newPlot(\n",
       "                        'fab69ae5-dc80-40ba-8286-5e3c44c70003',\n",
       "                        [{\"line\": {\"color\": \"#e6194b\", \"width\": 1}, \"name\": \"cdp_rate: 0.05 tx_fee: 0.0\", \"type\": \"scatter3d\", \"x\": [0.0, 0.0, 0.0, 0.0, 0.0, 0.0, 0.0, 0.0, 0.0, 0.0], \"y\": [1, 2, 3, 4, 5, 6, 7, 8, 9, 10], \"z\": [0.6769999999999997, 0.6809999999999997, 0.6839999999999997, 0.6869999999999997, 0.6889999999999997, 0.6919999999999997, 0.6949999999999997, 0.6969999999999997, 0.6989999999999997, 0.7009999999999997]}, {\"line\": {\"color\": \"#3cb44b\", \"width\": 1}, \"name\": \"cdp_rate: 0.06 tx_fee: 0.0\", \"type\": \"scatter3d\", \"x\": [0.0, 0.0, 0.0, 0.0, 0.0, 0.0, 0.0, 0.0, 0.0, 0.0], \"y\": [1, 2, 3, 4, 5, 6, 7, 8, 9, 10], \"z\": [0.6899999999999997, 0.6929999999999997, 0.6959999999999997, 0.6979999999999997, 0.7009999999999997, 0.7029999999999997, 0.7049999999999997, 0.7069999999999997, 0.7089999999999997, 0.7109999999999997]}, {\"line\": {\"color\": \"#ffe119\", \"width\": 1}, \"name\": \"cdp_rate: 0.07 tx_fee: 0.0\", \"type\": \"scatter3d\", \"x\": [0.0, 0.0, 0.0, 0.0, 0.0, 0.0, 0.0, 0.0, 0.0, 0.0], \"y\": [1, 2, 3, 4, 5, 6, 7, 8, 9, 10], \"z\": [0.6989999999999997, 0.7019999999999997, 0.7049999999999997, 0.7069999999999997, 0.7089999999999997, 0.7109999999999997, 0.7139999999999997, 0.7159999999999997, 0.7169999999999997, 0.7189999999999998]}, {\"line\": {\"color\": \"#4363d8\", \"width\": 1}, \"name\": \"cdp_rate: 0.08 tx_fee: 0.0\", \"type\": \"scatter3d\", \"x\": [0.0, 0.0, 0.0, 0.0, 0.0, 0.0, 0.0, 0.0, 0.0, 0.0], \"y\": [1, 2, 3, 4, 5, 6, 7, 8, 9, 10], \"z\": [0.7069999999999997, 0.7089999999999997, 0.7119999999999997, 0.7139999999999997, 0.7159999999999997, 0.7179999999999997, 0.7199999999999998, 0.7219999999999998, 0.7229999999999998, 0.7249999999999998]}, {\"line\": {\"color\": \"#f58231\", \"width\": 1}, \"name\": \"cdp_rate: 0.05 tx_fee: 0.01\", \"type\": \"scatter3d\", \"x\": [0.01, 0.01, 0.01, 0.01, 0.01, 0.01, 0.01, 0.01, 0.01, 0.01], \"y\": [1, 2, 3, 4, 5, 6, 7, 8, 9, 10], \"z\": [0.6559999999999997, 0.6669999999999997, 0.6709999999999997, 0.6739999999999997, 0.6759999999999997, 0.6799999999999997, 0.6819999999999997, 0.6839999999999997, 0.6869999999999997, 0.6889999999999997]}, {\"line\": {\"color\": \"#911eb4\", \"width\": 1}, \"name\": \"cdp_rate: 0.06 tx_fee: 0.01\", \"type\": \"scatter3d\", \"x\": [0.01, 0.01, 0.01, 0.01, 0.01, 0.01, 0.01, 0.01, 0.01, 0.01], \"y\": [1, 2, 3, 4, 5, 6, 7, 8, 9, 10], \"z\": [0.6679999999999997, 0.6789999999999997, 0.6829999999999997, 0.6859999999999997, 0.6889999999999997, 0.6909999999999997, 0.6929999999999997, 0.6959999999999997, 0.6979999999999997, 0.6999999999999997]}, {\"line\": {\"color\": \"#e6194b\", \"width\": 1}, \"name\": \"cdp_rate: 0.07 tx_fee: 0.01\", \"type\": \"scatter3d\", \"x\": [0.01, 0.01, 0.01, 0.01, 0.01, 0.01, 0.01, 0.01, 0.01, 0.01], \"y\": [1, 2, 3, 4, 5, 6, 7, 8, 9, 10], \"z\": [0.6809999999999997, 0.6889999999999997, 0.6919999999999997, 0.6939999999999997, 0.6969999999999997, 0.6999999999999997, 0.7019999999999997, 0.7039999999999997, 0.7059999999999997, 0.7079999999999997]}, {\"line\": {\"color\": \"#3cb44b\", \"width\": 1}, \"name\": \"cdp_rate: 0.08 tx_fee: 0.01\", \"type\": \"scatter3d\", \"x\": [0.01, 0.01, 0.01, 0.01, 0.01, 0.01, 0.01, 0.01, 0.01, 0.01], \"y\": [1, 2, 3, 4, 5, 6, 7, 8, 9, 10], \"z\": [0.6879999999999997, 0.6949999999999997, 0.6979999999999997, 0.7009999999999997, 0.7029999999999997, 0.7049999999999997, 0.7069999999999997, 0.7089999999999997, 0.7109999999999997, 0.7129999999999997]}, {\"line\": {\"color\": \"#ffe119\", \"width\": 1}, \"name\": \"cdp_rate: 0.05 tx_fee: 0.02\", \"type\": \"scatter3d\", \"x\": [0.02, 0.02, 0.02, 0.02, 0.02, 0.02, 0.02, 0.02, 0.02, 0.02], \"y\": [1, 2, 3, 4, 5, 6, 7, 8, 9, 10], \"z\": [0.6409999999999997, 0.6539999999999997, 0.6569999999999997, 0.6609999999999997, 0.6629999999999997, 0.6659999999999997, 0.6689999999999997, 0.6709999999999997, 0.6739999999999997, 0.6759999999999997]}, {\"line\": {\"color\": \"#4363d8\", \"width\": 1}, \"name\": \"cdp_rate: 0.06 tx_fee: 0.02\", \"type\": \"scatter3d\", \"x\": [0.02, 0.02, 0.02, 0.02, 0.02, 0.02, 0.02, 0.02, 0.02, 0.02], \"y\": [1, 2, 3, 4, 5, 6, 7, 8, 9, 10], \"z\": [0.6509999999999997, 0.6659999999999997, 0.6699999999999997, 0.6729999999999997, 0.6759999999999997, 0.6779999999999997, 0.6809999999999997, 0.6829999999999997, 0.6849999999999997, 0.6869999999999997]}, {\"line\": {\"color\": \"#f58231\", \"width\": 1}, \"name\": \"cdp_rate: 0.07 tx_fee: 0.02\", \"type\": \"scatter3d\", \"x\": [0.02, 0.02, 0.02, 0.02, 0.02, 0.02, 0.02, 0.02, 0.02, 0.02], \"y\": [1, 2, 3, 4, 5, 6, 7, 8, 9, 10], \"z\": [0.6629999999999997, 0.6789999999999997, 0.6819999999999997, 0.6839999999999997, 0.6869999999999997, 0.6889999999999997, 0.6909999999999997, 0.6929999999999997, 0.6959999999999997, 0.6969999999999997]}, {\"line\": {\"color\": \"#911eb4\", \"width\": 1}, \"name\": \"cdp_rate: 0.08 tx_fee: 0.02\", \"type\": \"scatter3d\", \"x\": [0.02, 0.02, 0.02, 0.02, 0.02, 0.02, 0.02, 0.02, 0.02, 0.02], \"y\": [1, 2, 3, 4, 5, 6, 7, 8, 9, 10], \"z\": [0.6739999999999997, 0.6839999999999997, 0.6869999999999997, 0.6889999999999997, 0.6919999999999997, 0.6939999999999997, 0.6959999999999997, 0.6979999999999997, 0.6999999999999997, 0.7009999999999997]}, {\"line\": {\"color\": \"#e6194b\", \"width\": 1}, \"name\": \"cdp_rate: 0.05 tx_fee: 0.03\", \"type\": \"scatter3d\", \"x\": [0.03, 0.03, 0.03, 0.03, 0.03, 0.03, 0.03, 0.03, 0.03, 0.03], \"y\": [1, 2, 3, 4, 5, 6, 7, 8, 9, 10], \"z\": [0.6269999999999997, 0.6409999999999997, 0.6449999999999997, 0.6479999999999997, 0.6509999999999997, 0.6529999999999997, 0.6569999999999997, 0.6589999999999997, 0.6609999999999997, 0.6639999999999997]}, {\"line\": {\"color\": \"#3cb44b\", \"width\": 1}, \"name\": \"cdp_rate: 0.06 tx_fee: 0.03\", \"type\": \"scatter3d\", \"x\": [0.03, 0.03, 0.03, 0.03, 0.03, 0.03, 0.03, 0.03, 0.03, 0.03], \"y\": [1, 2, 3, 4, 5, 6, 7, 8, 9, 10], \"z\": [0.6359999999999997, 0.6539999999999997, 0.6569999999999997, 0.6599999999999997, 0.6619999999999997, 0.6649999999999997, 0.6679999999999997, 0.6699999999999997, 0.6719999999999997, 0.6739999999999997]}, {\"line\": {\"color\": \"#ffe119\", \"width\": 1}, \"name\": \"cdp_rate: 0.07 tx_fee: 0.03\", \"type\": \"scatter3d\", \"x\": [0.03, 0.03, 0.03, 0.03, 0.03, 0.03, 0.03, 0.03, 0.03, 0.03], \"y\": [1, 2, 3, 4, 5, 6, 7, 8, 9, 10], \"z\": [0.6469999999999997, 0.6669999999999997, 0.6699999999999997, 0.6729999999999997, 0.6749999999999997, 0.6779999999999997, 0.6799999999999997, 0.6819999999999997, 0.6839999999999997, 0.6859999999999997]}, {\"line\": {\"color\": \"#4363d8\", \"width\": 1}, \"name\": \"cdp_rate: 0.08 tx_fee: 0.03\", \"type\": \"scatter3d\", \"x\": [0.03, 0.03, 0.03, 0.03, 0.03, 0.03, 0.03, 0.03, 0.03, 0.03], \"y\": [1, 2, 3, 4, 5, 6, 7, 8, 9, 10], \"z\": [0.6599999999999997, 0.6719999999999997, 0.6749999999999997, 0.6779999999999997, 0.6799999999999997, 0.6819999999999997, 0.6839999999999997, 0.6859999999999997, 0.6879999999999997, 0.6899999999999997]}, {\"line\": {\"color\": \"#f58231\", \"width\": 1}, \"name\": \"cdp_rate: 0.05 tx_fee: 0.04\", \"type\": \"scatter3d\", \"x\": [0.04, 0.04, 0.04, 0.04, 0.04, 0.04, 0.04, 0.04, 0.04, 0.04], \"y\": [1, 2, 3, 4, 5, 6, 7, 8, 9, 10], \"z\": [0.6109999999999997, 0.6279999999999997, 0.6319999999999997, 0.6349999999999997, 0.6389999999999997, 0.6409999999999997, 0.6439999999999997, 0.6469999999999997, 0.6489999999999997, 0.6519999999999997]}, {\"line\": {\"color\": \"#911eb4\", \"width\": 1}, \"name\": \"cdp_rate: 0.06 tx_fee: 0.04\", \"type\": \"scatter3d\", \"x\": [0.04, 0.04, 0.04, 0.04, 0.04, 0.04, 0.04, 0.04, 0.04, 0.04], \"y\": [1, 2, 3, 4, 5, 6, 7, 8, 9, 10], \"z\": [0.6199999999999997, 0.6399999999999997, 0.6449999999999997, 0.6479999999999997, 0.6509999999999997, 0.6529999999999997, 0.6559999999999997, 0.6579999999999997, 0.6599999999999997, 0.6619999999999997]}, {\"line\": {\"color\": \"#e6194b\", \"width\": 1}, \"name\": \"cdp_rate: 0.07 tx_fee: 0.04\", \"type\": \"scatter3d\", \"x\": [0.04, 0.04, 0.04, 0.04, 0.04, 0.04, 0.04, 0.04, 0.04, 0.04], \"y\": [1, 2, 3, 4, 5, 6, 7, 8, 9, 10], \"z\": [0.6309999999999997, 0.6529999999999997, 0.6579999999999997, 0.6609999999999997, 0.6629999999999997, 0.6659999999999997, 0.6679999999999997, 0.6699999999999997, 0.6719999999999997, 0.6739999999999997]}, {\"line\": {\"color\": \"#3cb44b\", \"width\": 1}, \"name\": \"cdp_rate: 0.08 tx_fee: 0.04\", \"type\": \"scatter3d\", \"x\": [0.04, 0.04, 0.04, 0.04, 0.04, 0.04, 0.04, 0.04, 0.04, 0.04], \"y\": [1, 2, 3, 4, 5, 6, 7, 8, 9, 10], \"z\": [0.6429999999999997, 0.6609999999999997, 0.6639999999999997, 0.6669999999999997, 0.6689999999999997, 0.6709999999999997, 0.6729999999999997, 0.6749999999999997, 0.6769999999999997, 0.6789999999999997]}],\n",
       "                        {\"scene\": {\"xaxis\": {\"title\": {\"text\": \"Tx Fee\"}}, \"yaxis\": {\"title\": {\"text\": \"Days\"}}, \"zaxis\": {\"title\": {\"text\": \"DAI Price\"}}}, \"template\": {\"data\": {\"bar\": [{\"error_x\": {\"color\": \"#2a3f5f\"}, \"error_y\": {\"color\": \"#2a3f5f\"}, \"marker\": {\"line\": {\"color\": \"#E5ECF6\", \"width\": 0.5}}, \"type\": \"bar\"}], \"barpolar\": [{\"marker\": {\"line\": {\"color\": \"#E5ECF6\", \"width\": 0.5}}, \"type\": \"barpolar\"}], \"carpet\": [{\"aaxis\": {\"endlinecolor\": \"#2a3f5f\", \"gridcolor\": \"white\", \"linecolor\": \"white\", \"minorgridcolor\": \"white\", \"startlinecolor\": \"#2a3f5f\"}, \"baxis\": {\"endlinecolor\": \"#2a3f5f\", \"gridcolor\": \"white\", \"linecolor\": \"white\", \"minorgridcolor\": \"white\", \"startlinecolor\": \"#2a3f5f\"}, \"type\": \"carpet\"}], \"choropleth\": [{\"colorbar\": {\"outlinewidth\": 0, \"ticks\": \"\"}, \"type\": \"choropleth\"}], \"contour\": [{\"colorbar\": {\"outlinewidth\": 0, \"ticks\": \"\"}, \"colorscale\": [[0.0, \"#0d0887\"], [0.1111111111111111, \"#46039f\"], [0.2222222222222222, \"#7201a8\"], [0.3333333333333333, \"#9c179e\"], [0.4444444444444444, \"#bd3786\"], [0.5555555555555556, \"#d8576b\"], [0.6666666666666666, \"#ed7953\"], [0.7777777777777778, \"#fb9f3a\"], [0.8888888888888888, \"#fdca26\"], [1.0, \"#f0f921\"]], \"type\": \"contour\"}], \"contourcarpet\": [{\"colorbar\": {\"outlinewidth\": 0, \"ticks\": \"\"}, \"type\": \"contourcarpet\"}], \"heatmap\": [{\"colorbar\": {\"outlinewidth\": 0, \"ticks\": \"\"}, \"colorscale\": [[0.0, \"#0d0887\"], [0.1111111111111111, \"#46039f\"], [0.2222222222222222, \"#7201a8\"], [0.3333333333333333, \"#9c179e\"], [0.4444444444444444, \"#bd3786\"], [0.5555555555555556, \"#d8576b\"], [0.6666666666666666, \"#ed7953\"], [0.7777777777777778, \"#fb9f3a\"], [0.8888888888888888, \"#fdca26\"], [1.0, \"#f0f921\"]], \"type\": \"heatmap\"}], \"heatmapgl\": [{\"colorbar\": {\"outlinewidth\": 0, \"ticks\": \"\"}, \"colorscale\": [[0.0, \"#0d0887\"], [0.1111111111111111, \"#46039f\"], [0.2222222222222222, \"#7201a8\"], [0.3333333333333333, \"#9c179e\"], [0.4444444444444444, \"#bd3786\"], [0.5555555555555556, \"#d8576b\"], [0.6666666666666666, \"#ed7953\"], [0.7777777777777778, \"#fb9f3a\"], [0.8888888888888888, \"#fdca26\"], [1.0, \"#f0f921\"]], \"type\": \"heatmapgl\"}], \"histogram\": [{\"marker\": {\"colorbar\": {\"outlinewidth\": 0, \"ticks\": \"\"}}, \"type\": \"histogram\"}], \"histogram2d\": [{\"colorbar\": {\"outlinewidth\": 0, \"ticks\": \"\"}, \"colorscale\": [[0.0, \"#0d0887\"], [0.1111111111111111, \"#46039f\"], [0.2222222222222222, \"#7201a8\"], [0.3333333333333333, \"#9c179e\"], [0.4444444444444444, \"#bd3786\"], [0.5555555555555556, \"#d8576b\"], [0.6666666666666666, \"#ed7953\"], [0.7777777777777778, \"#fb9f3a\"], [0.8888888888888888, \"#fdca26\"], [1.0, \"#f0f921\"]], \"type\": \"histogram2d\"}], \"histogram2dcontour\": [{\"colorbar\": {\"outlinewidth\": 0, \"ticks\": \"\"}, \"colorscale\": [[0.0, \"#0d0887\"], [0.1111111111111111, \"#46039f\"], [0.2222222222222222, \"#7201a8\"], [0.3333333333333333, \"#9c179e\"], [0.4444444444444444, \"#bd3786\"], [0.5555555555555556, \"#d8576b\"], [0.6666666666666666, \"#ed7953\"], [0.7777777777777778, \"#fb9f3a\"], [0.8888888888888888, \"#fdca26\"], [1.0, \"#f0f921\"]], \"type\": \"histogram2dcontour\"}], \"mesh3d\": [{\"colorbar\": {\"outlinewidth\": 0, \"ticks\": \"\"}, \"type\": \"mesh3d\"}], \"parcoords\": [{\"line\": {\"colorbar\": {\"outlinewidth\": 0, \"ticks\": \"\"}}, \"type\": \"parcoords\"}], \"pie\": [{\"automargin\": true, \"type\": \"pie\"}], \"scatter\": [{\"marker\": {\"colorbar\": {\"outlinewidth\": 0, \"ticks\": \"\"}}, \"type\": \"scatter\"}], \"scatter3d\": [{\"line\": {\"colorbar\": {\"outlinewidth\": 0, \"ticks\": \"\"}}, \"marker\": {\"colorbar\": {\"outlinewidth\": 0, \"ticks\": \"\"}}, \"type\": \"scatter3d\"}], \"scattercarpet\": [{\"marker\": {\"colorbar\": {\"outlinewidth\": 0, \"ticks\": \"\"}}, \"type\": \"scattercarpet\"}], \"scattergeo\": [{\"marker\": {\"colorbar\": {\"outlinewidth\": 0, \"ticks\": \"\"}}, \"type\": \"scattergeo\"}], \"scattergl\": [{\"marker\": {\"colorbar\": {\"outlinewidth\": 0, \"ticks\": \"\"}}, \"type\": \"scattergl\"}], \"scattermapbox\": [{\"marker\": {\"colorbar\": {\"outlinewidth\": 0, \"ticks\": \"\"}}, \"type\": \"scattermapbox\"}], \"scatterpolar\": [{\"marker\": {\"colorbar\": {\"outlinewidth\": 0, \"ticks\": \"\"}}, \"type\": \"scatterpolar\"}], \"scatterpolargl\": [{\"marker\": {\"colorbar\": {\"outlinewidth\": 0, \"ticks\": \"\"}}, \"type\": \"scatterpolargl\"}], \"scatterternary\": [{\"marker\": {\"colorbar\": {\"outlinewidth\": 0, \"ticks\": \"\"}}, \"type\": \"scatterternary\"}], \"surface\": [{\"colorbar\": {\"outlinewidth\": 0, \"ticks\": \"\"}, \"colorscale\": [[0.0, \"#0d0887\"], [0.1111111111111111, \"#46039f\"], [0.2222222222222222, \"#7201a8\"], [0.3333333333333333, \"#9c179e\"], [0.4444444444444444, \"#bd3786\"], [0.5555555555555556, \"#d8576b\"], [0.6666666666666666, \"#ed7953\"], [0.7777777777777778, \"#fb9f3a\"], [0.8888888888888888, \"#fdca26\"], [1.0, \"#f0f921\"]], \"type\": \"surface\"}], \"table\": [{\"cells\": {\"fill\": {\"color\": \"#EBF0F8\"}, \"line\": {\"color\": \"white\"}}, \"header\": {\"fill\": {\"color\": \"#C8D4E3\"}, \"line\": {\"color\": \"white\"}}, \"type\": \"table\"}]}, \"layout\": {\"annotationdefaults\": {\"arrowcolor\": \"#2a3f5f\", \"arrowhead\": 0, \"arrowwidth\": 1}, \"coloraxis\": {\"colorbar\": {\"outlinewidth\": 0, \"ticks\": \"\"}}, \"colorscale\": {\"diverging\": [[0, \"#8e0152\"], [0.1, \"#c51b7d\"], [0.2, \"#de77ae\"], [0.3, \"#f1b6da\"], [0.4, \"#fde0ef\"], [0.5, \"#f7f7f7\"], [0.6, \"#e6f5d0\"], [0.7, \"#b8e186\"], [0.8, \"#7fbc41\"], [0.9, \"#4d9221\"], [1, \"#276419\"]], \"sequential\": [[0.0, \"#0d0887\"], [0.1111111111111111, \"#46039f\"], [0.2222222222222222, \"#7201a8\"], [0.3333333333333333, \"#9c179e\"], [0.4444444444444444, \"#bd3786\"], [0.5555555555555556, \"#d8576b\"], [0.6666666666666666, \"#ed7953\"], [0.7777777777777778, \"#fb9f3a\"], [0.8888888888888888, \"#fdca26\"], [1.0, \"#f0f921\"]], \"sequentialminus\": [[0.0, \"#0d0887\"], [0.1111111111111111, \"#46039f\"], [0.2222222222222222, \"#7201a8\"], [0.3333333333333333, \"#9c179e\"], [0.4444444444444444, \"#bd3786\"], [0.5555555555555556, \"#d8576b\"], [0.6666666666666666, \"#ed7953\"], [0.7777777777777778, \"#fb9f3a\"], [0.8888888888888888, \"#fdca26\"], [1.0, \"#f0f921\"]]}, \"colorway\": [\"#636efa\", \"#EF553B\", \"#00cc96\", \"#ab63fa\", \"#FFA15A\", \"#19d3f3\", \"#FF6692\", \"#B6E880\", \"#FF97FF\", \"#FECB52\"], \"font\": {\"color\": \"#2a3f5f\"}, \"geo\": {\"bgcolor\": \"white\", \"lakecolor\": \"white\", \"landcolor\": \"#E5ECF6\", \"showlakes\": true, \"showland\": true, \"subunitcolor\": \"white\"}, \"hoverlabel\": {\"align\": \"left\"}, \"hovermode\": \"closest\", \"mapbox\": {\"style\": \"light\"}, \"paper_bgcolor\": \"white\", \"plot_bgcolor\": \"#E5ECF6\", \"polar\": {\"angularaxis\": {\"gridcolor\": \"white\", \"linecolor\": \"white\", \"ticks\": \"\"}, \"bgcolor\": \"#E5ECF6\", \"radialaxis\": {\"gridcolor\": \"white\", \"linecolor\": \"white\", \"ticks\": \"\"}}, \"scene\": {\"xaxis\": {\"backgroundcolor\": \"#E5ECF6\", \"gridcolor\": \"white\", \"gridwidth\": 2, \"linecolor\": \"white\", \"showbackground\": true, \"ticks\": \"\", \"zerolinecolor\": \"white\"}, \"yaxis\": {\"backgroundcolor\": \"#E5ECF6\", \"gridcolor\": \"white\", \"gridwidth\": 2, \"linecolor\": \"white\", \"showbackground\": true, \"ticks\": \"\", \"zerolinecolor\": \"white\"}, \"zaxis\": {\"backgroundcolor\": \"#E5ECF6\", \"gridcolor\": \"white\", \"gridwidth\": 2, \"linecolor\": \"white\", \"showbackground\": true, \"ticks\": \"\", \"zerolinecolor\": \"white\"}}, \"shapedefaults\": {\"line\": {\"color\": \"#2a3f5f\"}}, \"ternary\": {\"aaxis\": {\"gridcolor\": \"white\", \"linecolor\": \"white\", \"ticks\": \"\"}, \"baxis\": {\"gridcolor\": \"white\", \"linecolor\": \"white\", \"ticks\": \"\"}, \"bgcolor\": \"#E5ECF6\", \"caxis\": {\"gridcolor\": \"white\", \"linecolor\": \"white\", \"ticks\": \"\"}}, \"title\": {\"x\": 0.05}, \"xaxis\": {\"automargin\": true, \"gridcolor\": \"white\", \"linecolor\": \"white\", \"ticks\": \"\", \"title\": {\"standoff\": 15}, \"zerolinecolor\": \"white\", \"zerolinewidth\": 2}, \"yaxis\": {\"automargin\": true, \"gridcolor\": \"white\", \"linecolor\": \"white\", \"ticks\": \"\", \"title\": {\"standoff\": 15}, \"zerolinecolor\": \"white\", \"zerolinewidth\": 2}}}},\n",
       "                        {\"responsive\": true}\n",
       "                    ).then(function(){\n",
       "                            \n",
       "var gd = document.getElementById('fab69ae5-dc80-40ba-8286-5e3c44c70003');\n",
       "var x = new MutationObserver(function (mutations, observer) {{\n",
       "        var display = window.getComputedStyle(gd).display;\n",
       "        if (!display || display === 'none') {{\n",
       "            console.log([gd, 'removed!']);\n",
       "            Plotly.purge(gd);\n",
       "            observer.disconnect();\n",
       "        }}\n",
       "}});\n",
       "\n",
       "// Listen for the removal of the full notebook cells\n",
       "var notebookContainer = gd.closest('#notebook-container');\n",
       "if (notebookContainer) {{\n",
       "    x.observe(notebookContainer, {childList: true});\n",
       "}}\n",
       "\n",
       "// Listen for the clearing of the current output cell\n",
       "var outputEl = gd.closest('.output');\n",
       "if (outputEl) {{\n",
       "    x.observe(outputEl, {childList: true});\n",
       "}}\n",
       "\n",
       "                        })\n",
       "                };\n",
       "                });\n",
       "            </script>\n",
       "        </div>"
      ]
     },
     "metadata": {},
     "output_type": "display_data"
    }
   ],
   "source": [
    "plotWithTXF(txf_axis, cdp_axis, dai_price_history_axis, \"Tx Fee\", \"Days\", \"DAI Price\")"
   ]
  },
  {
   "cell_type": "code",
   "execution_count": null,
   "metadata": {},
   "outputs": [],
   "source": []
  },
  {
   "cell_type": "code",
   "execution_count": null,
   "metadata": {},
   "outputs": [],
   "source": []
  }
 ],
 "metadata": {
  "kernelspec": {
   "display_name": "venv",
   "language": "python",
   "name": "venv"
  },
  "language_info": {
   "codemirror_mode": {
    "name": "ipython",
    "version": 3
   },
   "file_extension": ".py",
   "mimetype": "text/x-python",
   "name": "python",
   "nbconvert_exporter": "python",
   "pygments_lexer": "ipython3",
   "version": "3.8.2"
  }
 },
 "nbformat": 4,
 "nbformat_minor": 2
}
